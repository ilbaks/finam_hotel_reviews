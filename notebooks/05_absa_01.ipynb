{
 "cells": [
  {
   "cell_type": "markdown",
   "metadata": {},
   "source": [
    "# Aspect based sentiment analyses part_01"
   ]
  },
  {
   "cell_type": "markdown",
   "metadata": {},
   "source": [
    "## Постановка задачи"
   ]
  },
  {
   "cell_type": "markdown",
   "metadata": {},
   "source": [
    "В начальной ноуте были расмотренны разные постановки задачи для отзывов об отелях. Но все постановки могли бы пренести bussiness value. И в тоже время, если посмотреть на данные, то видно, что решать задачу классификации, когда данные однородны, сомнительно. Так же это подтверждается тем, что ембеддинге не дают нам ощутимого семантического различия.\n",
    "Отсюда сделан вывод, что  отзывы об отелях можно рассматривать в контексте постановки задачи aspect based sentiment analyses."
   ]
  },
  {
   "cell_type": "markdown",
   "metadata": {},
   "source": [
    "## Черновой дизайн решения"
   ]
  },
  {
   "cell_type": "markdown",
   "metadata": {},
   "source": [
    "- Так как данные у нас не размечены, то сначал разметим часть данных. Размечать данные будем через платный api gpt-4, на первом этапе 100 сэмплов, с исползованием фреймворка LangChaing.\n",
    "- Дальше, мы обучим open-source модель.\n",
    "- Автоматическую категоризацию аспектов будем делать через модели класса sentence-transformers.\n",
    "- Замерять качество будем случайным сэмплированием через gpt-4.  "
   ]
  },
  {
   "cell_type": "markdown",
   "metadata": {},
   "source": [
    "## Выводы"
   ]
  },
  {
   "cell_type": "markdown",
   "metadata": {},
   "source": [
    "- разметка через чат GPT-4 обошлась 6 долларов на 200 отзывов\n",
    "- если бы рзамечали 6_000 отзывов, 180 долларов\n",
    "- так как текст системного промпта значительный относительно текст отзыва, то можно в дальнейшем оптимизировать. "
   ]
  },
  {
   "cell_type": "markdown",
   "metadata": {},
   "source": [
    "## Следующий шаг"
   ]
  },
  {
   "cell_type": "markdown",
   "metadata": {},
   "source": [
    "- оценить качество разметки"
   ]
  },
  {
   "cell_type": "markdown",
   "metadata": {},
   "source": [
    "## Imports"
   ]
  },
  {
   "cell_type": "code",
   "execution_count": 1,
   "metadata": {},
   "outputs": [],
   "source": [
    "import os\n",
    "from dotenv import load_dotenv\n",
    "from pathlib import Path"
   ]
  },
  {
   "cell_type": "markdown",
   "metadata": {},
   "source": [
    "## Intialization"
   ]
  },
  {
   "cell_type": "code",
   "execution_count": 2,
   "metadata": {},
   "outputs": [
    {
     "name": "stdout",
     "output_type": "stream",
     "text": [
      "d:\\Projects\\finam_hotel_reviews\\notebooks\n"
     ]
    }
   ],
   "source": [
    "def find_project_root() -> Path:\n",
    "\n",
    "    start_path = Path.cwd()\n",
    "    for parent in start_path.parents:\n",
    "        if (parent / \".git\").exists() or (parent / \"pyproject.toml\").exists() or (parent / \"setup.py\").exists():\n",
    "            return parent\n",
    "    return start_path  # Fallback: if no marker is found, return the original path\n",
    "\n",
    "\n",
    "# Get the project root automatically\n",
    "PROJECT_ROOT = find_project_root()\n",
    "print(Path.cwd())"
   ]
  },
  {
   "cell_type": "code",
   "execution_count": null,
   "metadata": {},
   "outputs": [
    {
     "name": "stdout",
     "output_type": "stream",
     "text": [
      "Environment variables loaded successfully\n"
     ]
    }
   ],
   "source": [
    "ENV = os.getenv(\"ENV\", \"development\")\n",
    "\n",
    "# Загружаем переменные среды для режима разработки\n",
    "if ENV == \"development\":\n",
    "    env_path = Path(PROJECT_ROOT) / \"configs\" / \".env.development\"\n",
    "    try:\n",
    "        load_dotenv(env_path, override=False)\n",
    "        print(\"Environment variables loaded successfully\")\n",
    "    except Exception as e:\n",
    "        print(f\"Error loading environment variables: {e}\")\n",
    "OPENAI_API_KEY = os.getenv(\"OPENAI_API_KEY\")"
   ]
  },
  {
   "cell_type": "markdown",
   "metadata": {},
   "source": [
    "## Load data"
   ]
  },
  {
   "cell_type": "code",
   "execution_count": null,
   "metadata": {},
   "outputs": [
    {
     "data": {
      "application/vnd.microsoft.datawrangler.viewer.v0+json": {
       "columns": [
        {
         "name": "index",
         "rawType": "int64",
         "type": "integer"
        },
        {
         "name": "review_id",
         "rawType": "int64",
         "type": "integer"
        },
        {
         "name": "review_text",
         "rawType": "object",
         "type": "string"
        }
       ],
       "conversionMethod": "pd.DataFrame",
       "ref": "0148d43d-e77c-43c5-a85b-cabbb0001590",
       "rows": [
        [
         "0",
         "1",
         "Элегантный отель в самом центре Дубай. Красивые и стильные номера. И жуткие цены) До посещения отеля рекомендуется ограбить банк или неожиданно разбогатеть)))Это пишу чтобы набрать 200 символов))))))"
        ],
        [
         "1",
         "2",
         "Если стиль вашей поездки в Дубай-- это шоппинг в Дубай молле, созерцание фонтана и гастрономический ужин-- не пожалейте денег \"усилить\" все эти ощущения номером с видом на фонтан в отеле Armani. Это просто супер. Номера находятся на нижних этажах Burj Khalifa, поэтому вид на фонтан оттуда точно лучше, чем с улицы около, и даже лучше, чем с крыши этого замечательного здания. Лучше, чем из ресторана... В общем-- самый лучший. Я прямо будильник заводил и выходил смотреть фонтан на балкон (представления меняются в течение вечера). На балконах можно курить, что не может не радовать не расставшихся с этой привычкой. Но такие номера продают только на сайте самого отеля-- у перекупщиков типа booking.com их нет. В номере мы увидели реально работающий, удобный и функциональный \"умный дом\"-- управление всей электроникой номера с iPad mini. Дизайн-- не просто привлекательный и интересный, но и очень функциональный. Сервис-- честные 5* Grand Luxe, мальчик на этаже, любой вопрос решается моментально, все очень быстро и ненавязчиво. Шоппинг: до Дубай Молла идет галерея. Ребята-сотрудники отеля помогут понести сумки и даже за вас их в отель отнесут, если не боитесь доверять ценный груз)) Смотровая площадка: билет продается без очереди прямо в отеле, но чтобы попасть на нее надо 2 раза пройти по галерее: туда и обратно, так как контроль безопасности находится со стороны Дубай молла. Ресторан-- не нашли к чему придраться, все вкусно, сервис прекрасный. Общий вывод: если опять окажемся в Дубае транзитом-- без вариантов, снова сюда."
        ]
       ],
       "shape": {
        "columns": 2,
        "rows": 2
       }
      },
      "text/html": [
       "<div>\n",
       "<style scoped>\n",
       "    .dataframe tbody tr th:only-of-type {\n",
       "        vertical-align: middle;\n",
       "    }\n",
       "\n",
       "    .dataframe tbody tr th {\n",
       "        vertical-align: top;\n",
       "    }\n",
       "\n",
       "    .dataframe thead th {\n",
       "        text-align: right;\n",
       "    }\n",
       "</style>\n",
       "<table border=\"1\" class=\"dataframe\">\n",
       "  <thead>\n",
       "    <tr style=\"text-align: right;\">\n",
       "      <th></th>\n",
       "      <th>review_id</th>\n",
       "      <th>review_text</th>\n",
       "    </tr>\n",
       "  </thead>\n",
       "  <tbody>\n",
       "    <tr>\n",
       "      <th>0</th>\n",
       "      <td>1</td>\n",
       "      <td>Элегантный отель в самом центре Дубай. Красивы...</td>\n",
       "    </tr>\n",
       "    <tr>\n",
       "      <th>1</th>\n",
       "      <td>2</td>\n",
       "      <td>Если стиль вашей поездки в Дубай-- это шоппинг...</td>\n",
       "    </tr>\n",
       "  </tbody>\n",
       "</table>\n",
       "</div>"
      ],
      "text/plain": [
       "   review_id                                        review_text\n",
       "0          1  Элегантный отель в самом центре Дубай. Красивы...\n",
       "1          2  Если стиль вашей поездки в Дубай-- это шоппинг..."
      ]
     },
     "execution_count": 53,
     "metadata": {},
     "output_type": "execute_result"
    }
   ],
   "source": [
    "import pandas as pd\n",
    "\n",
    "df = pd.read_excel(PROJECT_ROOT / \"data\" / \"raw\" / \"Test_data_marked.xlsx\")\n",
    "df.head(2)"
   ]
  },
  {
   "cell_type": "code",
   "execution_count": 56,
   "metadata": {},
   "outputs": [
    {
     "data": {
      "text/plain": [
       "(6876, 200, 6676)"
      ]
     },
     "execution_count": 56,
     "metadata": {},
     "output_type": "execute_result"
    }
   ],
   "source": [
    "n_train_samples = 200\n",
    "df_train = df.sample(n_train_samples)\n",
    "df_ootrain = df.drop(df_train.index)\n",
    "\n",
    "len(df), len(df_train), len(df_ootrain)"
   ]
  },
  {
   "cell_type": "code",
   "execution_count": 58,
   "metadata": {},
   "outputs": [
    {
     "data": {
      "text/plain": [
       "['Это был самый маленький по площади номер из всех отелей, где я останавливалась. Тем не менее, очень уютненький и комфортабельный мини отельчик. Мебель новая, все функционирует, удобно расположен. Учитывая дороговизну отелей Парижа, для эконом варианта вполне достойно.',\n",
       " 'Понравилось всё!!! От персонала до оснащения номера!!! Модно,стильно,уютно. Огромный плазменный телевизор в номере, наличие банных принадлежностей (для мини-отеля это редкость), любезно предоставленная посуда,которая понадобилась в ходе проживания, ванная комната с просто блестящей сантехникой - всё это сложило невероятно приятное впечатление о гостинице!!! Девушка на ресепшене встретила с улыбкой, всё подробно объяснила, посоветовала. Желаю отелю дальнейшего процветания!Огромное спасибо за возможность прекрасно провести время!']"
      ]
     },
     "execution_count": 58,
     "metadata": {},
     "output_type": "execute_result"
    }
   ],
   "source": [
    "reviews = df_train.review_text.to_list()\n",
    "reviews[:2]"
   ]
  },
  {
   "cell_type": "markdown",
   "metadata": {},
   "source": [
    "## Make langchain and create prompt"
   ]
  },
  {
   "cell_type": "code",
   "execution_count": 59,
   "metadata": {},
   "outputs": [
    {
     "name": "stderr",
     "output_type": "stream",
     "text": [
      "100%|██████████| 200/200 [22:06<00:00,  6.63s/it]\n"
     ]
    },
    {
     "data": {
      "application/vnd.microsoft.datawrangler.viewer.v0+json": {
       "columns": [
        {
         "name": "index",
         "rawType": "int64",
         "type": "integer"
        },
        {
         "name": "review_id",
         "rawType": "int64",
         "type": "integer"
        },
        {
         "name": "text",
         "rawType": "object",
         "type": "string"
        },
        {
         "name": "labels",
         "rawType": "object",
         "type": "unknown"
        }
       ],
       "conversionMethod": "pd.DataFrame",
       "ref": "8c012a24-59bd-4169-ab56-c3f6c91ea83f",
       "rows": [
        [
         "0",
         "1",
         "Это был самый маленький по площади номер из всех отелей, где я останавливалась. Тем не менее, очень уютненький и комфортабельный мини отельчик. Мебель новая, все функционирует, удобно расположен. Учитывая дороговизну отелей Парижа, для эконом варианта вполне достойно.",
         "[{'aspect': 'размер номера', 'sentiment': 'negative'}, {'aspect': 'уют', 'sentiment': 'positive'}, {'aspect': 'комфорт', 'sentiment': 'positive'}, {'aspect': 'мебель', 'sentiment': 'positive'}, {'aspect': 'функциональность', 'sentiment': 'positive'}, {'aspect': 'расположение', 'sentiment': 'positive'}, {'aspect': 'цена', 'sentiment': 'positive'}]"
        ],
        [
         "1",
         "2",
         "Понравилось всё!!! От персонала до оснащения номера!!! Модно,стильно,уютно. Огромный плазменный телевизор в номере, наличие банных принадлежностей (для мини-отеля это редкость), любезно предоставленная посуда,которая понадобилась в ходе проживания, ванная комната с просто блестящей сантехникой - всё это сложило невероятно приятное впечатление о гостинице!!! Девушка на ресепшене встретила с улыбкой, всё подробно объяснила, посоветовала. Желаю отелю дальнейшего процветания!Огромное спасибо за возможность прекрасно провести время!",
         "[{'aspect': 'персонал', 'sentiment': 'positive'}, {'aspect': 'оснащение номера', 'sentiment': 'positive'}, {'aspect': 'дизайн', 'sentiment': 'positive'}, {'aspect': 'уют', 'sentiment': 'positive'}, {'aspect': 'телевизор', 'sentiment': 'positive'}, {'aspect': 'банные принадлежности', 'sentiment': 'positive'}, {'aspect': 'посуда', 'sentiment': 'positive'}, {'aspect': 'ванная комната', 'sentiment': 'positive'}, {'aspect': 'сантехника', 'sentiment': 'positive'}, {'aspect': 'ресепшен', 'sentiment': 'positive'}]"
        ]
       ],
       "shape": {
        "columns": 3,
        "rows": 2
       }
      },
      "text/html": [
       "<div>\n",
       "<style scoped>\n",
       "    .dataframe tbody tr th:only-of-type {\n",
       "        vertical-align: middle;\n",
       "    }\n",
       "\n",
       "    .dataframe tbody tr th {\n",
       "        vertical-align: top;\n",
       "    }\n",
       "\n",
       "    .dataframe thead th {\n",
       "        text-align: right;\n",
       "    }\n",
       "</style>\n",
       "<table border=\"1\" class=\"dataframe\">\n",
       "  <thead>\n",
       "    <tr style=\"text-align: right;\">\n",
       "      <th></th>\n",
       "      <th>review_id</th>\n",
       "      <th>text</th>\n",
       "      <th>labels</th>\n",
       "    </tr>\n",
       "  </thead>\n",
       "  <tbody>\n",
       "    <tr>\n",
       "      <th>0</th>\n",
       "      <td>1</td>\n",
       "      <td>Это был самый маленький по площади номер из вс...</td>\n",
       "      <td>[{'aspect': 'размер номера', 'sentiment': 'neg...</td>\n",
       "    </tr>\n",
       "    <tr>\n",
       "      <th>1</th>\n",
       "      <td>2</td>\n",
       "      <td>Понравилось всё!!! От персонала до оснащения н...</td>\n",
       "      <td>[{'aspect': 'персонал', 'sentiment': 'positive...</td>\n",
       "    </tr>\n",
       "  </tbody>\n",
       "</table>\n",
       "</div>"
      ],
      "text/plain": [
       "   review_id                                               text  \\\n",
       "0          1  Это был самый маленький по площади номер из вс...   \n",
       "1          2  Понравилось всё!!! От персонала до оснащения н...   \n",
       "\n",
       "                                              labels  \n",
       "0  [{'aspect': 'размер номера', 'sentiment': 'neg...  \n",
       "1  [{'aspect': 'персонал', 'sentiment': 'positive...  "
      ]
     },
     "execution_count": 59,
     "metadata": {},
     "output_type": "execute_result"
    }
   ],
   "source": [
    "import os\n",
    "import pandas as pd\n",
    "from tqdm import tqdm\n",
    "from langchain_openai import ChatOpenAI\n",
    "from langchain.prompts import PromptTemplate\n",
    "from langchain.schema.runnable import RunnableSequence\n",
    "import json\n",
    "\n",
    "# Устанавливаем API-ключ OpenAI\n",
    "os.environ[\"OPENAI_API_KEY\"] = \"your_openai_api_key\"\n",
    "\n",
    "# Подключаем ChatGPT-4\n",
    "llm = ChatOpenAI(api_key=OPENAI_API_KEY, model=\"gpt-4\", temperature=0, top_p=0)\n",
    "\n",
    "\n",
    "# Шаблон промпта для разметки\n",
    "prompt = PromptTemplate(\n",
    "    input_variables=[\"review\"],\n",
    "    template=\"\"\"\n",
    "Ты - аналитие по анализу отзывов. Разметь данный отзыв об отеле, выделяя все возможные аспекты и их тональность.\n",
    "\n",
    "Примеры:\n",
    "Отзыв: \"Отличное расположение, но номера маленькие. Завтрак был вкусным, но дорогим.\"\n",
    "Ответ:\n",
    "[\n",
    "  {{ \"aspect\": \"Расположение\", \"sentiment\": \"positive\" }},\n",
    "  {{ \"aspect\": \"Номер\", \"sentiment\": \"negative\" }},\n",
    "  {{ \"aspect\": \"Завтрак\", \"sentiment\": \"mixed\" }}\n",
    "]\n",
    "\n",
    "Отзыв: \"Очень грязный номер, но персонал был дружелюбным.\"\n",
    "Ответ:\n",
    "[\n",
    "  {{ \"aspect\": \"Чистота\", \"sentiment\": \"negative\" }},\n",
    "  {{ \"aspect\": \"Персонал\", \"sentiment\": \"positive\" }}\n",
    "]\n",
    "\n",
    "Теперь разметь следующий отзыв:\n",
    "\n",
    "Отзыв: {review}\n",
    "\n",
    "Формат ответа:\n",
    "[\n",
    "  {{ \"aspect\": \"Расположение\", \"sentiment\": \"positive\" }},\n",
    "  {{ \"aspect\": \"Номер\", \"sentiment\": \"negative\" }}\n",
    "]\n",
    "\"\"\",\n",
    ")\n",
    "\n",
    "# Создаем цепочку\n",
    "chain = prompt | llm\n",
    "\n",
    "\n",
    "df = pd.DataFrame({\"review_id\": range(1, len(reviews) + 1), \"text\": reviews})\n",
    "\n",
    "\n",
    "def label_review(review):\n",
    "    response = chain.invoke({\"review\": review})\n",
    "    response_text = response.content  # Получаем текст из AIMessage\n",
    "    try:\n",
    "        return json.loads(response_text)  # Преобразуем строку в JSON\n",
    "    except json.JSONDecodeError:\n",
    "        return []  # В случае ошибки возвращаем пустой список\n",
    "\n",
    "\n",
    "# Размечаем данные\n",
    "tqdm.pandas()\n",
    "df[\"labels\"] = df[\"text\"].progress_apply(label_review)\n",
    "\n",
    "\n",
    "def normalization(label_data):\n",
    "\n",
    "    for entry in label_data:\n",
    "        entry[\"aspect\"] = entry[\"aspect\"].lower()\n",
    "\n",
    "    return label_data\n",
    "\n",
    "\n",
    "# Применяем обратную замену аспектов\n",
    "df[\"labels\"] = df[\"labels\"].apply(normalization)\n",
    "\n",
    "# Выводим результат\n",
    "df.head(2)"
   ]
  },
  {
   "cell_type": "code",
   "execution_count": null,
   "metadata": {},
   "outputs": [],
   "source": [
    "# Save labeled results\n",
    "df.to_excel(PROJECT_ROOT / \"data\" / \"interim\" / \"200_labeled_gpt_4.xlsx\")\n",
    "df.to_csv(PROJECT_ROOT / \"data\" / \"interim\" / \"200_labeled_gpt_4.csv\")"
   ]
  }
 ],
 "metadata": {
  "kernelspec": {
   "display_name": "base",
   "language": "python",
   "name": "python3"
  },
  "language_info": {
   "codemirror_mode": {
    "name": "ipython",
    "version": 3
   },
   "file_extension": ".py",
   "mimetype": "text/x-python",
   "name": "python",
   "nbconvert_exporter": "python",
   "pygments_lexer": "ipython3",
   "version": "3.11.5"
  }
 },
 "nbformat": 4,
 "nbformat_minor": 2
}
