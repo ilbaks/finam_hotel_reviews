{
 "cells": [
  {
   "cell_type": "markdown",
   "metadata": {},
   "source": [
    "# 02_process_embedding"
   ]
  },
  {
   "cell_type": "markdown",
   "metadata": {},
   "source": [
    "## 1. Цель ноутбука"
   ]
  },
  {
   "cell_type": "markdown",
   "metadata": {},
   "source": [
    "- посчитать статитстику по словам\n",
    "- посчитать TF-IDF\n",
    "- взять готовый W2V и посчитать итоговый ембеддинг для всего предложения\n",
    "- возможно, попробовать файнтьюнить W2V\n",
    "- попробовать D2V\n",
    "- попробовать модель с HuggingFace ai-forever/sbert_large_nlu_ru"
   ]
  },
  {
   "cell_type": "markdown",
   "metadata": {},
   "source": [
    "## 2. Imports"
   ]
  },
  {
   "cell_type": "code",
   "execution_count": 1,
   "metadata": {},
   "outputs": [],
   "source": [
    "from pathlib import Path\n",
    "import logging\n",
    "import pandas as pd\n",
    "from collections import Counter\n",
    "from itertools import chain\n",
    "import matplotlib.pyplot as plt\n",
    "from typing import List"
   ]
  },
  {
   "cell_type": "markdown",
   "metadata": {},
   "source": [
    "## 3. Initialization"
   ]
  },
  {
   "cell_type": "code",
   "execution_count": 2,
   "metadata": {},
   "outputs": [],
   "source": [
    "pd.set_option(\"display.max_colwidth\", None)\n",
    "\n",
    "plt.style.use(\"classic\")"
   ]
  },
  {
   "cell_type": "code",
   "execution_count": 3,
   "metadata": {},
   "outputs": [],
   "source": [
    "PROJECT_NAME = \"finam_text_classification\"\n",
    "\n",
    "# Get the current working directory\n",
    "current_dir = Path.cwd()\n",
    "\n",
    "\n",
    "# Traverse up to find \"finam_text_classification\" folder\n",
    "project_root = current_dir\n",
    "while project_root.name != PROJECT_NAME:\n",
    "    if project_root.parent == project_root:  # Reached the filesystem root\n",
    "        raise FileNotFoundError(\"The 'finam_text_classification' folder was not found.\")\n",
    "    project_root = project_root.parent\n",
    "\n",
    "# Define the path to the input data relative to the project root\n",
    "PTH_TO_INPUT_DATA = project_root / \"data\" / \"interim\" / \"normalized_final_review_text.parquet\""
   ]
  },
  {
   "cell_type": "markdown",
   "metadata": {},
   "source": [
    "## Main pipeline"
   ]
  },
  {
   "cell_type": "markdown",
   "metadata": {},
   "source": [
    "### Read data"
   ]
  },
  {
   "cell_type": "code",
   "execution_count": 4,
   "metadata": {},
   "outputs": [],
   "source": [
    "# Read data\n",
    "try:\n",
    "    # Use Path to check if the file exists\n",
    "    if PTH_TO_INPUT_DATA.exists():\n",
    "        # Read the Excel file\n",
    "        df_init = pd.read_parquet(PTH_TO_INPUT_DATA)\n",
    "        logging.info(\"File successfully loaded.\")\n",
    "    else:\n",
    "        # Log an error if the file is not found\n",
    "        logging.error(f\"File not found: {PTH_TO_INPUT_DATA}\")\n",
    "except Exception as e:\n",
    "    # Log any exceptions that occur\n",
    "    logging.error(f\"An error occurred: {e}\")"
   ]
  },
  {
   "cell_type": "code",
   "execution_count": 5,
   "metadata": {},
   "outputs": [
    {
     "data": {
      "text/html": [
       "<div>\n",
       "<style scoped>\n",
       "    .dataframe tbody tr th:only-of-type {\n",
       "        vertical-align: middle;\n",
       "    }\n",
       "\n",
       "    .dataframe tbody tr th {\n",
       "        vertical-align: top;\n",
       "    }\n",
       "\n",
       "    .dataframe thead th {\n",
       "        text-align: right;\n",
       "    }\n",
       "</style>\n",
       "<table border=\"1\" class=\"dataframe\">\n",
       "  <thead>\n",
       "    <tr style=\"text-align: right;\">\n",
       "      <th></th>\n",
       "      <th>0</th>\n",
       "    </tr>\n",
       "  </thead>\n",
       "  <tbody>\n",
       "    <tr>\n",
       "      <th>review_id</th>\n",
       "      <td>1</td>\n",
       "    </tr>\n",
       "    <tr>\n",
       "      <th>review_text</th>\n",
       "      <td>Элегантный отель в самом центре Дубай. Красивые и стильные номера. И жуткие цены) До посещения отеля рекомендуется ограбить банк или неожиданно разбогатеть)))Это пишу чтобы набрать 200 символов))))))</td>\n",
       "    </tr>\n",
       "    <tr>\n",
       "      <th>normalized_review_text</th>\n",
       "      <td>элегантный отель центр &lt;loc&gt; красивый стильный номер жуткий цена посещение отель рекомендоваться ограбить банк неожиданно разбогатеть это писать набрать &lt;num&gt; символ</td>\n",
       "    </tr>\n",
       "    <tr>\n",
       "      <th>loc_count</th>\n",
       "      <td>1</td>\n",
       "    </tr>\n",
       "    <tr>\n",
       "      <th>org_count</th>\n",
       "      <td>0</td>\n",
       "    </tr>\n",
       "    <tr>\n",
       "      <th>misc_count</th>\n",
       "      <td>0</td>\n",
       "    </tr>\n",
       "    <tr>\n",
       "      <th>per_count</th>\n",
       "      <td>0</td>\n",
       "    </tr>\n",
       "    <tr>\n",
       "      <th>right_parenthesis_cnt</th>\n",
       "      <td>10</td>\n",
       "    </tr>\n",
       "    <tr>\n",
       "      <th>left_parenthesis_cnt</th>\n",
       "      <td>0</td>\n",
       "    </tr>\n",
       "    <tr>\n",
       "      <th>point_cnt</th>\n",
       "      <td>2</td>\n",
       "    </tr>\n",
       "    <tr>\n",
       "      <th>comma_cnt</th>\n",
       "      <td>2</td>\n",
       "    </tr>\n",
       "    <tr>\n",
       "      <th>exlaim_cnt</th>\n",
       "      <td>0</td>\n",
       "    </tr>\n",
       "    <tr>\n",
       "      <th>num_cnt</th>\n",
       "      <td>1</td>\n",
       "    </tr>\n",
       "    <tr>\n",
       "      <th>len_in_symbols</th>\n",
       "      <td>199</td>\n",
       "    </tr>\n",
       "    <tr>\n",
       "      <th>len_in_words</th>\n",
       "      <td>27</td>\n",
       "    </tr>\n",
       "    <tr>\n",
       "      <th>avr_len_words</th>\n",
       "      <td>7.37037</td>\n",
       "    </tr>\n",
       "  </tbody>\n",
       "</table>\n",
       "</div>"
      ],
      "text/plain": [
       "                                                                                                                                                                                                                              0\n",
       "review_id                                                                                                                                                                                                                     1\n",
       "review_text             Элегантный отель в самом центре Дубай. Красивые и стильные номера. И жуткие цены) До посещения отеля рекомендуется ограбить банк или неожиданно разбогатеть)))Это пишу чтобы набрать 200 символов))))))\n",
       "normalized_review_text                                    элегантный отель центр <loc> красивый стильный номер жуткий цена посещение отель рекомендоваться ограбить банк неожиданно разбогатеть это писать набрать <num> символ\n",
       "loc_count                                                                                                                                                                                                                     1\n",
       "org_count                                                                                                                                                                                                                     0\n",
       "misc_count                                                                                                                                                                                                                    0\n",
       "per_count                                                                                                                                                                                                                     0\n",
       "right_parenthesis_cnt                                                                                                                                                                                                        10\n",
       "left_parenthesis_cnt                                                                                                                                                                                                          0\n",
       "point_cnt                                                                                                                                                                                                                     2\n",
       "comma_cnt                                                                                                                                                                                                                     2\n",
       "exlaim_cnt                                                                                                                                                                                                                    0\n",
       "num_cnt                                                                                                                                                                                                                       1\n",
       "len_in_symbols                                                                                                                                                                                                              199\n",
       "len_in_words                                                                                                                                                                                                                 27\n",
       "avr_len_words                                                                                                                                                                                                           7.37037"
      ]
     },
     "execution_count": 5,
     "metadata": {},
     "output_type": "execute_result"
    }
   ],
   "source": [
    "df_init.head(1).T"
   ]
  },
  {
   "cell_type": "markdown",
   "metadata": {},
   "source": [
    "### Tokenization and word statitics"
   ]
  },
  {
   "cell_type": "code",
   "execution_count": 6,
   "metadata": {},
   "outputs": [
    {
     "data": {
      "text/plain": [
       "[('<loc>', 13672),\n",
       " ('отель', 11746),\n",
       " ('номер', 10478),\n",
       " ('<num>', 8972),\n",
       " ('очень', 7757),\n",
       " ('<misc>', 7486),\n",
       " ('весь', 6730),\n",
       " ('это', 3921),\n",
       " ('хороший', 3565),\n",
       " ('завтрак', 3238)]"
      ]
     },
     "execution_count": 6,
     "metadata": {},
     "output_type": "execute_result"
    }
   ],
   "source": [
    "ls_init_text = df_init.normalized_review_text.tolist()\n",
    "flat_ls_text = list(chain(*map(str.split, ls_init_text)))\n",
    "counter = Counter(flat_ls_text)\n",
    "counter.most_common(10)"
   ]
  },
  {
   "cell_type": "code",
   "execution_count": 7,
   "metadata": {},
   "outputs": [
    {
     "data": {
      "text/plain": [
       "18650"
      ]
     },
     "execution_count": 7,
     "metadata": {},
     "output_type": "execute_result"
    }
   ],
   "source": [
    "len(counter)"
   ]
  },
  {
   "cell_type": "code",
   "execution_count": 8,
   "metadata": {},
   "outputs": [
    {
     "data": {
      "text/plain": [
       "[('<loc>', 13672),\n",
       " ('отель', 11746),\n",
       " ('номер', 10478),\n",
       " ('<num>', 8972),\n",
       " ('очень', 7757),\n",
       " ('<misc>', 7486),\n",
       " ('весь', 6730),\n",
       " ('это', 3921),\n",
       " ('хороший', 3565),\n",
       " ('завтрак', 3238)]"
      ]
     },
     "execution_count": 8,
     "metadata": {},
     "output_type": "execute_result"
    }
   ],
   "source": [
    "counter.most_common(10)"
   ]
  },
  {
   "cell_type": "code",
   "execution_count": 9,
   "metadata": {},
   "outputs": [
    {
     "data": {
      "text/plain": [
       "[('безвскусный', 1),\n",
       " ('третьм', 1),\n",
       " ('незамеченным', 1),\n",
       " ('появление', 1),\n",
       " ('somerset', 1),\n",
       " ('грусть', 1),\n",
       " ('скука', 1),\n",
       " ('навевают', 1),\n",
       " ('применять', 1),\n",
       " ('стэйк', 1)]"
      ]
     },
     "execution_count": 9,
     "metadata": {},
     "output_type": "execute_result"
    }
   ],
   "source": [
    "counter.most_common()[:-11:-1]"
   ]
  },
  {
   "cell_type": "code",
   "execution_count": 10,
   "metadata": {},
   "outputs": [
    {
     "data": {
      "text/plain": [
       "4639"
      ]
     },
     "execution_count": 10,
     "metadata": {},
     "output_type": "execute_result"
    }
   ],
   "source": [
    "filtered_counter_5 = Counter({k: v for k, v in counter.items() if v > 5})\n",
    "len(filtered_counter_5)"
   ]
  },
  {
   "cell_type": "code",
   "execution_count": 11,
   "metadata": {},
   "outputs": [
    {
     "data": {
      "text/plain": [
       "[('дозвониться', 6),\n",
       " ('комплектация', 6),\n",
       " ('постный', 6),\n",
       " ('шея', 6),\n",
       " ('химчистка', 6),\n",
       " ('промзона', 6),\n",
       " ('перебор', 6),\n",
       " ('швед', 6),\n",
       " ('местонахождение', 6),\n",
       " ('двоякий', 6)]"
      ]
     },
     "execution_count": 11,
     "metadata": {},
     "output_type": "execute_result"
    }
   ],
   "source": [
    "filtered_counter_5.most_common()[-10:]"
   ]
  },
  {
   "cell_type": "code",
   "execution_count": 12,
   "metadata": {},
   "outputs": [
    {
     "data": {
      "text/plain": [
       "3220"
      ]
     },
     "execution_count": 12,
     "metadata": {},
     "output_type": "execute_result"
    }
   ],
   "source": [
    "filtered_counter_10 = Counter({k: v for k, v in counter.items() if v > 10})\n",
    "len(filtered_counter_10)"
   ]
  },
  {
   "cell_type": "code",
   "execution_count": 13,
   "metadata": {},
   "outputs": [
    {
     "data": {
      "text/plain": [
       "[('пружина', 11),\n",
       " ('славный', 11),\n",
       " ('кашка', 11),\n",
       " ('поработать', 11),\n",
       " ('испытать', 11),\n",
       " ('санаторий', 11),\n",
       " ('загородный', 11),\n",
       " ('финский', 11),\n",
       " ('трубка', 11),\n",
       " ('домофон', 11)]"
      ]
     },
     "execution_count": 13,
     "metadata": {},
     "output_type": "execute_result"
    }
   ],
   "source": [
    "filtered_counter_10.most_common()[-10:]"
   ]
  },
  {
   "cell_type": "code",
   "execution_count": 14,
   "metadata": {},
   "outputs": [
    {
     "data": {
      "text/plain": [
       "699"
      ]
     },
     "execution_count": 14,
     "metadata": {},
     "output_type": "execute_result"
    }
   ],
   "source": [
    "filtered_counter_100 = Counter({k: v for k, v in counter.items() if v > 100})\n",
    "len(filtered_counter_100)"
   ]
  },
  {
   "cell_type": "code",
   "execution_count": 15,
   "metadata": {},
   "outputs": [
    {
     "data": {
      "text/plain": [
       "[('высоко', 102),\n",
       " ('являться', 102),\n",
       " ('точка', 102),\n",
       " ('достаться', 102),\n",
       " ('шампанское', 102),\n",
       " ('начинать', 101),\n",
       " ('стройка', 101),\n",
       " ('столовая', 101),\n",
       " ('учитывать', 101),\n",
       " ('хлопья', 101)]"
      ]
     },
     "execution_count": 15,
     "metadata": {},
     "output_type": "execute_result"
    }
   ],
   "source": [
    "filtered_counter_100.most_common()[-10:]"
   ]
  },
  {
   "cell_type": "code",
   "execution_count": 67,
   "metadata": {},
   "outputs": [
    {
     "data": {
      "text/plain": [
       "121"
      ]
     },
     "execution_count": 67,
     "metadata": {},
     "output_type": "execute_result"
    }
   ],
   "source": [
    "filtered_counter_500 = Counter({k: v for k, v in counter.items() if v > 500})\n",
    "len(filtered_counter_500)"
   ]
  },
  {
   "cell_type": "code",
   "execution_count": 68,
   "metadata": {},
   "outputs": [
    {
     "data": {
      "text/plain": [
       "[('приехать', 521),\n",
       " ('неплохой', 521),\n",
       " ('красивый', 516),\n",
       " ('ресепшен', 516),\n",
       " ('любой', 514),\n",
       " ('час', 507),\n",
       " ('ванная', 507),\n",
       " ('огромный', 504),\n",
       " ('идти', 503),\n",
       " ('кухня', 503)]"
      ]
     },
     "execution_count": 68,
     "metadata": {},
     "output_type": "execute_result"
    }
   ],
   "source": [
    "filtered_counter_500.most_common()[-10:]"
   ]
  },
  {
   "cell_type": "code",
   "execution_count": 69,
   "metadata": {},
   "outputs": [],
   "source": [
    "id2w_5 = {i: w for i, w in enumerate(filtered_counter_5.keys())}\n",
    "w2id_5 = {w: i for i, w in id2w_5.items()}\n",
    "\n",
    "id2w_10 = {i: w for i, w in enumerate(filtered_counter_10.keys())}\n",
    "w2id_10 = {w: i for i, w in id2w_10.items()}\n",
    "\n",
    "id2w_100 = {i: w for i, w in enumerate(filtered_counter_100.keys())}\n",
    "w2id_100 = {w: i for i, w in id2w_100.items()}\n",
    "\n",
    "id2w_500 = {i: w for i, w in enumerate(filtered_counter_500.keys())}\n",
    "w2id_500 = {w: i for i, w in id2w_500.items()}"
   ]
  },
  {
   "cell_type": "markdown",
   "metadata": {},
   "source": [
    "#### Графически изобразим распределение частотности"
   ]
  },
  {
   "cell_type": "code",
   "execution_count": 51,
   "metadata": {},
   "outputs": [
    {
     "data": {
      "text/plain": [
       "17650"
      ]
     },
     "execution_count": 51,
     "metadata": {},
     "output_type": "execute_result"
    }
   ],
   "source": [
    "# Распределение частот\n",
    "freq_values = [c for w, c in counter.most_common()[:-1000]]\n",
    "len(freq_values)"
   ]
  },
  {
   "cell_type": "markdown",
   "metadata": {},
   "source": [
    "### Распределение частот слов"
   ]
  },
  {
   "cell_type": "markdown",
   "metadata": {},
   "source": [
    "Распределение частот:\n",
    "Левый край графика (0–500):\n",
    "\n",
    "Большинство слов имеет низкую частотность (меньше 500).\n",
    "Это редкие слова, которые встречаются только несколько раз (или даже 1–2 раза). Их очень много.\n",
    "Правый край графика (1500–4000):\n",
    "\n",
    "Слов с высокой частотностью гораздо меньше.\n",
    "Эти слова, скорее всего, являются частотными: служебные слова, такие как \"и\", \"в\", \"на\", а также популярные лексемы.\n",
    "\n",
    "Среднее (Mean) и Медиана (Median):\n",
    "Среднее значение (Mean):\n",
    "\n",
    "Указано как 23.59. Это среднее число вхождений слова в тексте.\n",
    "Среднее завышено за счёт очень частых слов.\n",
    "Медиана (Median):\n",
    "\n",
    "Указана как 2.00. Это говорит о том, что половина всех слов встречается не более 2 раз.\n",
    "Подтверждает, что большинство слов в корпусе — это редкие слова (длинный \"хвост\" распределения).\n",
    "\n",
    "Распределение подчиняется закону Зипфа:\n",
    "\n",
    "Небольшое число слов встречается очень часто.\n",
    "Большинство слов встречается крайне редко (1–2 раза).\n"
   ]
  },
  {
   "cell_type": "code",
   "execution_count": 53,
   "metadata": {},
   "outputs": [
    {
     "data": {
      "image/png": "[encoded data removed]",
      "text/plain": [
       "<Figure size 800x480 with 1 Axes>"
      ]
     },
     "metadata": {},
     "output_type": "display_data"
    }
   ],
   "source": [
    "import numpy as np\n",
    "\n",
    "# Plot\n",
    "plt.figure(figsize=(10, 6))\n",
    "plt.hist(freq_values, bins=50, edgecolor=\"black\", color=\"blue\", log=True)\n",
    "\n",
    "# Statistics\n",
    "mean_freq = np.mean(freq_values)\n",
    "median_freq = np.median(freq_values)\n",
    "plt.axvline(mean_freq, color=\"red\", linestyle=\"--\", label=f\"Mean: {mean_freq:.2f}\")\n",
    "plt.axvline(median_freq, color=\"green\", linestyle=\"--\", label=f\"Median: {median_freq:.2f}\")\n",
    "\n",
    "# Labels, grid, and limits\n",
    "plt.title(\"Распределение частот слов (после фильтрации)\", fontsize=14)\n",
    "plt.xlabel(\"Частота слова\", fontsize=12)\n",
    "plt.ylabel(\"Количество слов\", fontsize=12)\n",
    "plt.grid(axis=\"y\", linestyle=\"--\", alpha=0.7)\n",
    "plt.legend()\n",
    "plt.xlim(0, 4_000)  # Adjust limits if necessary\n",
    "\n",
    "plt.show()"
   ]
  },
  {
   "cell_type": "markdown",
   "metadata": {},
   "source": [
    "### Закон Ципфа"
   ]
  },
  {
   "cell_type": "markdown",
   "metadata": {},
   "source": [
    "Первая часть (левая сторона):\n",
    "Небольшое число слов с высоким рангом (частотные слова).\n",
    "Это, скорее всего, служебные слова или высокочастотные термины.\n",
    "Середина графика:\n",
    "Умеренно частотные слова.\n",
    "Они обычно составляют ключевую лексическую часть текста.\n",
    "Правая часть (хвост):\n",
    "Большинство слов встречается крайне редко (1–2 раза).\n",
    "Это могут быть опечатки, уникальные термины или очень редкие слова.\n",
    "\n",
    "Фильтрация:\n",
    "Слова с частотой < 5 (правая часть) можно удалить как \"шум\".\n",
    "Стоп-слова:\n",
    "Самые частотные слова (левая часть) могут быть стоп-словами (например, \"и\", \"в\").\n",
    "Фокус на среднечастотные слова:\n",
    "Слова из середины графика чаще всего несут основную смысловую нагрузку."
   ]
  },
  {
   "cell_type": "code",
   "execution_count": 54,
   "metadata": {},
   "outputs": [
    {
     "data": {
      "image/png": "[encoded data removed]",
      "text/plain": [
       "<Figure size 800x480 with 1 Axes>"
      ]
     },
     "metadata": {},
     "output_type": "display_data"
    }
   ],
   "source": [
    "import matplotlib.pyplot as plt\n",
    "\n",
    "# Ранжирование слов по частотности\n",
    "word_counts = sorted(counter.values(), reverse=True)\n",
    "\n",
    "# Логарифмический график\n",
    "plt.figure(figsize=(10, 6))\n",
    "plt.loglog(range(1, len(word_counts) + 1), word_counts, marker=\"o\")\n",
    "plt.title(\"Распределение частот (Zipf's Law)\", fontsize=14)\n",
    "plt.xlabel(\"Ранг слова (log)\", fontsize=12)\n",
    "plt.ylabel(\"Частота слова (log)\", fontsize=12)\n",
    "plt.grid(which=\"both\", linestyle=\"--\", alpha=0.7)\n",
    "plt.show()"
   ]
  },
  {
   "cell_type": "markdown",
   "metadata": {},
   "source": [
    "####  График \"доля слов\" (Cumulative Distribution)"
   ]
  },
  {
   "cell_type": "markdown",
   "metadata": {},
   "source": [
    "1500 слов - охватывает 82% текстов"
   ]
  },
  {
   "cell_type": "code",
   "execution_count": 57,
   "metadata": {},
   "outputs": [
    {
     "data": {
      "image/png": "[encoded data removed]",
      "text/plain": [
       "<Figure size 800x480 with 1 Axes>"
      ]
     },
     "metadata": {},
     "output_type": "display_data"
    }
   ],
   "source": [
    "import numpy as np\n",
    "\n",
    "# Считаем кумулятивную частоту\n",
    "word_counts = sorted(counter.values(), reverse=True)\n",
    "cumulative_freq = np.cumsum(word_counts) / sum(word_counts)\n",
    "\n",
    "# Построение графика\n",
    "plt.figure(figsize=(10, 6))\n",
    "plt.plot(range(1, len(cumulative_freq) + 1), cumulative_freq, marker=\"o\")\n",
    "plt.title(\"Кумулятивное распределение частот\", fontsize=14)\n",
    "plt.xlabel(\"Количество слов\", fontsize=12)\n",
    "plt.ylabel(\"Доля от общего числа слов\", fontsize=12)\n",
    "plt.grid(which=\"both\", linestyle=\"--\", alpha=0.7)\n",
    "plt.xlim(0, 2_000)  # Adjust limits if necessary\n",
    "plt.show()"
   ]
  },
  {
   "cell_type": "markdown",
   "metadata": {},
   "source": [
    "### Encoding"
   ]
  },
  {
   "cell_type": "code",
   "execution_count": 71,
   "metadata": {},
   "outputs": [],
   "source": [
    "df_init[\"encode_5\"] = df_init.normalized_review_text.apply(\n",
    "    lambda x: [w2id_5.get(w, None) for w in x.split() if w in w2id_5]\n",
    ")\n",
    "\n",
    "df_init[\"encode_10\"] = df_init.normalized_review_text.apply(\n",
    "    lambda x: [w2id_10.get(w, None) for w in x.split() if w in w2id_10]\n",
    ")\n",
    "\n",
    "df_init[\"encode_100\"] = df_init.normalized_review_text.apply(\n",
    "    lambda x: [w2id_100.get(w, None) for w in x.split() if w in w2id_100]\n",
    ")\n",
    "\n",
    "df_init[\"encode_500\"] = df_init.normalized_review_text.apply(\n",
    "    lambda x: [w2id_500.get(w, None) for w in x.split() if w in w2id_500]\n",
    ")"
   ]
  },
  {
   "cell_type": "code",
   "execution_count": 77,
   "metadata": {},
   "outputs": [
    {
     "name": "stdout",
     "output_type": "stream",
     "text": [
      "min, mean, max\n",
      "4 57.34467713787085 1493\n",
      "4 55.76672484002327 1426\n",
      "4 44.02981384525887 1061\n",
      "2 26.40997673065736 637\n"
     ]
    }
   ],
   "source": [
    "print(\"min, mean, max\")\n",
    "\n",
    "min_length = df_init[\"encode_5\"].apply(len).min()\n",
    "max_length = df_init[\"encode_5\"].apply(len).max()\n",
    "mean_length = df_init[\"encode_5\"].apply(len).mean()\n",
    "print(min_length, mean_length, max_length)\n",
    "\n",
    "min_length = df_init[\"encode_10\"].apply(len).min()\n",
    "max_length = df_init[\"encode_10\"].apply(len).max()\n",
    "mean_length = df_init[\"encode_10\"].apply(len).mean()\n",
    "print(min_length, mean_length, max_length)\n",
    "\n",
    "min_length = df_init[\"encode_100\"].apply(len).min()\n",
    "max_length = df_init[\"encode_100\"].apply(len).max()\n",
    "mean_length = df_init[\"encode_100\"].apply(len).mean()\n",
    "print(min_length, mean_length, max_length)\n",
    "\n",
    "min_length = df_init[\"encode_500\"].apply(len).min()\n",
    "max_length = df_init[\"encode_500\"].apply(len).max()\n",
    "mean_length = df_init[\"encode_500\"].apply(len).mean()\n",
    "print(min_length, mean_length, max_length)"
   ]
  },
  {
   "cell_type": "code",
   "execution_count": 84,
   "metadata": {},
   "outputs": [],
   "source": [
    "df_init[\"filtered_norm_text_5\"] = df_init.normalized_review_text.apply(\n",
    "    lambda x: \" \".join([w for w in x.split() if w in w2id_5])\n",
    ")\n",
    "\n",
    "df_init[\"filtered_norm_text_10\"] = df_init.normalized_review_text.apply(\n",
    "    lambda x: \" \".join([w for w in x.split() if w in w2id_10])\n",
    ")\n",
    "\n",
    "df_init[\"filtered_norm_text_100\"] = df_init.normalized_review_text.apply(\n",
    "    lambda x: \" \".join([w for w in x.split() if w in w2id_100])\n",
    ")\n",
    "\n",
    "df_init[\"filtered_norm_text_500\"] = df_init.normalized_review_text.apply(\n",
    "    lambda x: \" \".join([w for w in x.split() if w in w2id_500])\n",
    ")"
   ]
  },
  {
   "cell_type": "markdown",
   "metadata": {},
   "source": [
    "## TF-IDF"
   ]
  },
  {
   "cell_type": "code",
   "execution_count": 94,
   "metadata": {},
   "outputs": [
    {
     "data": {
      "text/plain": [
       "((6876, 4607), scipy.sparse._csr.csr_matrix)"
      ]
     },
     "execution_count": 94,
     "metadata": {},
     "output_type": "execute_result"
    }
   ],
   "source": [
    "from sklearn.feature_extraction.text import TfidfVectorizer\n",
    "\n",
    "corpus = df_init[\"filtered_norm_text_5\"].to_list()\n",
    "vectorizer = TfidfVectorizer()\n",
    "X = vectorizer.fit_transform(corpus)\n",
    "# Convert sparse matrix to a dense NumPy array\n",
    "X_dense = X.toarray()\n",
    "df_init[\"tfidf_vector_5\"] = list(X_dense)\n",
    "X.shape, type(X)"
   ]
  },
  {
   "cell_type": "code",
   "execution_count": 95,
   "metadata": {},
   "outputs": [
    {
     "data": {
      "text/plain": [
       "((6876, 3190), scipy.sparse._csr.csr_matrix)"
      ]
     },
     "execution_count": 95,
     "metadata": {},
     "output_type": "execute_result"
    }
   ],
   "source": [
    "corpus = df_init[\"filtered_norm_text_10\"].to_list()\n",
    "vectorizer = TfidfVectorizer()\n",
    "X = vectorizer.fit_transform(corpus)\n",
    "# Convert sparse matrix to a dense NumPy array\n",
    "X_dense = X.toarray()\n",
    "df_init[\"tfidf_vector_10\"] = list(X_dense)\n",
    "X.shape, type(X)"
   ]
  },
  {
   "cell_type": "code",
   "execution_count": 96,
   "metadata": {},
   "outputs": [
    {
     "data": {
      "text/plain": [
       "((6876, 686), scipy.sparse._csr.csr_matrix)"
      ]
     },
     "execution_count": 96,
     "metadata": {},
     "output_type": "execute_result"
    }
   ],
   "source": [
    "corpus = df_init[\"filtered_norm_text_100\"].to_list()\n",
    "vectorizer = TfidfVectorizer()\n",
    "X = vectorizer.fit_transform(corpus)\n",
    "# Convert sparse matrix to a dense NumPy array\n",
    "X_dense = X.toarray()\n",
    "df_init[\"tfidf_vector_100\"] = list(X_dense)\n",
    "X.shape, type(X)"
   ]
  },
  {
   "cell_type": "code",
   "execution_count": 97,
   "metadata": {},
   "outputs": [
    {
     "data": {
      "text/plain": [
       "((6876, 119), scipy.sparse._csr.csr_matrix)"
      ]
     },
     "execution_count": 97,
     "metadata": {},
     "output_type": "execute_result"
    }
   ],
   "source": [
    "corpus = df_init[\"filtered_norm_text_500\"].to_list()\n",
    "vectorizer = TfidfVectorizer()\n",
    "X = vectorizer.fit_transform(corpus)\n",
    "# Convert sparse matrix to a dense NumPy array\n",
    "X_dense = X.toarray()\n",
    "df_init[\"tfidf_vector_500\"] = list(X_dense)\n",
    "X.shape, type(X)"
   ]
  },
  {
   "cell_type": "markdown",
   "metadata": {},
   "source": [
    "### Save-load checkpoint tfidf"
   ]
  },
  {
   "cell_type": "code",
   "execution_count": 6,
   "metadata": {},
   "outputs": [],
   "source": [
    "# checkpoint tfidf save\n",
    "# df_init.to_parquet(project_root / \"data\" / \"interim\" / \"tfidf_check_point.parquet\", index=False)\n",
    "df_init = pd.read_parquet(project_root / \"data\" / \"interim\" / \"tfidf_check_point.parquet\")"
   ]
  },
  {
   "cell_type": "markdown",
   "metadata": {},
   "source": [
    "##  Take FastText, not Word2Vec "
   ]
  },
  {
   "cell_type": "markdown",
   "metadata": {},
   "source": [
    "TBD: Сравнение моделей Word2Vec vs FastText"
   ]
  },
  {
   "cell_type": "markdown",
   "metadata": {},
   "source": [
    "модели https://rusvectores.org/ru/models/"
   ]
  },
  {
   "cell_type": "code",
   "execution_count": null,
   "metadata": {},
   "outputs": [],
   "source": [
    "import gensim\n",
    "import gensim.downloader as api\n",
    "\n",
    "\n",
    "from gensim.models import KeyedVectors\n",
    "\n",
    "\n",
    "model = KeyedVectors.load(\"../models/213/model.model\")\n",
    "\n",
    "# Для запуска модели FastText нужен\n",
    "# gensim@4.3.2  scipy@1.11.4"
   ]
  },
  {
   "cell_type": "code",
   "execution_count": 25,
   "metadata": {},
   "outputs": [
    {
     "name": "stdout",
     "output_type": "stream",
     "text": [
      "{   'algorithm': {   'command': None,\n",
      "                     'id': 8,\n",
      "                     'name': 'fastText Skipgram',\n",
      "                     'tool': 'Gensim',\n",
      "                     'url': 'https://github.com/RaRe-Technologies/gensim',\n",
      "                     'version': '3.8'},\n",
      "    'contents': [   {'filename': 'model.model', 'format': 'data'},\n",
      "                    {'filename': 'model.model.vectors.npy', 'format': 'data'},\n",
      "                    {   'filename': 'model.model.vectors_ngrams.npy',\n",
      "                        'format': 'data'},\n",
      "                    {   'filename': 'model.model.vectors_vocab.npy',\n",
      "                        'format': 'data'},\n",
      "                    {'filename': 'meta.json', 'format': 'json'}],\n",
      "    'corpus': [   {   'NER': True,\n",
      "                      'case preserved': False,\n",
      "                      'description': 'GeoWAC: Population-balanced Russian '\n",
      "                                     'Gigaword Corpus',\n",
      "                      'id': 121,\n",
      "                      'language': 'rus',\n",
      "                      'lemmatized': True,\n",
      "                      'public': True,\n",
      "                      'stop words removal': 'punctuation',\n",
      "                      'tagger': 'UDPipe 1.2',\n",
      "                      'tagset': None,\n",
      "                      'tokens': 2107697501,\n",
      "                      'url': 'https://www.earthlings.io/download_geowac.html'}],\n",
      "    'creators': [{'email': 'andreku@ifi.uio.no', 'name': 'Andrey Kutuzov'}],\n",
      "    'dimensions': 300,\n",
      "    'handle': 'http://vectors.nlpl.eu/repository/20/213.zip',\n",
      "    'id': 213,\n",
      "    'iterations': 4,\n",
      "    'vocabulary size': 154923,\n",
      "    'window': 5}\n"
     ]
    }
   ],
   "source": [
    "# Configuration about the model\n",
    "from pprint import pprint\n",
    "import json\n",
    "\n",
    "# Read JSON file\n",
    "pth_json_model_config = project_root / \"models\" / \"213\" / \"meta.json\"\n",
    "with open(pth_json_model_config, \"r\", encoding=\"utf-8\") as file:\n",
    "    data = json.load(file)\n",
    "\n",
    "pprint(data, indent=4)"
   ]
  },
  {
   "cell_type": "code",
   "execution_count": 14,
   "metadata": {},
   "outputs": [
    {
     "name": "stdout",
     "output_type": "stream",
     "text": [
      "\u001b[1;31mType:\u001b[0m            FastTextKeyedVectors\n",
      "\u001b[1;31mString form:\u001b[0m     FastTextKeyedVectors<vector_size=300, 154923 keys>\n",
      "\u001b[1;31mLength:\u001b[0m          154923\n",
      "\u001b[1;31mFile:\u001b[0m            c:\\users\\baksa\\appdata\\roaming\\python\\python311\\site-packages\\gensim\\models\\fasttext.py\n",
      "\u001b[1;31mDocstring:\u001b[0m       <no docstring>\n",
      "\u001b[1;31mClass docstring:\u001b[0m\n",
      "Serialize/deserialize objects from disk, by equipping them with the `save()` / `load()` methods.\n",
      "\n",
      "Warnings\n",
      "--------\n",
      "This uses pickle internally (among other techniques), so objects must not contain unpicklable attributes\n",
      "such as lambda functions etc.\n",
      "\u001b[1;31mInit docstring:\u001b[0m \n",
      "Vectors and vocab for :class:`~gensim.models.fasttext.FastText`.\n",
      "\n",
      "Implements significant parts of the FastText algorithm.  For example,\n",
      "the :func:`word_vec` calculates vectors for out-of-vocabulary (OOV)\n",
      "entities.  FastText achieves this by keeping vectors for ngrams:\n",
      "adding the vectors for the ngrams of an entity yields the vector for the\n",
      "entity.\n",
      "\n",
      "Similar to a hashmap, this class keeps a fixed number of buckets, and\n",
      "maps all ngrams to buckets using a hash function.\n",
      "\n",
      "Parameters\n",
      "----------\n",
      "vector_size : int\n",
      "    The dimensionality of all vectors.\n",
      "min_n : int\n",
      "    The minimum number of characters in an ngram\n",
      "max_n : int\n",
      "    The maximum number of characters in an ngram\n",
      "bucket : int\n",
      "    The number of buckets.\n",
      "count : int, optional\n",
      "    If provided, vectors will be pre-allocated for at least this many vectors. (Otherwise\n",
      "    they can be added later.)\n",
      "dtype : type, optional\n",
      "    Vector dimensions will default to `np.float32` (AKA `REAL` in some Gensim code) unless\n",
      "    another type is provided here.\n",
      "\n",
      "Attributes\n",
      "----------\n",
      "vectors_vocab : np.array\n",
      "    Each row corresponds to a vector for an entity in the vocabulary.\n",
      "    Columns correspond to vector dimensions. When embedded in a full\n",
      "    FastText model, these are the full-word-token vectors updated\n",
      "    by training, whereas the inherited vectors are the actual per-word\n",
      "    vectors synthesized from the full-word-token and all subword (ngram)\n",
      "    vectors.\n",
      "vectors_ngrams : np.array\n",
      "    A vector for each ngram across all entities in the vocabulary.\n",
      "    Each row is a vector that corresponds to a bucket.\n",
      "    Columns correspond to vector dimensions.\n",
      "buckets_word : list of np.array\n",
      "    For each key (by its index), report bucket slots their subwords map to."
     ]
    }
   ],
   "source": [
    "model?"
   ]
  },
  {
   "cell_type": "code",
   "execution_count": 16,
   "metadata": {},
   "outputs": [],
   "source": [
    "import numpy as np\n",
    "\n",
    "\n",
    "def get_sentence_embedding(sentence, model):\n",
    "    words = sentence.split()  # Tokenize sentence\n",
    "    word_vectors = [model[word] for word in words if word in model]  # Get word vectors\n",
    "    if word_vectors:\n",
    "        return np.mean(word_vectors, axis=0)  # Mean pooling\n",
    "    else:\n",
    "        return np.zeros(model.vector_size)  # Return zero vector if no words found\n",
    "\n",
    "\n",
    "# Apply the function to different columns\n",
    "df_init[\"fasttext_vector_5\"] = df_init[\"filtered_norm_text_5\"].apply(lambda x: get_sentence_embedding(x, model))\n",
    "df_init[\"fasttext_vector_10\"] = df_init[\"filtered_norm_text_10\"].apply(lambda x: get_sentence_embedding(x, model))\n",
    "df_init[\"fasttext_vector_100\"] = df_init[\"filtered_norm_text_100\"].apply(lambda x: get_sentence_embedding(x, model))\n",
    "df_init[\"fasttext_vector_500\"] = df_init[\"filtered_norm_text_500\"].apply(lambda x: get_sentence_embedding(x, model))"
   ]
  },
  {
   "cell_type": "code",
   "execution_count": 12,
   "metadata": {},
   "outputs": [
    {
     "data": {
      "text/plain": [
       "Index(['review_id', 'review_text', 'normalized_review_text', 'loc_count',\n",
       "       'org_count', 'misc_count', 'per_count', 'right_parenthesis_cnt',\n",
       "       'left_parenthesis_cnt', 'point_cnt', 'comma_cnt', 'exlaim_cnt',\n",
       "       'num_cnt', 'len_in_symbols', 'len_in_words', 'avr_len_words',\n",
       "       'encode_5', 'encode_10', 'encode_100', 'encode_500',\n",
       "       'filtered_norm_text_5', 'filtered_norm_text_10',\n",
       "       'filtered_norm_text_100', 'filtered_norm_text_500', 'tfidf_vector_5',\n",
       "       'tfidf_vector_10', 'tfidf_vector_100', 'tfidf_vector_500',\n",
       "       'fasttext_vector_5', 'fasttext_vector_10', 'fasttext_vector_100',\n",
       "       'fasttext_vector_500'],\n",
       "      dtype='object')"
      ]
     },
     "execution_count": 12,
     "metadata": {},
     "output_type": "execute_result"
    }
   ],
   "source": [
    "df_init.columns"
   ]
  },
  {
   "cell_type": "markdown",
   "metadata": {},
   "source": [
    "##  rubert-tiny"
   ]
  },
  {
   "cell_type": "markdown",
   "metadata": {},
   "source": [
    "https://huggingface.co/cointegrated/rubert-tiny2"
   ]
  },
  {
   "cell_type": "code",
   "execution_count": 31,
   "metadata": {},
   "outputs": [
    {
     "name": "stderr",
     "output_type": "stream",
     "text": [
      "C:\\Users\\baksa\\AppData\\Roaming\\Python\\Python311\\site-packages\\transformers\\tokenization_utils_base.py:1601: FutureWarning: `clean_up_tokenization_spaces` was not set. It will be set to `True` by default. This behavior will be depracted in transformers v4.45, and will be then set to `False` by default. For more details check this issue: https://github.com/huggingface/transformers/issues/31884\n",
      "  warnings.warn(\n"
     ]
    },
    {
     "name": "stdout",
     "output_type": "stream",
     "text": [
      "(312,)\n"
     ]
    }
   ],
   "source": [
    "import torch\n",
    "from transformers import AutoTokenizer, AutoModel\n",
    "\n",
    "tokenizer = AutoTokenizer.from_pretrained(\"cointegrated/rubert-tiny2\")\n",
    "model = AutoModel.from_pretrained(\"cointegrated/rubert-tiny2\")\n",
    "model.cuda()  # uncomment it if you have a GPU\n",
    "\n",
    "\n",
    "def embed_bert_cls(text, model, tokenizer):\n",
    "    # Normalize entity formatting\n",
    "    replacements = {\n",
    "        \"<loc>\": \"<локация>\",\n",
    "        \"<org>\": \"<организация>\",\n",
    "        \"<num>\": \"<число>\",\n",
    "        \"<per>\": \"<персона>\",\n",
    "        \"<misc>\": \"<разное>\",\n",
    "    }\n",
    "\n",
    "    for old, new in replacements.items():\n",
    "        text = text.replace(old, new)\n",
    "\n",
    "    t = tokenizer(text, padding=True, truncation=True, return_tensors=\"pt\")\n",
    "    with torch.no_grad():\n",
    "        model_output = model(**{k: v.to(model.device) for k, v in t.items()})\n",
    "    embeddings = model_output.last_hidden_state[:, 0, :]\n",
    "    embeddings = torch.nn.functional.normalize(embeddings)\n",
    "    return embeddings[0].cpu().numpy()\n",
    "\n",
    "\n",
    "print(embed_bert_cls(\"привет мир\", model, tokenizer).shape)"
   ]
  },
  {
   "cell_type": "code",
   "execution_count": 32,
   "metadata": {},
   "outputs": [],
   "source": [
    "# Apply the function to different columns\n",
    "df_init[\"rubert_tiny_vector_5\"] = df_init[\"filtered_norm_text_5\"].apply(lambda x: embed_bert_cls(x, model, tokenizer))\n",
    "df_init[\"rubert_tiny_vector_10\"] = df_init[\"filtered_norm_text_10\"].apply(lambda x: embed_bert_cls(x, model, tokenizer))\n",
    "df_init[\"rubert_tiny_vector_100\"] = df_init[\"filtered_norm_text_100\"].apply(\n",
    "    lambda x: embed_bert_cls(x, model, tokenizer)\n",
    ")\n",
    "df_init[\"rubert_tiny_vector_500\"] = df_init[\"filtered_norm_text_500\"].apply(\n",
    "    lambda x: embed_bert_cls(x, model, tokenizer)\n",
    ")"
   ]
  },
  {
   "cell_type": "markdown",
   "metadata": {},
   "source": [
    "##  BERT large model (uncased) for Sentence Embeddings in Russian language"
   ]
  },
  {
   "cell_type": "markdown",
   "metadata": {},
   "source": [
    "https://huggingface.co/ai-forever/sbert_large_nlu_ru"
   ]
  },
  {
   "cell_type": "code",
   "execution_count": 33,
   "metadata": {},
   "outputs": [],
   "source": [
    "import torch\n",
    "from transformers import AutoTokenizer, AutoModel\n",
    "\n",
    "# Load tokenizer and model\n",
    "tokenizer = AutoTokenizer.from_pretrained(\"ai-forever/sbert_large_nlu_ru\")\n",
    "model = AutoModel.from_pretrained(\"ai-forever/sbert_large_nlu_ru\")\n",
    "model.cuda()  # Uncomment if you have a GPU\n",
    "\n",
    "\n",
    "# Mean Pooling - Take attention mask into account for correct averaging\n",
    "def mean_pooling(model_output, attention_mask):\n",
    "    token_embeddings = model_output.last_hidden_state  # Get token embeddings\n",
    "    input_mask_expanded = attention_mask.unsqueeze(-1).expand(token_embeddings.size()).float()\n",
    "    sum_embeddings = torch.sum(token_embeddings * input_mask_expanded, 1)\n",
    "    sum_mask = torch.clamp(input_mask_expanded.sum(1), min=1e-9)\n",
    "    return sum_embeddings / sum_mask\n",
    "\n",
    "\n",
    "# Function to get sentence embeddings using SBERT Large\n",
    "def embed_sentence(text, model, tokenizer):\n",
    "    # Normalize entity formatting\n",
    "    replacements = {\n",
    "        \"<loc>\": \"<локация>\",\n",
    "        \"<org>\": \"<организация>\",\n",
    "        \"<num>\": \"<число>\",\n",
    "        \"<per>\": \"<персона>\",\n",
    "        \"<misc>\": \"<разное>\",\n",
    "    }\n",
    "\n",
    "    for old, new in replacements.items():\n",
    "        text = text.replace(old, new)\n",
    "\n",
    "    # Tokenize input text\n",
    "    encoded_input = tokenizer(text, padding=True, truncation=True, return_tensors=\"pt\", max_length=24)\n",
    "\n",
    "    # Move inputs to the same device as model\n",
    "    encoded_input = {k: v.to(model.device) for k, v in encoded_input.items()}\n",
    "\n",
    "    # Compute token embeddings\n",
    "    with torch.no_grad():\n",
    "        model_output = model(**encoded_input)\n",
    "\n",
    "    # Perform mean pooling\n",
    "    sentence_embedding = mean_pooling(model_output, encoded_input[\"attention_mask\"])\n",
    "\n",
    "    # Normalize the embedding\n",
    "    sentence_embedding = torch.nn.functional.normalize(sentence_embedding)\n",
    "\n",
    "    return sentence_embedding[0].cpu().numpy()\n",
    "\n",
    "\n",
    "# Apply the function to different columns\n",
    "df_init[\"sbert_large_vector_5\"] = df_init[\"filtered_norm_text_5\"].apply(lambda x: embed_sentence(x, model, tokenizer))\n",
    "df_init[\"sbert_large_vector_10\"] = df_init[\"filtered_norm_text_10\"].apply(lambda x: embed_sentence(x, model, tokenizer))\n",
    "df_init[\"sbert_large_vector_100\"] = df_init[\"filtered_norm_text_100\"].apply(\n",
    "    lambda x: embed_sentence(x, model, tokenizer)\n",
    ")\n",
    "df_init[\"sbert_large_vector_500\"] = df_init[\"filtered_norm_text_500\"].apply(\n",
    "    lambda x: embed_sentence(x, model, tokenizer)\n",
    ")"
   ]
  },
  {
   "cell_type": "markdown",
   "metadata": {},
   "source": [
    "## Save final result"
   ]
  },
  {
   "cell_type": "code",
   "execution_count": 35,
   "metadata": {},
   "outputs": [
    {
     "data": {
      "text/plain": [
       "Index(['review_id', 'review_text', 'normalized_review_text', 'loc_count',\n",
       "       'org_count', 'misc_count', 'per_count', 'right_parenthesis_cnt',\n",
       "       'left_parenthesis_cnt', 'point_cnt', 'comma_cnt', 'exlaim_cnt',\n",
       "       'num_cnt', 'len_in_symbols', 'len_in_words', 'avr_len_words',\n",
       "       'encode_5', 'encode_10', 'encode_100', 'encode_500',\n",
       "       'filtered_norm_text_5', 'filtered_norm_text_10',\n",
       "       'filtered_norm_text_100', 'filtered_norm_text_500', 'tfidf_vector_5',\n",
       "       'tfidf_vector_10', 'tfidf_vector_100', 'tfidf_vector_500',\n",
       "       'fasttext_vector_5', 'fasttext_vector_10', 'fasttext_vector_100',\n",
       "       'fasttext_vector_500', 'rubert_tiny_vector_5', 'rubert_tiny_vector_10',\n",
       "       'rubert_tiny_vector_100', 'rubert_tiny_vector_500',\n",
       "       'sbert_large_vector_5', 'sbert_large_vector_10',\n",
       "       'sbert_large_vector_100', 'sbert_large_vector_500'],\n",
       "      dtype='object')"
      ]
     },
     "execution_count": 35,
     "metadata": {},
     "output_type": "execute_result"
    }
   ],
   "source": [
    "df_init.columns"
   ]
  },
  {
   "cell_type": "code",
   "execution_count": null,
   "metadata": {},
   "outputs": [],
   "source": [
    "# checkpoint tfidf save\n",
    "file_name = \"all_embeddings\"\n",
    "df_init.to_parquet(project_root / \"data\" / \"interim\" / f\"{file_name}.parquet\", index=False)\n",
    "\n",
    "# The size of the final file is 220mb"
   ]
  }
 ],
 "metadata": {
  "kernelspec": {
   "display_name": "base",
   "language": "python",
   "name": "python3"
  },
  "language_info": {
   "codemirror_mode": {
    "name": "ipython",
    "version": 3
   },
   "file_extension": ".py",
   "mimetype": "text/x-python",
   "name": "python",
   "nbconvert_exporter": "python",
   "pygments_lexer": "ipython3",
   "version": "3.11.5"
  }
 },
 "nbformat": 4,
 "nbformat_minor": 2
}
