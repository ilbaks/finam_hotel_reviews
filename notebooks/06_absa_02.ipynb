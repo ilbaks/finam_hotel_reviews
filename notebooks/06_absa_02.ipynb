{
 "cells": [
  {
   "cell_type": "markdown",
   "metadata": {},
   "source": [
    "# Aspect based sentiment analyses part_02"
   ]
  },
  {
   "cell_type": "markdown",
   "metadata": {},
   "source": [
    "## Постановка задачи"
   ]
  },
  {
   "cell_type": "markdown",
   "metadata": {},
   "source": [
    "Сделать небольшое EDA и оценить качество разметки gpt-4"
   ]
  },
  {
   "cell_type": "markdown",
   "metadata": {},
   "source": [
    "## Выводы"
   ]
  },
  {
   "cell_type": "markdown",
   "metadata": {},
   "source": [
    "- преобладают позитивные аспекты 69% против негативных 21%\n",
    "- топ 5 популярных аспектов\n",
    "  \n",
    "|aspect | percentage|\n",
    "|--|--|\n",
    "| расположение| 75%|\n",
    "|персонал |57% |\n",
    "| завтрак|48% |\n",
    "|общее впечатление | 43%|\n",
    "| номер| 42%|\n",
    "\n",
    "- совпадение ацессора и gpt-4\n",
    "  - 100% полнота\n",
    "  - 100% точность"
   ]
  },
  {
   "cell_type": "markdown",
   "metadata": {},
   "source": [
    "## Imports"
   ]
  },
  {
   "cell_type": "code",
   "execution_count": 4,
   "metadata": {},
   "outputs": [],
   "source": [
    "from pathlib import Path\n",
    "import pandas as pd"
   ]
  },
  {
   "cell_type": "markdown",
   "metadata": {},
   "source": [
    "## Initialization"
   ]
  },
  {
   "cell_type": "code",
   "execution_count": 3,
   "metadata": {},
   "outputs": [
    {
     "name": "stdout",
     "output_type": "stream",
     "text": [
      "d:\\Projects\\finam_hotel_reviews\\notebooks\n"
     ]
    }
   ],
   "source": [
    "def find_project_root() -> Path:\n",
    "\n",
    "    start_path = Path.cwd()\n",
    "    for parent in start_path.parents:\n",
    "        if (parent / \".git\").exists() or (parent / \"pyproject.toml\").exists() or (parent / \"setup.py\").exists():\n",
    "            return parent\n",
    "    return start_path  # Fallback: if no marker is found, return the original path\n",
    "\n",
    "\n",
    "# Get the project root automatically\n",
    "PROJECT_ROOT = find_project_root()\n",
    "print(Path.cwd())"
   ]
  },
  {
   "cell_type": "markdown",
   "metadata": {},
   "source": [
    "## Read data"
   ]
  },
  {
   "cell_type": "code",
   "execution_count": 7,
   "metadata": {},
   "outputs": [
    {
     "data": {
      "application/vnd.microsoft.datawrangler.viewer.v0+json": {
       "columns": [
        {
         "name": "index",
         "rawType": "int64",
         "type": "integer"
        },
        {
         "name": "Unnamed: 0",
         "rawType": "int64",
         "type": "integer"
        },
        {
         "name": "review_id",
         "rawType": "int64",
         "type": "integer"
        },
        {
         "name": "text",
         "rawType": "object",
         "type": "string"
        },
        {
         "name": "labels",
         "rawType": "object",
         "type": "string"
        }
       ],
       "conversionMethod": "pd.DataFrame",
       "ref": "8f48a6b1-dd93-48e1-9b4e-a5c8b1741a9c",
       "rows": [
        [
         "0",
         "0",
         "1",
         "Это был самый маленький по площади номер из всех отелей, где я останавливалась. Тем не менее, очень уютненький и комфортабельный мини отельчик. Мебель новая, все функционирует, удобно расположен. Учитывая дороговизну отелей Парижа, для эконом варианта вполне достойно.",
         "[{'aspect': 'размер номера', 'sentiment': 'negative'}, {'aspect': 'уют', 'sentiment': 'positive'}, {'aspect': 'комфорт', 'sentiment': 'positive'}, {'aspect': 'мебель', 'sentiment': 'positive'}, {'aspect': 'функциональность', 'sentiment': 'positive'}, {'aspect': 'расположение', 'sentiment': 'positive'}, {'aspect': 'цена', 'sentiment': 'positive'}]"
        ],
        [
         "1",
         "1",
         "2",
         "Понравилось всё!!! От персонала до оснащения номера!!! Модно,стильно,уютно. Огромный плазменный телевизор в номере, наличие банных принадлежностей (для мини-отеля это редкость), любезно предоставленная посуда,которая понадобилась в ходе проживания, ванная комната с просто блестящей сантехникой - всё это сложило невероятно приятное впечатление о гостинице!!! Девушка на ресепшене встретила с улыбкой, всё подробно объяснила, посоветовала. Желаю отелю дальнейшего процветания!Огромное спасибо за возможность прекрасно провести время!",
         "[{'aspect': 'персонал', 'sentiment': 'positive'}, {'aspect': 'оснащение номера', 'sentiment': 'positive'}, {'aspect': 'дизайн', 'sentiment': 'positive'}, {'aspect': 'уют', 'sentiment': 'positive'}, {'aspect': 'телевизор', 'sentiment': 'positive'}, {'aspect': 'банные принадлежности', 'sentiment': 'positive'}, {'aspect': 'посуда', 'sentiment': 'positive'}, {'aspect': 'ванная комната', 'sentiment': 'positive'}, {'aspect': 'сантехника', 'sentiment': 'positive'}, {'aspect': 'ресепшен', 'sentiment': 'positive'}]"
        ]
       ],
       "shape": {
        "columns": 4,
        "rows": 2
       }
      },
      "text/html": [
       "<div>\n",
       "<style scoped>\n",
       "    .dataframe tbody tr th:only-of-type {\n",
       "        vertical-align: middle;\n",
       "    }\n",
       "\n",
       "    .dataframe tbody tr th {\n",
       "        vertical-align: top;\n",
       "    }\n",
       "\n",
       "    .dataframe thead th {\n",
       "        text-align: right;\n",
       "    }\n",
       "</style>\n",
       "<table border=\"1\" class=\"dataframe\">\n",
       "  <thead>\n",
       "    <tr style=\"text-align: right;\">\n",
       "      <th></th>\n",
       "      <th>Unnamed: 0</th>\n",
       "      <th>review_id</th>\n",
       "      <th>text</th>\n",
       "      <th>labels</th>\n",
       "    </tr>\n",
       "  </thead>\n",
       "  <tbody>\n",
       "    <tr>\n",
       "      <th>0</th>\n",
       "      <td>0</td>\n",
       "      <td>1</td>\n",
       "      <td>Это был самый маленький по площади номер из вс...</td>\n",
       "      <td>[{'aspect': 'размер номера', 'sentiment': 'neg...</td>\n",
       "    </tr>\n",
       "    <tr>\n",
       "      <th>1</th>\n",
       "      <td>1</td>\n",
       "      <td>2</td>\n",
       "      <td>Понравилось всё!!! От персонала до оснащения н...</td>\n",
       "      <td>[{'aspect': 'персонал', 'sentiment': 'positive...</td>\n",
       "    </tr>\n",
       "  </tbody>\n",
       "</table>\n",
       "</div>"
      ],
      "text/plain": [
       "   Unnamed: 0  review_id                                               text  \\\n",
       "0           0          1  Это был самый маленький по площади номер из вс...   \n",
       "1           1          2  Понравилось всё!!! От персонала до оснащения н...   \n",
       "\n",
       "                                              labels  \n",
       "0  [{'aspect': 'размер номера', 'sentiment': 'neg...  \n",
       "1  [{'aspect': 'персонал', 'sentiment': 'positive...  "
      ]
     },
     "execution_count": 7,
     "metadata": {},
     "output_type": "execute_result"
    }
   ],
   "source": [
    "df_initial = pd.read_excel(PROJECT_ROOT / \"data\" / \"interim\" / \"200_labeled_gpt_4.xlsx\")\n",
    "df_initial.head(2)"
   ]
  },
  {
   "cell_type": "code",
   "execution_count": 31,
   "metadata": {},
   "outputs": [
    {
     "data": {
      "text/plain": [
       "(200, 4)"
      ]
     },
     "execution_count": 31,
     "metadata": {},
     "output_type": "execute_result"
    }
   ],
   "source": [
    "df_initial.shape"
   ]
  },
  {
   "cell_type": "markdown",
   "metadata": {},
   "source": [
    "## Some stats and tiny EDA on 200 reviews"
   ]
  },
  {
   "cell_type": "code",
   "execution_count": 42,
   "metadata": {},
   "outputs": [],
   "source": [
    "ls_labels = df_initial[\"labels\"].to_list()\n",
    "\n",
    "ls_aspect = []\n",
    "ls_sentiment = []\n",
    "\n",
    "for label in ls_labels:\n",
    "    label_json = json.loads(label.replace(\"'\", '\"'))\n",
    "    for aspect in label_json:\n",
    "        ls_aspect.append(aspect[\"aspect\"])\n",
    "        ls_sentiment.append(aspect[\"sentiment\"])"
   ]
  },
  {
   "cell_type": "code",
   "execution_count": null,
   "metadata": {},
   "outputs": [
    {
     "data": {
      "application/vnd.microsoft.datawrangler.viewer.v0+json": {
       "columns": [
        {
         "name": "index",
         "rawType": "int64",
         "type": "integer"
        },
        {
         "name": "aspect",
         "rawType": "object",
         "type": "string"
        },
        {
         "name": "sentiment",
         "rawType": "object",
         "type": "string"
        }
       ],
       "conversionMethod": "pd.DataFrame",
       "ref": "e7d90102-6e13-4b12-b207-3844b80a4b59",
       "rows": [
        [
         "0",
         "размер номера",
         "negative"
        ],
        [
         "1",
         "уют",
         "positive"
        ],
        [
         "2",
         "комфорт",
         "positive"
        ]
       ],
       "shape": {
        "columns": 2,
        "rows": 3
       }
      },
      "text/html": [
       "<div>\n",
       "<style scoped>\n",
       "    .dataframe tbody tr th:only-of-type {\n",
       "        vertical-align: middle;\n",
       "    }\n",
       "\n",
       "    .dataframe tbody tr th {\n",
       "        vertical-align: top;\n",
       "    }\n",
       "\n",
       "    .dataframe thead th {\n",
       "        text-align: right;\n",
       "    }\n",
       "</style>\n",
       "<table border=\"1\" class=\"dataframe\">\n",
       "  <thead>\n",
       "    <tr style=\"text-align: right;\">\n",
       "      <th></th>\n",
       "      <th>aspect</th>\n",
       "      <th>sentiment</th>\n",
       "    </tr>\n",
       "  </thead>\n",
       "  <tbody>\n",
       "    <tr>\n",
       "      <th>0</th>\n",
       "      <td>размер номера</td>\n",
       "      <td>negative</td>\n",
       "    </tr>\n",
       "    <tr>\n",
       "      <th>1</th>\n",
       "      <td>уют</td>\n",
       "      <td>positive</td>\n",
       "    </tr>\n",
       "    <tr>\n",
       "      <th>2</th>\n",
       "      <td>комфорт</td>\n",
       "      <td>positive</td>\n",
       "    </tr>\n",
       "  </tbody>\n",
       "</table>\n",
       "</div>"
      ],
      "text/plain": [
       "          aspect sentiment\n",
       "0  размер номера  negative\n",
       "1            уют  positive\n",
       "2        комфорт  positive"
      ]
     },
     "execution_count": 44,
     "metadata": {},
     "output_type": "execute_result"
    }
   ],
   "source": [
    "df_stat = pd.DataFrame({\"aspect\": ls_aspect, \"sentiment\": ls_sentiment})\n",
    "df_stat.head(3)"
   ]
  },
  {
   "cell_type": "code",
   "execution_count": 45,
   "metadata": {},
   "outputs": [
    {
     "data": {
      "text/plain": [
       "1571"
      ]
     },
     "execution_count": 45,
     "metadata": {},
     "output_type": "execute_result"
    }
   ],
   "source": [
    "len(df_stat)"
   ]
  },
  {
   "cell_type": "code",
   "execution_count": 46,
   "metadata": {},
   "outputs": [
    {
     "name": "stdout",
     "output_type": "stream",
     "text": [
      "sentiment\n",
      "positive    1085\n",
      "negative     341\n",
      "mixed         82\n",
      "neutral       63\n",
      "Name: count, dtype: int64\n"
     ]
    }
   ],
   "source": [
    "sentiment_counts = df_stat[\"sentiment\"].value_counts()\n",
    "print(sentiment_counts)"
   ]
  },
  {
   "cell_type": "code",
   "execution_count": 48,
   "metadata": {},
   "outputs": [
    {
     "data": {
      "application/vnd.microsoft.datawrangler.viewer.v0+json": {
       "columns": [
        {
         "name": "aspect",
         "rawType": "object",
         "type": "string"
        },
        {
         "name": "mixed",
         "rawType": "int64",
         "type": "integer"
        },
        {
         "name": "negative",
         "rawType": "int64",
         "type": "integer"
        },
        {
         "name": "neutral",
         "rawType": "int64",
         "type": "integer"
        },
        {
         "name": "positive",
         "rawType": "int64",
         "type": "integer"
        }
       ],
       "conversionMethod": "pd.DataFrame",
       "ref": "46fbcf6f-dcb9-4170-bee7-374a0f6f9072",
       "rows": [
        [
         "best western",
         "0",
         "0",
         "0",
         "1"
        ],
        [
         "reception",
         "0",
         "0",
         "1",
         "0"
        ],
        [
         "wi-fi",
         "1",
         "9",
         "1",
         "10"
        ],
        [
         "wifi",
         "0",
         "2",
         "0",
         "2"
        ],
        [
         "администратор",
         "0",
         "0",
         "1",
         "0"
        ],
        [
         "администрация",
         "0",
         "1",
         "0",
         "1"
        ],
        [
         "администрация отеля",
         "0",
         "1",
         "0",
         "0"
        ],
        [
         "акции и скидки",
         "0",
         "0",
         "0",
         "1"
        ],
        [
         "анимация",
         "0",
         "1",
         "0",
         "0"
        ],
        [
         "апартаменты",
         "0",
         "0",
         "0",
         "2"
        ],
        [
         "архитектура",
         "0",
         "0",
         "0",
         "1"
        ],
        [
         "атмосфера",
         "1",
         "0",
         "0",
         "11"
        ],
        [
         "атмосфера в отеле",
         "0",
         "0",
         "1",
         "0"
        ],
        [
         "багаж",
         "0",
         "0",
         "0",
         "1"
        ],
        [
         "балкон",
         "0",
         "0",
         "0",
         "2"
        ],
        [
         "банные принадлежности",
         "0",
         "0",
         "0",
         "1"
        ],
        [
         "бар",
         "0",
         "1",
         "2",
         "1"
        ],
        [
         "бассейн",
         "1",
         "2",
         "0",
         "7"
        ],
        [
         "бассейны",
         "0",
         "0",
         "0",
         "1"
        ],
        [
         "бассейны и сауны",
         "0",
         "0",
         "0",
         "1"
        ],
        [
         "безопасность",
         "0",
         "5",
         "1",
         "3"
        ],
        [
         "безопасность розеток",
         "0",
         "1",
         "0",
         "0"
        ],
        [
         "бельё",
         "0",
         "0",
         "0",
         "1"
        ],
        [
         "бесплатные услуги",
         "0",
         "0",
         "0",
         "1"
        ],
        [
         "бизнес-ланч",
         "0",
         "0",
         "0",
         "1"
        ],
        [
         "близость к достопримечательностям",
         "0",
         "0",
         "0",
         "3"
        ],
        [
         "близость к магазинам",
         "0",
         "0",
         "0",
         "1"
        ],
        [
         "близость к магазинам и ресторанам",
         "0",
         "0",
         "0",
         "1"
        ],
        [
         "близость к магазинам и услугам",
         "0",
         "0",
         "0",
         "1"
        ],
        [
         "близость к рынку",
         "0",
         "0",
         "0",
         "1"
        ],
        [
         "близость кафе",
         "0",
         "0",
         "0",
         "1"
        ],
        [
         "близость кафе и достопримечательностей",
         "0",
         "0",
         "0",
         "1"
        ],
        [
         "близость супермаркета",
         "0",
         "0",
         "0",
         "1"
        ],
        [
         "бронирование",
         "0",
         "3",
         "2",
         "2"
        ],
        [
         "бронирование и оплата",
         "0",
         "1",
         "0",
         "0"
        ],
        [
         "букирование онлайн",
         "0",
         "1",
         "0",
         "0"
        ],
        [
         "буфет",
         "0",
         "0",
         "0",
         "1"
        ],
        [
         "вай-фай",
         "0",
         "0",
         "0",
         "2"
        ],
        [
         "ванная",
         "0",
         "0",
         "0",
         "1"
        ],
        [
         "ванная и туалет",
         "0",
         "0",
         "0",
         "1"
        ],
        [
         "ванная комната",
         "1",
         "4",
         "0",
         "12"
        ],
        [
         "вентиляция и влажность",
         "0",
         "1",
         "0",
         "0"
        ],
        [
         "вечерний фуршет",
         "0",
         "0",
         "0",
         "1"
        ],
        [
         "вид",
         "0",
         "0",
         "0",
         "2"
        ],
        [
         "вид из номера",
         "1",
         "0",
         "0",
         "2"
        ],
        [
         "вид из окна",
         "3",
         "6",
         "2",
         "9"
        ],
        [
         "вид из ресторана",
         "0",
         "0",
         "0",
         "1"
        ],
        [
         "внешний вид отеля",
         "0",
         "1",
         "0",
         "2"
        ],
        [
         "внимание со стороны владельцев",
         "0",
         "0",
         "0",
         "1"
        ],
        [
         "внутреннее оснащение",
         "0",
         "0",
         "0",
         "1"
        ]
       ],
       "shape": {
        "columns": 4,
        "rows": 412
       }
      },
      "text/html": [
       "<div>\n",
       "<style scoped>\n",
       "    .dataframe tbody tr th:only-of-type {\n",
       "        vertical-align: middle;\n",
       "    }\n",
       "\n",
       "    .dataframe tbody tr th {\n",
       "        vertical-align: top;\n",
       "    }\n",
       "\n",
       "    .dataframe thead th {\n",
       "        text-align: right;\n",
       "    }\n",
       "</style>\n",
       "<table border=\"1\" class=\"dataframe\">\n",
       "  <thead>\n",
       "    <tr style=\"text-align: right;\">\n",
       "      <th>sentiment</th>\n",
       "      <th>mixed</th>\n",
       "      <th>negative</th>\n",
       "      <th>neutral</th>\n",
       "      <th>positive</th>\n",
       "    </tr>\n",
       "    <tr>\n",
       "      <th>aspect</th>\n",
       "      <th></th>\n",
       "      <th></th>\n",
       "      <th></th>\n",
       "      <th></th>\n",
       "    </tr>\n",
       "  </thead>\n",
       "  <tbody>\n",
       "    <tr>\n",
       "      <th>best western</th>\n",
       "      <td>0</td>\n",
       "      <td>0</td>\n",
       "      <td>0</td>\n",
       "      <td>1</td>\n",
       "    </tr>\n",
       "    <tr>\n",
       "      <th>reception</th>\n",
       "      <td>0</td>\n",
       "      <td>0</td>\n",
       "      <td>1</td>\n",
       "      <td>0</td>\n",
       "    </tr>\n",
       "    <tr>\n",
       "      <th>wi-fi</th>\n",
       "      <td>1</td>\n",
       "      <td>9</td>\n",
       "      <td>1</td>\n",
       "      <td>10</td>\n",
       "    </tr>\n",
       "    <tr>\n",
       "      <th>wifi</th>\n",
       "      <td>0</td>\n",
       "      <td>2</td>\n",
       "      <td>0</td>\n",
       "      <td>2</td>\n",
       "    </tr>\n",
       "    <tr>\n",
       "      <th>администратор</th>\n",
       "      <td>0</td>\n",
       "      <td>0</td>\n",
       "      <td>1</td>\n",
       "      <td>0</td>\n",
       "    </tr>\n",
       "    <tr>\n",
       "      <th>...</th>\n",
       "      <td>...</td>\n",
       "      <td>...</td>\n",
       "      <td>...</td>\n",
       "      <td>...</td>\n",
       "    </tr>\n",
       "    <tr>\n",
       "      <th>электрочайник</th>\n",
       "      <td>0</td>\n",
       "      <td>0</td>\n",
       "      <td>0</td>\n",
       "      <td>1</td>\n",
       "    </tr>\n",
       "    <tr>\n",
       "      <th>эхо в номере</th>\n",
       "      <td>0</td>\n",
       "      <td>1</td>\n",
       "      <td>0</td>\n",
       "      <td>0</td>\n",
       "    </tr>\n",
       "    <tr>\n",
       "      <th>языковая поддержка</th>\n",
       "      <td>0</td>\n",
       "      <td>0</td>\n",
       "      <td>0</td>\n",
       "      <td>1</td>\n",
       "    </tr>\n",
       "    <tr>\n",
       "      <th>языковой барьер</th>\n",
       "      <td>0</td>\n",
       "      <td>1</td>\n",
       "      <td>0</td>\n",
       "      <td>0</td>\n",
       "    </tr>\n",
       "    <tr>\n",
       "      <th>языковые навыки персонала</th>\n",
       "      <td>0</td>\n",
       "      <td>2</td>\n",
       "      <td>0</td>\n",
       "      <td>2</td>\n",
       "    </tr>\n",
       "  </tbody>\n",
       "</table>\n",
       "<p>412 rows × 4 columns</p>\n",
       "</div>"
      ],
      "text/plain": [
       "sentiment                  mixed  negative  neutral  positive\n",
       "aspect                                                       \n",
       "best western                   0         0        0         1\n",
       "reception                      0         0        1         0\n",
       "wi-fi                          1         9        1        10\n",
       "wifi                           0         2        0         2\n",
       "администратор                  0         0        1         0\n",
       "...                          ...       ...      ...       ...\n",
       "электрочайник                  0         0        0         1\n",
       "эхо в номере                   0         1        0         0\n",
       "языковая поддержка             0         0        0         1\n",
       "языковой барьер                0         1        0         0\n",
       "языковые навыки персонала      0         2        0         2\n",
       "\n",
       "[412 rows x 4 columns]"
      ]
     },
     "execution_count": 48,
     "metadata": {},
     "output_type": "execute_result"
    }
   ],
   "source": [
    "aspect_counts = df_stat.groupby(\"aspect\")[\"sentiment\"].value_counts().unstack(fill_value=0)\n",
    "aspect_counts"
   ]
  },
  {
   "cell_type": "code",
   "execution_count": 49,
   "metadata": {},
   "outputs": [
    {
     "data": {
      "image/png": "[encoded data removed]",
      "text/plain": [
       "<Figure size 640x480 with 1 Axes>"
      ]
     },
     "metadata": {},
     "output_type": "display_data"
    }
   ],
   "source": [
    "import matplotlib.pyplot as plt\n",
    "\n",
    "# Bar chart of sentiment counts\n",
    "sentiment_counts.plot(kind=\"bar\", title=\"Sentiment Distribution\", rot=0)\n",
    "plt.xlabel(\"Sentiment\")\n",
    "plt.ylabel(\"Count\")\n",
    "plt.show()"
   ]
  },
  {
   "cell_type": "code",
   "execution_count": 67,
   "metadata": {},
   "outputs": [
    {
     "data": {
      "image/png": "[encoded data removed]",
      "text/plain": [
       "<Figure size 640x480 with 1 Axes>"
      ]
     },
     "metadata": {},
     "output_type": "display_data"
    }
   ],
   "source": [
    "import matplotlib.pyplot as plt\n",
    "\n",
    "# Define custom colors\n",
    "\n",
    "custom_colors = [\"#FF9999\", \"#66B3FF\", \"#99FF99\", \"#FFD700\"]  # Red, Blue, Green, Gold\n",
    "\n",
    "# Create Pie Chart with custom colors\n",
    "sentiment_counts.plot(\n",
    "    kind=\"pie\",\n",
    "    autopct=\"%1.1f%%\",\n",
    "    title=\"Sentiment Distribution\",\n",
    "    colors=custom_colors,  # Apply custom colors\n",
    "    startangle=90,  # Rotate start position\n",
    "    wedgeprops={\"edgecolor\": \"black\"},  # Add border for better visibility\n",
    ")\n",
    "\n",
    "plt.ylabel(\"\")  # Hide y-label for cleaner look\n",
    "plt.show()"
   ]
  },
  {
   "cell_type": "code",
   "execution_count": 51,
   "metadata": {},
   "outputs": [],
   "source": [
    "from collections import Counter\n",
    "\n",
    "cnt_stat = Counter(ls_aspect)"
   ]
  },
  {
   "cell_type": "code",
   "execution_count": 57,
   "metadata": {},
   "outputs": [
    {
     "data": {
      "text/plain": [
       "[('расположение', 150),\n",
       " ('персонал', 114),\n",
       " ('завтрак', 97),\n",
       " ('общее впечатление', 86),\n",
       " ('номер', 83),\n",
       " ('чистота', 54),\n",
       " ('цена', 49),\n",
       " ('удобства в номере', 28),\n",
       " ('обслуживание', 22),\n",
       " ('wi-fi', 21)]"
      ]
     },
     "execution_count": 57,
     "metadata": {},
     "output_type": "execute_result"
    }
   ],
   "source": [
    "dict_stat = cnt_stat.most_common(10)\n",
    "dict_stat"
   ]
  },
  {
   "cell_type": "code",
   "execution_count": 63,
   "metadata": {},
   "outputs": [
    {
     "data": {
      "text/plain": [
       "{'расположение': '75%',\n",
       " 'персонал': '57%',\n",
       " 'завтрак': '48%',\n",
       " 'общее впечатление': '43%',\n",
       " 'номер': '42%',\n",
       " 'чистота': '27%',\n",
       " 'цена': '24%',\n",
       " 'удобства в номере': '14%',\n",
       " 'обслуживание': '11%',\n",
       " 'wi-fi': '10%'}"
      ]
     },
     "execution_count": 63,
     "metadata": {},
     "output_type": "execute_result"
    }
   ],
   "source": [
    "import math\n",
    "\n",
    "dict_stat_percent = {k: (str(round((v / 200) * 100)) + \"%\") for k, v in dict_stat}\n",
    "dict_stat_percent"
   ]
  },
  {
   "cell_type": "markdown",
   "metadata": {},
   "source": [
    "## Оценим точность: GPT-4 vs accessor"
   ]
  },
  {
   "cell_type": "code",
   "execution_count": 65,
   "metadata": {},
   "outputs": [],
   "source": [
    "df_initial.sample(5).to_excel(PROJECT_ROOT / \"data\" / \"interim\" / \"5_samples.xlsx\")"
   ]
  },
  {
   "cell_type": "markdown",
   "metadata": {},
   "source": [
    "В файле сделаны ручные оценки полноты и точности, уровень совпадения gpt-4 и  ацессора 100%.\n",
    "Ацессором выступал автор ноутбука."
   ]
  },
  {
   "cell_type": "markdown",
   "metadata": {},
   "source": [
    "## Пример таксмонии оценки отзывов"
   ]
  },
  {
   "cell_type": "code",
   "execution_count": 88,
   "metadata": {},
   "outputs": [
    {
     "data": {
      "application/vnd.plotly.v1+json": {
       "config": {
        "plotlyServerURL": "https://plot.ly"
       },
       "data": [
        {
         "link": {
          "source": [
           0,
           1,
           1,
           1,
           0,
           5,
           5,
           5,
           0,
           9,
           9,
           9,
           13,
           14,
           14,
           13,
           17,
           17,
           13,
           20,
           20,
           13,
           23,
           23,
           26,
           27,
           27,
           27,
           26,
           26,
           33,
           34,
           34,
           34,
           33,
           38,
           38,
           33,
           41,
           41,
           33,
           44,
           46,
           47,
           47,
           47,
           46,
           51,
           51,
           46,
           54,
           54,
           46,
           57,
           57,
           60,
           61,
           61,
           60,
           64,
           64,
           60,
           67,
           67,
           70,
           71,
           71,
           70,
           74,
           74,
           70,
           77,
           79,
           80,
           80,
           79,
           83,
           79,
           85,
           85,
           79,
           88,
           90,
           91,
           90,
           92,
           92,
           90,
           44,
           44
          ],
          "target": [
           1,
           2,
           3,
           4,
           5,
           6,
           7,
           8,
           9,
           10,
           11,
           12,
           14,
           15,
           16,
           17,
           18,
           19,
           20,
           21,
           22,
           23,
           24,
           25,
           27,
           28,
           29,
           30,
           31,
           32,
           34,
           35,
           36,
           37,
           38,
           39,
           40,
           41,
           42,
           43,
           44,
           45,
           47,
           48,
           49,
           50,
           51,
           52,
           53,
           54,
           55,
           56,
           57,
           58,
           59,
           61,
           62,
           63,
           64,
           65,
           66,
           67,
           68,
           69,
           71,
           72,
           73,
           74,
           75,
           76,
           77,
           78,
           80,
           81,
           82,
           83,
           84,
           85,
           86,
           87,
           88,
           89,
           91,
           45,
           92,
           93,
           94,
           44,
           95,
           96
          ],
          "value": [
           3,
           1,
           1,
           1,
           3,
           1,
           1,
           1,
           3,
           1,
           1,
           1,
           2,
           1,
           1,
           2,
           1,
           1,
           2,
           1,
           1,
           2,
           1,
           1,
           3,
           1,
           1,
           1,
           1,
           1,
           3,
           1,
           1,
           1,
           2,
           1,
           1,
           2,
           1,
           1,
           1,
           1,
           3,
           1,
           1,
           1,
           2,
           1,
           1,
           2,
           1,
           1,
           2,
           1,
           1,
           2,
           1,
           1,
           2,
           1,
           1,
           2,
           1,
           1,
           2,
           1,
           1,
           2,
           1,
           1,
           1,
           1,
           2,
           1,
           1,
           1,
           1,
           2,
           1,
           1,
           1,
           1,
           1,
           1,
           2,
           1,
           1,
           2,
           1,
           1
          ]
         },
         "node": {
          "label": [
           "Локация и транспорт",
           "Расположение",
           "Достопримечательности",
           "Парки",
           "Центр города",
           "Транспортная доступность",
           "Автобусы",
           "Метро",
           "Такси",
           "Парковка",
           "Охраняемая",
           "Платная",
           "Бесплатная",
           "Обслуживание и персонал",
           "Персонал",
           "Доброжелательность",
           "Компетентность",
           "Сервис",
           "Скорость обслуживания",
           "Реакция на жалобы",
           "Гостеприимство",
           "Приветствие",
           "Помощь гостям",
           "Бронирование",
           "Онлайн",
           "Через звонок",
           "Цена и качество",
           "Цена",
           "Высокая",
           "Средняя",
           "Низкая",
           "Соотношение цена/качество",
           "Выбор отеля",
           "Комфорт и удобства",
           "Размер номера",
           "Маленький",
           "Средний",
           "Просторный",
           "Мебель",
           "Современная",
           "Старая",
           "Кондиционер",
           "Работает",
           "Не работает",
           "Звукоизоляция",
           "Плохая",
           "Чистота и гигиена",
           "Чистота номера",
           "Пыль",
           "Запах",
           "Чистая",
           "Уборка",
           "Ежедневная",
           "Редкая",
           "Сантехника",
           "Исправная",
           "Неисправная",
           "Безопасность",
           "Камеры",
           "Охрана",
           "Питание",
           "Завтрак",
           "Шведский стол",
           "Континентальный",
           "Качество еды",
           "Свежая",
           "Несвежая",
           "Ресторан",
           "Разнообразие блюд",
           "Обслуживание",
           "Атмосфера и интерьер",
           "Интерьер",
           "Современный",
           "Классический",
           "Атмосфера",
           "Уютная",
           "Безликая",
           "Дизайн",
           "Минимализм",
           "Технические удобства",
           "Wi-Fi",
           "Скорость",
           "Стабильность",
           "Интернет",
           "Доступность",
           "Телевизор",
           "Каналы",
           "Качество изображения",
           "Лифт",
           "Наличие",
           "Шум и звуки",
           "Шумоизоляция",
           "Шум",
           "С улицы",
           "Из коридора",
           "Стены",
           "Окна"
          ],
          "pad": 15,
          "thickness": 20
         },
         "type": "sankey"
        }
       ],
       "layout": {
        "template": {
         "data": {
          "bar": [
           {
            "error_x": {
             "color": "#2a3f5f"
            },
            "error_y": {
             "color": "#2a3f5f"
            },
            "marker": {
             "line": {
              "color": "#E5ECF6",
              "width": 0.5
             },
             "pattern": {
              "fillmode": "overlay",
              "size": 10,
              "solidity": 0.2
             }
            },
            "type": "bar"
           }
          ],
          "barpolar": [
           {
            "marker": {
             "line": {
              "color": "#E5ECF6",
              "width": 0.5
             },
             "pattern": {
              "fillmode": "overlay",
              "size": 10,
              "solidity": 0.2
             }
            },
            "type": "barpolar"
           }
          ],
          "carpet": [
           {
            "aaxis": {
             "endlinecolor": "#2a3f5f",
             "gridcolor": "white",
             "linecolor": "white",
             "minorgridcolor": "white",
             "startlinecolor": "#2a3f5f"
            },
            "baxis": {
             "endlinecolor": "#2a3f5f",
             "gridcolor": "white",
             "linecolor": "white",
             "minorgridcolor": "white",
             "startlinecolor": "#2a3f5f"
            },
            "type": "carpet"
           }
          ],
          "choropleth": [
           {
            "colorbar": {
             "outlinewidth": 0,
             "ticks": ""
            },
            "type": "choropleth"
           }
          ],
          "contour": [
           {
            "colorbar": {
             "outlinewidth": 0,
             "ticks": ""
            },
            "colorscale": [
             [
              0,
              "#0d0887"
             ],
             [
              0.1111111111111111,
              "#46039f"
             ],
             [
              0.2222222222222222,
              "#7201a8"
             ],
             [
              0.3333333333333333,
              "#9c179e"
             ],
             [
              0.4444444444444444,
              "#bd3786"
             ],
             [
              0.5555555555555556,
              "#d8576b"
             ],
             [
              0.6666666666666666,
              "#ed7953"
             ],
             [
              0.7777777777777778,
              "#fb9f3a"
             ],
             [
              0.8888888888888888,
              "#fdca26"
             ],
             [
              1,
              "#f0f921"
             ]
            ],
            "type": "contour"
           }
          ],
          "contourcarpet": [
           {
            "colorbar": {
             "outlinewidth": 0,
             "ticks": ""
            },
            "type": "contourcarpet"
           }
          ],
          "heatmap": [
           {
            "colorbar": {
             "outlinewidth": 0,
             "ticks": ""
            },
            "colorscale": [
             [
              0,
              "#0d0887"
             ],
             [
              0.1111111111111111,
              "#46039f"
             ],
             [
              0.2222222222222222,
              "#7201a8"
             ],
             [
              0.3333333333333333,
              "#9c179e"
             ],
             [
              0.4444444444444444,
              "#bd3786"
             ],
             [
              0.5555555555555556,
              "#d8576b"
             ],
             [
              0.6666666666666666,
              "#ed7953"
             ],
             [
              0.7777777777777778,
              "#fb9f3a"
             ],
             [
              0.8888888888888888,
              "#fdca26"
             ],
             [
              1,
              "#f0f921"
             ]
            ],
            "type": "heatmap"
           }
          ],
          "heatmapgl": [
           {
            "colorbar": {
             "outlinewidth": 0,
             "ticks": ""
            },
            "colorscale": [
             [
              0,
              "#0d0887"
             ],
             [
              0.1111111111111111,
              "#46039f"
             ],
             [
              0.2222222222222222,
              "#7201a8"
             ],
             [
              0.3333333333333333,
              "#9c179e"
             ],
             [
              0.4444444444444444,
              "#bd3786"
             ],
             [
              0.5555555555555556,
              "#d8576b"
             ],
             [
              0.6666666666666666,
              "#ed7953"
             ],
             [
              0.7777777777777778,
              "#fb9f3a"
             ],
             [
              0.8888888888888888,
              "#fdca26"
             ],
             [
              1,
              "#f0f921"
             ]
            ],
            "type": "heatmapgl"
           }
          ],
          "histogram": [
           {
            "marker": {
             "pattern": {
              "fillmode": "overlay",
              "size": 10,
              "solidity": 0.2
             }
            },
            "type": "histogram"
           }
          ],
          "histogram2d": [
           {
            "colorbar": {
             "outlinewidth": 0,
             "ticks": ""
            },
            "colorscale": [
             [
              0,
              "#0d0887"
             ],
             [
              0.1111111111111111,
              "#46039f"
             ],
             [
              0.2222222222222222,
              "#7201a8"
             ],
             [
              0.3333333333333333,
              "#9c179e"
             ],
             [
              0.4444444444444444,
              "#bd3786"
             ],
             [
              0.5555555555555556,
              "#d8576b"
             ],
             [
              0.6666666666666666,
              "#ed7953"
             ],
             [
              0.7777777777777778,
              "#fb9f3a"
             ],
             [
              0.8888888888888888,
              "#fdca26"
             ],
             [
              1,
              "#f0f921"
             ]
            ],
            "type": "histogram2d"
           }
          ],
          "histogram2dcontour": [
           {
            "colorbar": {
             "outlinewidth": 0,
             "ticks": ""
            },
            "colorscale": [
             [
              0,
              "#0d0887"
             ],
             [
              0.1111111111111111,
              "#46039f"
             ],
             [
              0.2222222222222222,
              "#7201a8"
             ],
             [
              0.3333333333333333,
              "#9c179e"
             ],
             [
              0.4444444444444444,
              "#bd3786"
             ],
             [
              0.5555555555555556,
              "#d8576b"
             ],
             [
              0.6666666666666666,
              "#ed7953"
             ],
             [
              0.7777777777777778,
              "#fb9f3a"
             ],
             [
              0.8888888888888888,
              "#fdca26"
             ],
             [
              1,
              "#f0f921"
             ]
            ],
            "type": "histogram2dcontour"
           }
          ],
          "mesh3d": [
           {
            "colorbar": {
             "outlinewidth": 0,
             "ticks": ""
            },
            "type": "mesh3d"
           }
          ],
          "parcoords": [
           {
            "line": {
             "colorbar": {
              "outlinewidth": 0,
              "ticks": ""
             }
            },
            "type": "parcoords"
           }
          ],
          "pie": [
           {
            "automargin": true,
            "type": "pie"
           }
          ],
          "scatter": [
           {
            "fillpattern": {
             "fillmode": "overlay",
             "size": 10,
             "solidity": 0.2
            },
            "type": "scatter"
           }
          ],
          "scatter3d": [
           {
            "line": {
             "colorbar": {
              "outlinewidth": 0,
              "ticks": ""
             }
            },
            "marker": {
             "colorbar": {
              "outlinewidth": 0,
              "ticks": ""
             }
            },
            "type": "scatter3d"
           }
          ],
          "scattercarpet": [
           {
            "marker": {
             "colorbar": {
              "outlinewidth": 0,
              "ticks": ""
             }
            },
            "type": "scattercarpet"
           }
          ],
          "scattergeo": [
           {
            "marker": {
             "colorbar": {
              "outlinewidth": 0,
              "ticks": ""
             }
            },
            "type": "scattergeo"
           }
          ],
          "scattergl": [
           {
            "marker": {
             "colorbar": {
              "outlinewidth": 0,
              "ticks": ""
             }
            },
            "type": "scattergl"
           }
          ],
          "scattermapbox": [
           {
            "marker": {
             "colorbar": {
              "outlinewidth": 0,
              "ticks": ""
             }
            },
            "type": "scattermapbox"
           }
          ],
          "scatterpolar": [
           {
            "marker": {
             "colorbar": {
              "outlinewidth": 0,
              "ticks": ""
             }
            },
            "type": "scatterpolar"
           }
          ],
          "scatterpolargl": [
           {
            "marker": {
             "colorbar": {
              "outlinewidth": 0,
              "ticks": ""
             }
            },
            "type": "scatterpolargl"
           }
          ],
          "scatterternary": [
           {
            "marker": {
             "colorbar": {
              "outlinewidth": 0,
              "ticks": ""
             }
            },
            "type": "scatterternary"
           }
          ],
          "surface": [
           {
            "colorbar": {
             "outlinewidth": 0,
             "ticks": ""
            },
            "colorscale": [
             [
              0,
              "#0d0887"
             ],
             [
              0.1111111111111111,
              "#46039f"
             ],
             [
              0.2222222222222222,
              "#7201a8"
             ],
             [
              0.3333333333333333,
              "#9c179e"
             ],
             [
              0.4444444444444444,
              "#bd3786"
             ],
             [
              0.5555555555555556,
              "#d8576b"
             ],
             [
              0.6666666666666666,
              "#ed7953"
             ],
             [
              0.7777777777777778,
              "#fb9f3a"
             ],
             [
              0.8888888888888888,
              "#fdca26"
             ],
             [
              1,
              "#f0f921"
             ]
            ],
            "type": "surface"
           }
          ],
          "table": [
           {
            "cells": {
             "fill": {
              "color": "#EBF0F8"
             },
             "line": {
              "color": "white"
             }
            },
            "header": {
             "fill": {
              "color": "#C8D4E3"
             },
             "line": {
              "color": "white"
             }
            },
            "type": "table"
           }
          ]
         },
         "layout": {
          "annotationdefaults": {
           "arrowcolor": "#2a3f5f",
           "arrowhead": 0,
           "arrowwidth": 1
          },
          "autotypenumbers": "strict",
          "coloraxis": {
           "colorbar": {
            "outlinewidth": 0,
            "ticks": ""
           }
          },
          "colorscale": {
           "diverging": [
            [
             0,
             "#8e0152"
            ],
            [
             0.1,
             "#c51b7d"
            ],
            [
             0.2,
             "#de77ae"
            ],
            [
             0.3,
             "#f1b6da"
            ],
            [
             0.4,
             "#fde0ef"
            ],
            [
             0.5,
             "#f7f7f7"
            ],
            [
             0.6,
             "#e6f5d0"
            ],
            [
             0.7,
             "#b8e186"
            ],
            [
             0.8,
             "#7fbc41"
            ],
            [
             0.9,
             "#4d9221"
            ],
            [
             1,
             "#276419"
            ]
           ],
           "sequential": [
            [
             0,
             "#0d0887"
            ],
            [
             0.1111111111111111,
             "#46039f"
            ],
            [
             0.2222222222222222,
             "#7201a8"
            ],
            [
             0.3333333333333333,
             "#9c179e"
            ],
            [
             0.4444444444444444,
             "#bd3786"
            ],
            [
             0.5555555555555556,
             "#d8576b"
            ],
            [
             0.6666666666666666,
             "#ed7953"
            ],
            [
             0.7777777777777778,
             "#fb9f3a"
            ],
            [
             0.8888888888888888,
             "#fdca26"
            ],
            [
             1,
             "#f0f921"
            ]
           ],
           "sequentialminus": [
            [
             0,
             "#0d0887"
            ],
            [
             0.1111111111111111,
             "#46039f"
            ],
            [
             0.2222222222222222,
             "#7201a8"
            ],
            [
             0.3333333333333333,
             "#9c179e"
            ],
            [
             0.4444444444444444,
             "#bd3786"
            ],
            [
             0.5555555555555556,
             "#d8576b"
            ],
            [
             0.6666666666666666,
             "#ed7953"
            ],
            [
             0.7777777777777778,
             "#fb9f3a"
            ],
            [
             0.8888888888888888,
             "#fdca26"
            ],
            [
             1,
             "#f0f921"
            ]
           ]
          },
          "colorway": [
           "#636efa",
           "#EF553B",
           "#00cc96",
           "#ab63fa",
           "#FFA15A",
           "#19d3f3",
           "#FF6692",
           "#B6E880",
           "#FF97FF",
           "#FECB52"
          ],
          "font": {
           "color": "#2a3f5f"
          },
          "geo": {
           "bgcolor": "white",
           "lakecolor": "white",
           "landcolor": "#E5ECF6",
           "showlakes": true,
           "showland": true,
           "subunitcolor": "white"
          },
          "hoverlabel": {
           "align": "left"
          },
          "hovermode": "closest",
          "mapbox": {
           "style": "light"
          },
          "paper_bgcolor": "white",
          "plot_bgcolor": "#E5ECF6",
          "polar": {
           "angularaxis": {
            "gridcolor": "white",
            "linecolor": "white",
            "ticks": ""
           },
           "bgcolor": "#E5ECF6",
           "radialaxis": {
            "gridcolor": "white",
            "linecolor": "white",
            "ticks": ""
           }
          },
          "scene": {
           "xaxis": {
            "backgroundcolor": "#E5ECF6",
            "gridcolor": "white",
            "gridwidth": 2,
            "linecolor": "white",
            "showbackground": true,
            "ticks": "",
            "zerolinecolor": "white"
           },
           "yaxis": {
            "backgroundcolor": "#E5ECF6",
            "gridcolor": "white",
            "gridwidth": 2,
            "linecolor": "white",
            "showbackground": true,
            "ticks": "",
            "zerolinecolor": "white"
           },
           "zaxis": {
            "backgroundcolor": "#E5ECF6",
            "gridcolor": "white",
            "gridwidth": 2,
            "linecolor": "white",
            "showbackground": true,
            "ticks": "",
            "zerolinecolor": "white"
           }
          },
          "shapedefaults": {
           "line": {
            "color": "#2a3f5f"
           }
          },
          "ternary": {
           "aaxis": {
            "gridcolor": "white",
            "linecolor": "white",
            "ticks": ""
           },
           "baxis": {
            "gridcolor": "white",
            "linecolor": "white",
            "ticks": ""
           },
           "bgcolor": "#E5ECF6",
           "caxis": {
            "gridcolor": "white",
            "linecolor": "white",
            "ticks": ""
           }
          },
          "title": {
           "x": 0.05
          },
          "xaxis": {
           "automargin": true,
           "gridcolor": "white",
           "linecolor": "white",
           "ticks": "",
           "title": {
            "standoff": 15
           },
           "zerolinecolor": "white",
           "zerolinewidth": 2
          },
          "yaxis": {
           "automargin": true,
           "gridcolor": "white",
           "linecolor": "white",
           "ticks": "",
           "title": {
            "standoff": 15
           },
           "zerolinecolor": "white",
           "zerolinewidth": 2
          }
         }
        },
        "title": {
         "text": "Таксономия аспектов отзывов (Sankey Diagram)"
        }
       }
      }
     },
     "metadata": {},
     "output_type": "display_data"
    }
   ],
   "source": [
    "import plotly.graph_objects as go\n",
    "\n",
    "# Define taxonomy structure\n",
    "categories = {\n",
    "    \"Локация и транспорт\": {\n",
    "        \"Расположение\": [\"Достопримечательности\", \"Парки\", \"Центр города\"],\n",
    "        \"Транспортная доступность\": [\"Автобусы\", \"Метро\", \"Такси\"],\n",
    "        \"Парковка\": [\"Охраняемая\", \"Платная\", \"Бесплатная\"],\n",
    "    },\n",
    "    \"Обслуживание и персонал\": {\n",
    "        \"Персонал\": [\"Доброжелательность\", \"Компетентность\"],\n",
    "        \"Сервис\": [\"Скорость обслуживания\", \"Реакция на жалобы\"],\n",
    "        \"Гостеприимство\": [\"Приветствие\", \"Помощь гостям\"],\n",
    "        \"Бронирование\": [\"Онлайн\", \"Через звонок\"],\n",
    "    },\n",
    "    \"Цена и качество\": {\n",
    "        \"Цена\": [\"Высокая\", \"Средняя\", \"Низкая\"],\n",
    "        \"Соотношение цена/качество\": [],\n",
    "        \"Выбор отеля\": [],\n",
    "    },\n",
    "    \"Комфорт и удобства\": {\n",
    "        \"Размер номера\": [\"Маленький\", \"Средний\", \"Просторный\"],\n",
    "        \"Мебель\": [\"Современная\", \"Старая\"],\n",
    "        \"Кондиционер\": [\"Работает\", \"Не работает\"],\n",
    "        \"Звукоизоляция\": [\"Плохая\"],\n",
    "    },\n",
    "    \"Чистота и гигиена\": {\n",
    "        \"Чистота номера\": [\"Пыль\", \"Запах\", \"Чистая\"],\n",
    "        \"Уборка\": [\"Ежедневная\", \"Редкая\"],\n",
    "        \"Сантехника\": [\"Исправная\", \"Неисправная\"],\n",
    "        \"Безопасность\": [\"Камеры\", \"Охрана\"],\n",
    "    },\n",
    "    \"Питание\": {\n",
    "        \"Завтрак\": [\"Шведский стол\", \"Континентальный\"],\n",
    "        \"Качество еды\": [\"Свежая\", \"Несвежая\"],\n",
    "        \"Ресторан\": [\"Разнообразие блюд\", \"Обслуживание\"],\n",
    "    },\n",
    "    \"Атмосфера и интерьер\": {\n",
    "        \"Интерьер\": [\"Современный\", \"Классический\"],\n",
    "        \"Атмосфера\": [\"Уютная\", \"Безликая\"],\n",
    "        \"Дизайн\": [\"Минимализм\"],\n",
    "    },\n",
    "    \"Технические удобства\": {\n",
    "        \"Wi-Fi\": [\"Скорость\", \"Стабильность\"],\n",
    "        \"Интернет\": [\"Доступность\"],\n",
    "        \"Телевизор\": [\"Каналы\", \"Качество изображения\"],\n",
    "        \"Лифт\": [\"Наличие\"],\n",
    "    },\n",
    "    \"Шум и звуки\": {\n",
    "        \"Шумоизоляция\": [\"Плохая\"],\n",
    "        \"Шум\": [\"С улицы\", \"Из коридора\"],\n",
    "        \"Звукоизоляция\": [\"Стены\", \"Окна\"],\n",
    "    },\n",
    "}\n",
    "\n",
    "# Prepare data for Sankey diagram\n",
    "sources = []\n",
    "targets = []\n",
    "values = []\n",
    "node_labels = []\n",
    "\n",
    "\n",
    "# Helper function to get node index\n",
    "def get_index(label):\n",
    "    if label not in node_labels:\n",
    "        node_labels.append(label)\n",
    "    return node_labels.index(label)\n",
    "\n",
    "\n",
    "# Convert taxonomy into source-target format\n",
    "for category, subcategories in categories.items():\n",
    "    for subcategory, subsubcategories in subcategories.items():\n",
    "        sources.append(get_index(category))\n",
    "        targets.append(get_index(subcategory))\n",
    "        values.append(len(subsubcategories) or 1)  # Assign weight based on sub-subcategories\n",
    "\n",
    "        for subsubcategory in subsubcategories:\n",
    "            sources.append(get_index(subcategory))\n",
    "            targets.append(get_index(subsubcategory))\n",
    "            values.append(1)  # Assign weight 1 for each final node\n",
    "\n",
    "# Create Sankey diagram\n",
    "fig = go.Figure(\n",
    "    go.Sankey(\n",
    "        node=dict(\n",
    "            label=node_labels,  # List of all unique labels\n",
    "            pad=15,\n",
    "            thickness=20,\n",
    "        ),\n",
    "        link=dict(\n",
    "            source=sources,  # Index of source nodes\n",
    "            target=targets,  # Index of target nodes\n",
    "            value=values,  # Flow values (weights)\n",
    "        ),\n",
    "    )\n",
    ")\n",
    "\n",
    "fig.update_layout(title_text=\"Таксономия аспектов отзывов (Sankey Diagram)\")\n",
    "fig.show()"
   ]
  }
 ],
 "metadata": {
  "kernelspec": {
   "display_name": "base",
   "language": "python",
   "name": "python3"
  },
  "language_info": {
   "codemirror_mode": {
    "name": "ipython",
    "version": 3
   },
   "file_extension": ".py",
   "mimetype": "text/x-python",
   "name": "python",
   "nbconvert_exporter": "python",
   "pygments_lexer": "ipython3",
   "version": "3.11.5"
  }
 },
 "nbformat": 4,
 "nbformat_minor": 2
}
