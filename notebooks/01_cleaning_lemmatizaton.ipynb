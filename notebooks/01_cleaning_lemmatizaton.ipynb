{
 "cells": [
  {
   "cell_type": "markdown",
   "metadata": {},
   "source": [
    "# 01_Cleaning and lemmatization data"
   ]
  },
  {
   "cell_type": "markdown",
   "metadata": {
    "vscode": {
     "languageId": "plaintext"
    }
   },
   "source": [
    "## Цель"
   ]
  },
  {
   "cell_type": "markdown",
   "metadata": {},
   "source": [
    "- обработать и нормализовать текст различными способами\n",
    "  - привести тест к ниженему регистру\n",
    "  - удалить стоп-слова\n",
    "  - удалить спецсимволы \n",
    "- добавить дополнительные числовые фичи\n",
    "  "
   ]
  },
  {
   "cell_type": "markdown",
   "metadata": {},
   "source": [
    "## Краткое описание шагов"
   ]
  },
  {
   "cell_type": "markdown",
   "metadata": {},
   "source": [
    "Для того чтобы правильно построить пайплайн для нормализации текста, мы должны правилно упорядочить шаги.\n",
    "Основная проблема заключается в задаче NER, а также цифр, их желательно заменять на токены.\n",
    "\n",
    "- Первый шаг пайплайна: \n",
    "    решить задачу NER для нашего корпуса,\n",
    "    для этого можно использовать разные подходы, не буду все их описывать, но желательно, чтобы это была open source модель, и достаточно легкая\n",
    "    были выбраны тестовые прдложения id 2, и на них протестированы следующие модели: Natasha, DeepPavlov, pyMorphy2, \"Gherman/bert-base-NER-Russian\" c HuggingFace, Stanza\n",
    "    уверенным победителем оказалась Stanza\n",
    "\n",
    "- Второй шаг пайплайны:\n",
    "    вычистить ссылки и emoj если они вдруг в тексте есть\n",
    "    удаление stop слова можно взять из Natasha\n",
    "    cleantext\n",
    "\n",
    "- Заменить цифры через регулярные выражения  на токены <nums>\n",
    "\n",
    "- Третий шаг:\n",
    "    нормализовать слова через pymorphy2\n",
    "\n",
    "- Четвертый шаг:\n",
    "    соединить все токены через пробел\n",
    "\n",
    "- Сделать выборку из 5 и сравнить:\n",
    "    \n",
    "    \n",
    "    \n"
   ]
  },
  {
   "cell_type": "markdown",
   "metadata": {},
   "source": [
    "## Imports"
   ]
  },
  {
   "cell_type": "code",
   "execution_count": null,
   "metadata": {},
   "outputs": [],
   "source": [
    "import pandas as pd\n",
    "import matplotlib.pyplot as plt\n",
    "from wordcloud import WordCloud\n",
    "import seaborn as sns\n",
    "import logging\n",
    "from collections import Counter\n",
    "import re\n",
    "from pathlib import Path\n",
    "import stanza\n",
    "import re"
   ]
  },
  {
   "cell_type": "markdown",
   "metadata": {},
   "source": [
    "## Initialization"
   ]
  },
  {
   "cell_type": "code",
   "execution_count": 2,
   "metadata": {},
   "outputs": [],
   "source": [
    "! set KMP_DUPLICATE_LIB_OK=TRUE  # Windows (cmd)"
   ]
  },
  {
   "cell_type": "code",
   "execution_count": 3,
   "metadata": {},
   "outputs": [],
   "source": [
    "pd.set_option(\"display.max_colwidth\", None)\n",
    "\n",
    "plt.style.use(\"classic\")"
   ]
  },
  {
   "cell_type": "code",
   "execution_count": 4,
   "metadata": {},
   "outputs": [],
   "source": [
    "PROJECT_NAME = \"finam_text_classification\"\n",
    "\n",
    "# Get the current working directory\n",
    "current_dir = Path.cwd()\n",
    "\n",
    "\n",
    "# Traverse up to find \"finam_text_classification\" folder\n",
    "project_root = current_dir\n",
    "while project_root.name != PROJECT_NAME:\n",
    "    if project_root.parent == project_root:  # Reached the filesystem root\n",
    "        raise FileNotFoundError(\"The 'finam_text_classification' folder was not found.\")\n",
    "    project_root = project_root.parent\n",
    "\n",
    "# Define the path to the input data relative to the project root\n",
    "PTH_TO_INPUT_DATA = project_root / \"data\" / \"raw\" / \"Test_data_marked.xlsx\""
   ]
  },
  {
   "cell_type": "markdown",
   "metadata": {},
   "source": [
    "## Main pipeline"
   ]
  },
  {
   "cell_type": "markdown",
   "metadata": {},
   "source": [
    "### 1. Чтение сырых данных"
   ]
  },
  {
   "cell_type": "code",
   "execution_count": 5,
   "metadata": {},
   "outputs": [],
   "source": [
    "# Read data\n",
    "try:\n",
    "    # Use Path to check if the file exists\n",
    "    if PTH_TO_INPUT_DATA.exists():\n",
    "        # Read the Excel file\n",
    "        df_raw = pd.read_excel(PTH_TO_INPUT_DATA)\n",
    "        logging.info(\"File successfully loaded.\")\n",
    "    else:\n",
    "        # Log an error if the file is not found\n",
    "        logging.error(f\"File not found: {PTH_TO_INPUT_DATA}\")\n",
    "except Exception as e:\n",
    "    # Log any exceptions that occur\n",
    "    logging.error(f\"An error occurred: {e}\")"
   ]
  },
  {
   "cell_type": "code",
   "execution_count": 6,
   "metadata": {},
   "outputs": [
    {
     "data": {
      "text/html": [
       "<div>\n",
       "<style scoped>\n",
       "    .dataframe tbody tr th:only-of-type {\n",
       "        vertical-align: middle;\n",
       "    }\n",
       "\n",
       "    .dataframe tbody tr th {\n",
       "        vertical-align: top;\n",
       "    }\n",
       "\n",
       "    .dataframe thead th {\n",
       "        text-align: right;\n",
       "    }\n",
       "</style>\n",
       "<table border=\"1\" class=\"dataframe\">\n",
       "  <thead>\n",
       "    <tr style=\"text-align: right;\">\n",
       "      <th></th>\n",
       "      <th>review_id</th>\n",
       "      <th>review_text</th>\n",
       "    </tr>\n",
       "  </thead>\n",
       "  <tbody>\n",
       "    <tr>\n",
       "      <th>0</th>\n",
       "      <td>1</td>\n",
       "      <td>Элегантный отель в самом центре Дубай. Красивые и стильные номера. И жуткие цены) До посещения отеля рекомендуется ограбить банк или неожиданно разбогатеть)))Это пишу чтобы набрать 200 символов))))))</td>\n",
       "    </tr>\n",
       "    <tr>\n",
       "      <th>1</th>\n",
       "      <td>2</td>\n",
       "      <td>Если стиль вашей поездки в Дубай-- это шоппинг в Дубай молле, созерцание фонтана и гастрономический ужин-- не пожалейте денег \"усилить\" все эти ощущения номером с видом на фонтан в отеле Armani. Это просто супер. Номера находятся на нижних этажах Burj Khalifa, поэтому вид на фонтан оттуда точно лучше, чем с улицы около, и даже лучше, чем с крыши этого замечательного здания. Лучше, чем из ресторана... В общем-- самый лучший. Я прямо будильник заводил и выходил смотреть фонтан на балкон (представления меняются в течение вечера). На балконах можно курить, что не может не радовать не расставшихся с этой привычкой. Но такие номера продают только на сайте самого отеля-- у перекупщиков типа booking.com их нет. В номере мы увидели реально работающий, удобный и функциональный \"умный дом\"-- управление всей электроникой номера с iPad mini. Дизайн-- не просто привлекательный и интересный, но и очень функциональный. Сервис-- честные 5* Grand Luxe, мальчик на этаже, любой вопрос решается моментально, все очень быстро и ненавязчиво. Шоппинг: до Дубай Молла идет галерея. Ребята-сотрудники отеля помогут понести сумки и даже за вас их в отель отнесут, если не боитесь доверять ценный груз)) Смотровая площадка: билет продается без очереди прямо в отеле, но чтобы попасть на нее надо 2 раза пройти по галерее: туда и обратно, так как контроль безопасности находится со стороны Дубай молла. Ресторан-- не нашли к чему придраться, все вкусно, сервис прекрасный. Общий вывод: если опять окажемся в Дубае транзитом-- без вариантов, снова сюда.</td>\n",
       "    </tr>\n",
       "  </tbody>\n",
       "</table>\n",
       "</div>"
      ],
      "text/plain": [
       "   review_id  \\\n",
       "0          1   \n",
       "1          2   \n",
       "\n",
       "                                                                                                                                                                                                                                                                                                                                                                                                                                                                                                                                                                                                                                                                                                                                                                                                                                                                                                                                                                                                                                                                                                                                                                                                                                                                                                                                                                                                                                                                                                                                                                                          review_text  \n",
       "0                                                                                                                                                                                                                                                                                                                                                                                                                                                                                                                                                                                                                                                                                                                                                                                                                                                                                                                                                                                                                                                                                                                                                                                                                                                                                                                                                                                             Элегантный отель в самом центре Дубай. Красивые и стильные номера. И жуткие цены) До посещения отеля рекомендуется ограбить банк или неожиданно разбогатеть)))Это пишу чтобы набрать 200 символов))))))  \n",
       "1  Если стиль вашей поездки в Дубай-- это шоппинг в Дубай молле, созерцание фонтана и гастрономический ужин-- не пожалейте денег \"усилить\" все эти ощущения номером с видом на фонтан в отеле Armani. Это просто супер. Номера находятся на нижних этажах Burj Khalifa, поэтому вид на фонтан оттуда точно лучше, чем с улицы около, и даже лучше, чем с крыши этого замечательного здания. Лучше, чем из ресторана... В общем-- самый лучший. Я прямо будильник заводил и выходил смотреть фонтан на балкон (представления меняются в течение вечера). На балконах можно курить, что не может не радовать не расставшихся с этой привычкой. Но такие номера продают только на сайте самого отеля-- у перекупщиков типа booking.com их нет. В номере мы увидели реально работающий, удобный и функциональный \"умный дом\"-- управление всей электроникой номера с iPad mini. Дизайн-- не просто привлекательный и интересный, но и очень функциональный. Сервис-- честные 5* Grand Luxe, мальчик на этаже, любой вопрос решается моментально, все очень быстро и ненавязчиво. Шоппинг: до Дубай Молла идет галерея. Ребята-сотрудники отеля помогут понести сумки и даже за вас их в отель отнесут, если не боитесь доверять ценный груз)) Смотровая площадка: билет продается без очереди прямо в отеле, но чтобы попасть на нее надо 2 раза пройти по галерее: туда и обратно, так как контроль безопасности находится со стороны Дубай молла. Ресторан-- не нашли к чему придраться, все вкусно, сервис прекрасный. Общий вывод: если опять окажемся в Дубае транзитом-- без вариантов, снова сюда.  "
      ]
     },
     "execution_count": 6,
     "metadata": {},
     "output_type": "execute_result"
    }
   ],
   "source": [
    "df_raw.head(2)"
   ]
  },
  {
   "cell_type": "markdown",
   "metadata": {},
   "source": [
    "### 2. NER TOKENS"
   ]
  },
  {
   "cell_type": "code",
   "execution_count": 7,
   "metadata": {},
   "outputs": [
    {
     "name": "stderr",
     "output_type": "stream",
     "text": [
      "INFO:stanza:Checking for updates to resources.json in case models have been updated.  Note: this behavior can be turned off with download_method=None or download_method=DownloadMethod.REUSE_RESOURCES\n"
     ]
    },
    {
     "data": {
      "application/vnd.jupyter.widget-view+json": {
       "model_id": "27f655bae46645b2b0585223a8473d82",
       "version_major": 2,
       "version_minor": 0
      },
      "text/plain": [
       "Downloading https://raw.githubusercontent.com/stanfordnlp/stanza-resources/main/resources_1.10.0.json:   0%|  …"
      ]
     },
     "metadata": {},
     "output_type": "display_data"
    },
    {
     "name": "stderr",
     "output_type": "stream",
     "text": [
      "INFO:stanza:Downloaded file to C:\\Users\\baksa\\stanza_resources\\resources.json\n",
      "INFO:stanza:Loading these models for language: ru (Russian):\n",
      "=========================\n",
      "| Processor | Package   |\n",
      "-------------------------\n",
      "| tokenize  | syntagrus |\n",
      "| ner       | wikiner   |\n",
      "=========================\n",
      "\n",
      "INFO:stanza:Using device: cuda\n",
      "INFO:stanza:Loading: tokenize\n",
      "INFO:stanza:Loading: ner\n",
      "INFO:stanza:Done loading processors!\n"
     ]
    }
   ],
   "source": [
    "# Инициализация Stanza NLP (загружается один раз)\n",
    "nlp = stanza.Pipeline(lang=\"ru\", processors=\"tokenize,ner\", batch_size=128, use_gpu=True)\n",
    "\n",
    "\n",
    "# Функция замены сущностей в тексте\n",
    "def replace_entities(text):\n",
    "    if not isinstance(text, str) or not text.strip():\n",
    "        return text  # Возвращаем текст как есть, если он не строка или пустой\n",
    "\n",
    "    # Обрабатываем текст с помощью Stanza\n",
    "    doc = nlp(text)\n",
    "\n",
    "    # Создаем словарь сущностей\n",
    "    entity_map = {ent.text: ent.type for sent in doc.sentences for ent in sent.ents}\n",
    "\n",
    "    # Заменяем сущности в тексте\n",
    "    for entity, entity_type in entity_map.items():\n",
    "        text = re.sub(rf\"\\b{re.escape(entity)}\\b\", \"<\" + entity_type + \">\", text)\n",
    "\n",
    "    return text\n",
    "\n",
    "\n",
    "# Применяем функцию ко всей колонке\n",
    "df_raw[\"review_text_ner\"] = df_raw[\"review_text\"].apply(replace_entities)\n",
    "\n",
    "# time 3 min apx"
   ]
  },
  {
   "cell_type": "code",
   "execution_count": 7,
   "metadata": {},
   "outputs": [
    {
     "data": {
      "text/html": [
       "<div>\n",
       "<style scoped>\n",
       "    .dataframe tbody tr th:only-of-type {\n",
       "        vertical-align: middle;\n",
       "    }\n",
       "\n",
       "    .dataframe tbody tr th {\n",
       "        vertical-align: top;\n",
       "    }\n",
       "\n",
       "    .dataframe thead th {\n",
       "        text-align: right;\n",
       "    }\n",
       "</style>\n",
       "<table border=\"1\" class=\"dataframe\">\n",
       "  <thead>\n",
       "    <tr style=\"text-align: right;\">\n",
       "      <th></th>\n",
       "      <th>review_id</th>\n",
       "      <th>review_text</th>\n",
       "      <th>review_text_ner</th>\n",
       "    </tr>\n",
       "  </thead>\n",
       "  <tbody>\n",
       "    <tr>\n",
       "      <th>0</th>\n",
       "      <td>1</td>\n",
       "      <td>Элегантный отель в самом центре Дубай. Красивые и стильные номера. И жуткие цены) До посещения отеля рекомендуется ограбить банк или неожиданно разбогатеть)))Это пишу чтобы набрать 200 символов))))))</td>\n",
       "      <td>Элегантный отель в самом центре &lt;LOC&gt;. Красивые и стильные номера. И жуткие цены) До посещения отеля рекомендуется ограбить банк или неожиданно разбогатеть)))Это пишу чтобы набрать 200 символов))))))</td>\n",
       "    </tr>\n",
       "    <tr>\n",
       "      <th>1</th>\n",
       "      <td>2</td>\n",
       "      <td>Если стиль вашей поездки в Дубай-- это шоппинг в Дубай молле, созерцание фонтана и гастрономический ужин-- не пожалейте денег \"усилить\" все эти ощущения номером с видом на фонтан в отеле Armani. Это просто супер. Номера находятся на нижних этажах Burj Khalifa, поэтому вид на фонтан оттуда точно лучше, чем с улицы около, и даже лучше, чем с крыши этого замечательного здания. Лучше, чем из ресторана... В общем-- самый лучший. Я прямо будильник заводил и выходил смотреть фонтан на балкон (представления меняются в течение вечера). На балконах можно курить, что не может не радовать не расставшихся с этой привычкой. Но такие номера продают только на сайте самого отеля-- у перекупщиков типа booking.com их нет. В номере мы увидели реально работающий, удобный и функциональный \"умный дом\"-- управление всей электроникой номера с iPad mini. Дизайн-- не просто привлекательный и интересный, но и очень функциональный. Сервис-- честные 5* Grand Luxe, мальчик на этаже, любой вопрос решается моментально, все очень быстро и ненавязчиво. Шоппинг: до Дубай Молла идет галерея. Ребята-сотрудники отеля помогут понести сумки и даже за вас их в отель отнесут, если не боитесь доверять ценный груз)) Смотровая площадка: билет продается без очереди прямо в отеле, но чтобы попасть на нее надо 2 раза пройти по галерее: туда и обратно, так как контроль безопасности находится со стороны Дубай молла. Ресторан-- не нашли к чему придраться, все вкусно, сервис прекрасный. Общий вывод: если опять окажемся в Дубае транзитом-- без вариантов, снова сюда.</td>\n",
       "      <td>Если стиль вашей поездки в &lt;LOC&gt;-- это шоппинг в &lt;LOC&gt; молле, созерцание фонтана и гастрономический ужин-- не пожалейте денег \"усилить\" все эти ощущения номером с видом на фонтан в отеле &lt;ORG&gt;. Это просто супер. Номера находятся на нижних этажах &lt;LOC&gt;, поэтому вид на фонтан оттуда точно лучше, чем с улицы около, и даже лучше, чем с крыши этого замечательного здания. Лучше, чем из ресторана... В общем-- самый лучший. Я прямо будильник заводил и выходил смотреть фонтан на балкон (представления меняются в течение вечера). На балконах можно курить, что не может не радовать не расставшихся с этой привычкой. Но такие номера продают только на сайте самого отеля-- у перекупщиков типа &lt;MISC&gt; их нет. В номере мы увидели реально работающий, удобный и функциональный \"умный дом\"-- управление всей электроникой номера с &lt;MISC&gt;. Дизайн-- не просто привлекательный и интересный, но и очень функциональный. Сервис-- честные 5* &lt;MISC&gt;, мальчик на этаже, любой вопрос решается моментально, все очень быстро и ненавязчиво. Шоппинг: до &lt;LOC&gt; Молла идет галерея. Ребята-сотрудники отеля помогут понести сумки и даже за вас их в отель отнесут, если не боитесь доверять ценный груз)) Смотровая площадка: билет продается без очереди прямо в отеле, но чтобы попасть на нее надо 2 раза пройти по галерее: туда и обратно, так как контроль безопасности находится со стороны &lt;LOC&gt; молла. &lt;LOC&gt;-- не нашли к чему придраться, все вкусно, сервис прекрасный. Общий вывод: если опять окажемся в &lt;LOC&gt; транзитом-- без вариантов, снова сюда.</td>\n",
       "    </tr>\n",
       "  </tbody>\n",
       "</table>\n",
       "</div>"
      ],
      "text/plain": [
       "   review_id  \\\n",
       "0          1   \n",
       "1          2   \n",
       "\n",
       "                                                                                                                                                                                                                                                                                                                                                                                                                                                                                                                                                                                                                                                                                                                                                                                                                                                                                                                                                                                                                                                                                                                                                                                                                                                                                                                                                                                                                                                                                                                                                                                          review_text  \\\n",
       "0                                                                                                                                                                                                                                                                                                                                                                                                                                                                                                                                                                                                                                                                                                                                                                                                                                                                                                                                                                                                                                                                                                                                                                                                                                                                                                                                                                                             Элегантный отель в самом центре Дубай. Красивые и стильные номера. И жуткие цены) До посещения отеля рекомендуется ограбить банк или неожиданно разбогатеть)))Это пишу чтобы набрать 200 символов))))))   \n",
       "1  Если стиль вашей поездки в Дубай-- это шоппинг в Дубай молле, созерцание фонтана и гастрономический ужин-- не пожалейте денег \"усилить\" все эти ощущения номером с видом на фонтан в отеле Armani. Это просто супер. Номера находятся на нижних этажах Burj Khalifa, поэтому вид на фонтан оттуда точно лучше, чем с улицы около, и даже лучше, чем с крыши этого замечательного здания. Лучше, чем из ресторана... В общем-- самый лучший. Я прямо будильник заводил и выходил смотреть фонтан на балкон (представления меняются в течение вечера). На балконах можно курить, что не может не радовать не расставшихся с этой привычкой. Но такие номера продают только на сайте самого отеля-- у перекупщиков типа booking.com их нет. В номере мы увидели реально работающий, удобный и функциональный \"умный дом\"-- управление всей электроникой номера с iPad mini. Дизайн-- не просто привлекательный и интересный, но и очень функциональный. Сервис-- честные 5* Grand Luxe, мальчик на этаже, любой вопрос решается моментально, все очень быстро и ненавязчиво. Шоппинг: до Дубай Молла идет галерея. Ребята-сотрудники отеля помогут понести сумки и даже за вас их в отель отнесут, если не боитесь доверять ценный груз)) Смотровая площадка: билет продается без очереди прямо в отеле, но чтобы попасть на нее надо 2 раза пройти по галерее: туда и обратно, так как контроль безопасности находится со стороны Дубай молла. Ресторан-- не нашли к чему придраться, все вкусно, сервис прекрасный. Общий вывод: если опять окажемся в Дубае транзитом-- без вариантов, снова сюда.   \n",
       "\n",
       "                                                                                                                                                                                                                                                                                                                                                                                                                                                                                                                                                                                                                                                                                                                                                                                                                                                                                                                                                                                                                                                                                                                                                                                                                                                                                                                                                                                                                                                                                                                                                               review_text_ner  \n",
       "0                                                                                                                                                                                                                                                                                                                                                                                                                                                                                                                                                                                                                                                                                                                                                                                                                                                                                                                                                                                                                                                                                                                                                                                                                                                                                                                                                                      Элегантный отель в самом центре <LOC>. Красивые и стильные номера. И жуткие цены) До посещения отеля рекомендуется ограбить банк или неожиданно разбогатеть)))Это пишу чтобы набрать 200 символов))))))  \n",
       "1  Если стиль вашей поездки в <LOC>-- это шоппинг в <LOC> молле, созерцание фонтана и гастрономический ужин-- не пожалейте денег \"усилить\" все эти ощущения номером с видом на фонтан в отеле <ORG>. Это просто супер. Номера находятся на нижних этажах <LOC>, поэтому вид на фонтан оттуда точно лучше, чем с улицы около, и даже лучше, чем с крыши этого замечательного здания. Лучше, чем из ресторана... В общем-- самый лучший. Я прямо будильник заводил и выходил смотреть фонтан на балкон (представления меняются в течение вечера). На балконах можно курить, что не может не радовать не расставшихся с этой привычкой. Но такие номера продают только на сайте самого отеля-- у перекупщиков типа <MISC> их нет. В номере мы увидели реально работающий, удобный и функциональный \"умный дом\"-- управление всей электроникой номера с <MISC>. Дизайн-- не просто привлекательный и интересный, но и очень функциональный. Сервис-- честные 5* <MISC>, мальчик на этаже, любой вопрос решается моментально, все очень быстро и ненавязчиво. Шоппинг: до <LOC> Молла идет галерея. Ребята-сотрудники отеля помогут понести сумки и даже за вас их в отель отнесут, если не боитесь доверять ценный груз)) Смотровая площадка: билет продается без очереди прямо в отеле, но чтобы попасть на нее надо 2 раза пройти по галерее: туда и обратно, так как контроль безопасности находится со стороны <LOC> молла. <LOC>-- не нашли к чему придраться, все вкусно, сервис прекрасный. Общий вывод: если опять окажемся в <LOC> транзитом-- без вариантов, снова сюда.  "
      ]
     },
     "execution_count": 7,
     "metadata": {},
     "output_type": "execute_result"
    }
   ],
   "source": [
    "# Save data in interim\n",
    "save_path = project_root / \"data\" / \"interim\"\n",
    "save_path.mkdir(parents=True, exist_ok=True)  # Создаст директории, если их нет\n",
    "\n",
    "# df_raw.to_parquet(save_path / \"ner_data.parquet\", index=False)\n",
    "df_raw = pd.read_parquet(save_path / \"ner_data.parquet\")\n",
    "df_raw.head(2)"
   ]
  },
  {
   "cell_type": "markdown",
   "metadata": {},
   "source": [
    "### 2. NER num feautes"
   ]
  },
  {
   "cell_type": "code",
   "execution_count": 11,
   "metadata": {},
   "outputs": [
    {
     "name": "stderr",
     "output_type": "stream",
     "text": [
      "d:\\Projects\\finam_text_classification\\.venv\\Lib\\site-packages\\tqdm\\auto.py:21: TqdmWarning: IProgress not found. Please update jupyter and ipywidgets. See https://ipywidgets.readthedocs.io/en/stable/user_install.html\n",
      "  from .autonotebook import tqdm as notebook_tqdm\n",
      "INFO:stanza:Checking for updates to resources.json in case models have been updated.  Note: this behavior can be turned off with download_method=None or download_method=DownloadMethod.REUSE_RESOURCES\n",
      "Downloading https://raw.githubusercontent.com/stanfordnlp/stanza-resources/main/resources_1.10.0.json: 424kB [00:00, 7.76MB/s]                    \n",
      "INFO:stanza:Downloaded file to C:\\Users\\baksa\\stanza_resources\\resources.json\n",
      "INFO:stanza:Loading these models for language: ru (Russian):\n",
      "=========================\n",
      "| Processor | Package   |\n",
      "-------------------------\n",
      "| tokenize  | syntagrus |\n",
      "| ner       | wikiner   |\n",
      "=========================\n",
      "\n",
      "WARNING:stanza:GPU requested, but is not available!\n",
      "INFO:stanza:Using device: cpu\n",
      "INFO:stanza:Loading: tokenize\n",
      "INFO:stanza:Loading: ner\n",
      "INFO:stanza:Done loading processors!\n"
     ]
    },
    {
     "data": {
      "text/plain": [
       "{'hidden_dim': 256,\n",
       " 'char_hidden_dim': 1024,\n",
       " 'word_emb_dim': 300,\n",
       " 'char_emb_dim': 100,\n",
       " 'num_layers': 1,\n",
       " 'char_num_layers': 1,\n",
       " 'pretrain_max_vocab': 250000,\n",
       " 'word_dropout': 0,\n",
       " 'locked_dropout': 0.0,\n",
       " 'dropout': 0.5,\n",
       " 'rec_dropout': 0,\n",
       " 'char_rec_dropout': 0,\n",
       " 'char_dropout': 0,\n",
       " 'char': True,\n",
       " 'charlm': True,\n",
       " 'charlm_shorthand': 'ru_newswiki',\n",
       " 'char_lowercase': False,\n",
       " 'lowercase': True,\n",
       " 'emb_finetune': False,\n",
       " 'input_transform': True,\n",
       " 'scheme': 'bioes',\n",
       " 'sample_train': 1.0,\n",
       " 'optim': 'sgd',\n",
       " 'lr': 0.1,\n",
       " 'min_lr': 0.0001,\n",
       " 'momentum': 0,\n",
       " 'lr_decay': 0.5,\n",
       " 'patience': 3,\n",
       " 'max_steps': 400000,\n",
       " 'eval_interval': 4500,\n",
       " 'batch_size': 32,\n",
       " 'max_grad_norm': 5.0,\n",
       " 'log_step': 20,\n",
       " 'seed': 1234,\n",
       " 'predict_tagset': 0,\n",
       " 'train_scheme': None,\n",
       " 'model_path': ['C:\\\\Users\\\\baksa\\\\stanza_resources\\\\ru\\\\ner\\\\wikiner.pt'],\n",
       " 'dependencies': [{'pretrain_path': 'C:\\\\Users\\\\baksa\\\\stanza_resources\\\\ru\\\\pretrain\\\\fasttextwiki.pt',\n",
       "   'forward_charlm_path': 'C:\\\\Users\\\\baksa\\\\stanza_resources\\\\ru\\\\forward_charlm\\\\newswiki.pt',\n",
       "   'backward_charlm_path': 'C:\\\\Users\\\\baksa\\\\stanza_resources\\\\ru\\\\backward_charlm\\\\newswiki.pt'}],\n",
       " 'lang': 'ru',\n",
       " 'mode': 'predict'}"
      ]
     },
     "execution_count": 11,
     "metadata": {},
     "output_type": "execute_result"
    }
   ],
   "source": [
    "nlp.processors[\"ner\"].config"
   ]
  },
  {
   "cell_type": "code",
   "execution_count": 12,
   "metadata": {},
   "outputs": [
    {
     "data": {
      "text/plain": [
       "['LOC', 'MISC', 'ORG', 'PER']"
      ]
     },
     "execution_count": 12,
     "metadata": {},
     "output_type": "execute_result"
    }
   ],
   "source": [
    "# Print entity labels\n",
    "nlp.processors[\"ner\"].get_known_tags()"
   ]
  },
  {
   "cell_type": "code",
   "execution_count": 13,
   "metadata": {},
   "outputs": [],
   "source": [
    "df_raw[\"loc_count\"] = df_raw[\"review_text_ner\"].apply(lambda x: x.count(\"LOC\"))\n",
    "df_raw[\"org_count\"] = df_raw[\"review_text_ner\"].apply(lambda x: x.count(\"ORG\"))\n",
    "df_raw[\"misc_count\"] = df_raw[\"review_text_ner\"].apply(lambda x: x.count(\"MISC\"))\n",
    "df_raw[\"per_count\"] = df_raw[\"review_text_ner\"].apply(lambda x: x.count(\"PER\"))"
   ]
  },
  {
   "cell_type": "markdown",
   "metadata": {},
   "source": [
    "###  3. Specsymbols num feauters"
   ]
  },
  {
   "cell_type": "code",
   "execution_count": 14,
   "metadata": {},
   "outputs": [],
   "source": [
    "df_raw[\"right_parenthesis_cnt\"] = df_raw[\"review_text_ner\"].apply(lambda x: x.count(\")\"))\n",
    "df_raw[\"left_parenthesis_cnt\"] = df_raw[\"review_text_ner\"].apply(lambda x: x.count(\"(\"))\n",
    "df_raw[\"point_cnt\"] = df_raw[\"review_text_ner\"].apply(lambda x: x.count(\".\"))\n",
    "df_raw[\"comma_cnt\"] = df_raw[\"review_text_ner\"].apply(lambda x: x.count(\".\"))\n",
    "df_raw[\"exlaim_cnt\"] = df_raw[\"review_text_ner\"].apply(lambda x: x.count(\"!\"))"
   ]
  },
  {
   "cell_type": "markdown",
   "metadata": {},
   "source": [
    "### 4. Нормализовать слова, сделать лемматизацию"
   ]
  },
  {
   "cell_type": "code",
   "execution_count": 22,
   "metadata": {},
   "outputs": [],
   "source": [
    "import pandas as pd\n",
    "from natasha import Segmenter, NewsEmbedding, NewsSyntaxParser, Doc\n",
    "\n",
    "# Initialize Natasha components\n",
    "segmenter = Segmenter()\n",
    "embeddings = NewsEmbedding()\n",
    "syntax_parser = NewsSyntaxParser(embeddings)\n",
    "\n",
    "\n",
    "# Function to replace numbers with \"NUM\"\n",
    "def replace_numbers(text):\n",
    "    doc = Doc(text)\n",
    "    doc.segment(segmenter)\n",
    "    doc.parse_syntax(syntax_parser)\n",
    "\n",
    "    # Replace numbers\n",
    "    return \" \".join([\"<NUM>\" if token.text.isdigit() else token.text for token in doc.tokens])\n",
    "\n",
    "\n",
    "# Apply function to DataFrame column\n",
    "df_raw[\"review_text_ner_num\"] = df_raw[\"review_text_ner\"].apply(replace_numbers)"
   ]
  },
  {
   "cell_type": "markdown",
   "metadata": {},
   "source": [
    "### 5. Count NUMs"
   ]
  },
  {
   "cell_type": "code",
   "execution_count": 23,
   "metadata": {},
   "outputs": [],
   "source": [
    "df_raw[\"num_cnt\"] = df_raw[\"review_text_ner_num\"].apply(lambda x: x.count(\"NUM\"))"
   ]
  },
  {
   "cell_type": "markdown",
   "metadata": {},
   "source": [
    "### 6.Clean spec symbols"
   ]
  },
  {
   "cell_type": "code",
   "execution_count": 24,
   "metadata": {},
   "outputs": [],
   "source": [
    "import string\n",
    "\n",
    "special_symbols = set(string.punctuation) | set(\"«»—…№\")\n",
    "\n",
    "\n",
    "# Define function for cleaning text\n",
    "def clean_lower_text(text):\n",
    "    if not isinstance(text, str):\n",
    "        return text  # Skip if it's not a string\n",
    "\n",
    "    # Normalize entity formatting\n",
    "    replacements = {\n",
    "        \"< LOC >\": \"<LOC>\",\n",
    "        \"< ORG >\": \"<ORG>\",\n",
    "        \"< NUM >\": \"<NUM>\",\n",
    "        \"< PER >\": \"<PER>\",\n",
    "        \"< MISC >\": \"<MISC>\",\n",
    "    }\n",
    "\n",
    "    for old, new in replacements.items():\n",
    "        text = text.replace(old, new)\n",
    "\n",
    "    ls_allowed = {\"<LOC>\", \"<ORG>\", \"<NUM>\", \"<PER>\", \"<MISC>\"}  # Using a set for faster lookups\n",
    "\n",
    "    # Tokenize words while preserving spaces\n",
    "    words = text.split()\n",
    "\n",
    "    # Filter words, keeping allowed words unchanged\n",
    "    filtered_words = [\n",
    "        word if word in ls_allowed else \"\".join(char if char not in special_symbols else \" \" for char in word)\n",
    "        for word in words\n",
    "    ]\n",
    "\n",
    "    # Replace multiple spaces with a single space\n",
    "    filtered_text = re.sub(r\"\\s+\", \" \", \" \".join(filtered_words)).strip()\n",
    "\n",
    "    return filtered_text.lower()\n",
    "\n",
    "\n",
    "# Example DataFrame\n",
    "\n",
    "\n",
    "# Apply function to column\n",
    "df_raw[\"review_text_ner_num_clean\"] = df_raw[\"review_text_ner_num\"].apply(lambda x: clean_lower_text(x))"
   ]
  },
  {
   "cell_type": "code",
   "execution_count": 21,
   "metadata": {},
   "outputs": [
    {
     "data": {
      "text/html": [
       "<div>\n",
       "<style scoped>\n",
       "    .dataframe tbody tr th:only-of-type {\n",
       "        vertical-align: middle;\n",
       "    }\n",
       "\n",
       "    .dataframe tbody tr th {\n",
       "        vertical-align: top;\n",
       "    }\n",
       "\n",
       "    .dataframe thead th {\n",
       "        text-align: right;\n",
       "    }\n",
       "</style>\n",
       "<table border=\"1\" class=\"dataframe\">\n",
       "  <thead>\n",
       "    <tr style=\"text-align: right;\">\n",
       "      <th></th>\n",
       "      <th>0</th>\n",
       "      <th>1</th>\n",
       "    </tr>\n",
       "  </thead>\n",
       "  <tbody>\n",
       "    <tr>\n",
       "      <th>review_id</th>\n",
       "      <td>1</td>\n",
       "      <td>2</td>\n",
       "    </tr>\n",
       "    <tr>\n",
       "      <th>review_text</th>\n",
       "      <td>Элегантный отель в самом центре Дубай. Красивые и стильные номера. И жуткие цены) До посещения отеля рекомендуется ограбить банк или неожиданно разбогатеть)))Это пишу чтобы набрать 200 символов))))))</td>\n",
       "      <td>Если стиль вашей поездки в Дубай-- это шоппинг в Дубай молле, созерцание фонтана и гастрономический ужин-- не пожалейте денег \"усилить\" все эти ощущения номером с видом на фонтан в отеле Armani. Это просто супер. Номера находятся на нижних этажах Burj Khalifa, поэтому вид на фонтан оттуда точно лучше, чем с улицы около, и даже лучше, чем с крыши этого замечательного здания. Лучше, чем из ресторана... В общем-- самый лучший. Я прямо будильник заводил и выходил смотреть фонтан на балкон (представления меняются в течение вечера). На балконах можно курить, что не может не радовать не расставшихся с этой привычкой. Но такие номера продают только на сайте самого отеля-- у перекупщиков типа booking.com их нет. В номере мы увидели реально работающий, удобный и функциональный \"умный дом\"-- управление всей электроникой номера с iPad mini. Дизайн-- не просто привлекательный и интересный, но и очень функциональный. Сервис-- честные 5* Grand Luxe, мальчик на этаже, любой вопрос решается моментально, все очень быстро и ненавязчиво. Шоппинг: до Дубай Молла идет галерея. Ребята-сотрудники отеля помогут понести сумки и даже за вас их в отель отнесут, если не боитесь доверять ценный груз)) Смотровая площадка: билет продается без очереди прямо в отеле, но чтобы попасть на нее надо 2 раза пройти по галерее: туда и обратно, так как контроль безопасности находится со стороны Дубай молла. Ресторан-- не нашли к чему придраться, все вкусно, сервис прекрасный. Общий вывод: если опять окажемся в Дубае транзитом-- без вариантов, снова сюда.</td>\n",
       "    </tr>\n",
       "    <tr>\n",
       "      <th>review_text_ner</th>\n",
       "      <td>Элегантный отель в самом центре &lt;LOC&gt;. Красивые и стильные номера. И жуткие цены) До посещения отеля рекомендуется ограбить банк или неожиданно разбогатеть)))Это пишу чтобы набрать 200 символов))))))</td>\n",
       "      <td>Если стиль вашей поездки в &lt;LOC&gt;-- это шоппинг в &lt;LOC&gt; молле, созерцание фонтана и гастрономический ужин-- не пожалейте денег \"усилить\" все эти ощущения номером с видом на фонтан в отеле &lt;ORG&gt;. Это просто супер. Номера находятся на нижних этажах &lt;LOC&gt;, поэтому вид на фонтан оттуда точно лучше, чем с улицы около, и даже лучше, чем с крыши этого замечательного здания. Лучше, чем из ресторана... В общем-- самый лучший. Я прямо будильник заводил и выходил смотреть фонтан на балкон (представления меняются в течение вечера). На балконах можно курить, что не может не радовать не расставшихся с этой привычкой. Но такие номера продают только на сайте самого отеля-- у перекупщиков типа &lt;MISC&gt; их нет. В номере мы увидели реально работающий, удобный и функциональный \"умный дом\"-- управление всей электроникой номера с &lt;MISC&gt;. Дизайн-- не просто привлекательный и интересный, но и очень функциональный. Сервис-- честные 5* &lt;MISC&gt;, мальчик на этаже, любой вопрос решается моментально, все очень быстро и ненавязчиво. Шоппинг: до &lt;LOC&gt; Молла идет галерея. Ребята-сотрудники отеля помогут понести сумки и даже за вас их в отель отнесут, если не боитесь доверять ценный груз)) Смотровая площадка: билет продается без очереди прямо в отеле, но чтобы попасть на нее надо 2 раза пройти по галерее: туда и обратно, так как контроль безопасности находится со стороны &lt;LOC&gt; молла. &lt;LOC&gt;-- не нашли к чему придраться, все вкусно, сервис прекрасный. Общий вывод: если опять окажемся в &lt;LOC&gt; транзитом-- без вариантов, снова сюда.</td>\n",
       "    </tr>\n",
       "    <tr>\n",
       "      <th>loc_count</th>\n",
       "      <td>1</td>\n",
       "      <td>7</td>\n",
       "    </tr>\n",
       "    <tr>\n",
       "      <th>org_count</th>\n",
       "      <td>0</td>\n",
       "      <td>1</td>\n",
       "    </tr>\n",
       "    <tr>\n",
       "      <th>misc_count</th>\n",
       "      <td>0</td>\n",
       "      <td>3</td>\n",
       "    </tr>\n",
       "    <tr>\n",
       "      <th>per_count</th>\n",
       "      <td>0</td>\n",
       "      <td>0</td>\n",
       "    </tr>\n",
       "    <tr>\n",
       "      <th>right_parenthesis_cnt</th>\n",
       "      <td>10</td>\n",
       "      <td>3</td>\n",
       "    </tr>\n",
       "    <tr>\n",
       "      <th>left_parenthesis_cnt</th>\n",
       "      <td>0</td>\n",
       "      <td>1</td>\n",
       "    </tr>\n",
       "    <tr>\n",
       "      <th>point_cnt</th>\n",
       "      <td>2</td>\n",
       "      <td>17</td>\n",
       "    </tr>\n",
       "    <tr>\n",
       "      <th>comma_cnt</th>\n",
       "      <td>2</td>\n",
       "      <td>17</td>\n",
       "    </tr>\n",
       "    <tr>\n",
       "      <th>exlaim_cnt</th>\n",
       "      <td>0</td>\n",
       "      <td>0</td>\n",
       "    </tr>\n",
       "    <tr>\n",
       "      <th>review_text_ner_num</th>\n",
       "      <td>Элегантный отель в самом центре &lt; LOC &gt; . Красивые и стильные номера . И жуткие цены ) До посещения отеля рекомендуется ограбить банк или неожиданно разбогатеть ) ) ) Это пишу чтобы набрать NUM символов ) ) ) ) ) )</td>\n",
       "      <td>Если стиль вашей поездки в &lt; LOC &gt; -- это шоппинг в &lt; LOC &gt; молле , созерцание фонтана и гастрономический ужин -- не пожалейте денег \" усилить \" все эти ощущения номером с видом на фонтан в отеле &lt; ORG &gt; . Это просто супер . Номера находятся на нижних этажах &lt; LOC &gt; , поэтому вид на фонтан оттуда точно лучше , чем с улицы около , и даже лучше , чем с крыши этого замечательного здания . Лучше , чем из ресторана ... В общем -- самый лучший . Я прямо будильник заводил и выходил смотреть фонтан на балкон ( представления меняются в течение вечера ) . На балконах можно курить , что не может не радовать не расставшихся с этой привычкой . Но такие номера продают только на сайте самого отеля -- у перекупщиков типа &lt; MISC &gt; их нет . В номере мы увидели реально работающий , удобный и функциональный \" умный дом \" -- управление всей электроникой номера с &lt; MISC &gt; . Дизайн -- не просто привлекательный и интересный , но и очень функциональный . Сервис -- честные NUM * &lt; MISC &gt; , мальчик на этаже , любой вопрос решается моментально , все очень быстро и ненавязчиво . Шоппинг : до &lt; LOC &gt; Молла идет галерея . Ребята-сотрудники отеля помогут понести сумки и даже за вас их в отель отнесут , если не боитесь доверять ценный груз ) ) Смотровая площадка : билет продается без очереди прямо в отеле , но чтобы попасть на нее надо NUM раза пройти по галерее : туда и обратно , так как контроль безопасности находится со стороны &lt; LOC &gt; молла . &lt; LOC &gt; -- не нашли к чему придраться , все вкусно , сервис прекрасный . Общий вывод : если опять окажемся в &lt; LOC &gt; транзитом -- без вариантов , снова сюда .</td>\n",
       "    </tr>\n",
       "    <tr>\n",
       "      <th>num_cnt</th>\n",
       "      <td>1</td>\n",
       "      <td>2</td>\n",
       "    </tr>\n",
       "    <tr>\n",
       "      <th>review_text_ner_num_clean</th>\n",
       "      <td>элегантный отель в самом центре &lt;loc&gt; красивые и стильные номера и жуткие цены до посещения отеля рекомендуется ограбить банк или неожиданно разбогатеть это пишу чтобы набрать num символов</td>\n",
       "      <td>если стиль вашей поездки в &lt;loc&gt; это шоппинг в &lt;loc&gt; молле созерцание фонтана и гастрономический ужин не пожалейте денег усилить все эти ощущения номером с видом на фонтан в отеле &lt;org&gt; это просто супер номера находятся на нижних этажах &lt;loc&gt; поэтому вид на фонтан оттуда точно лучше чем с улицы около и даже лучше чем с крыши этого замечательного здания лучше чем из ресторана в общем самый лучший я прямо будильник заводил и выходил смотреть фонтан на балкон представления меняются в течение вечера на балконах можно курить что не может не радовать не расставшихся с этой привычкой но такие номера продают только на сайте самого отеля у перекупщиков типа &lt;misc&gt; их нет в номере мы увидели реально работающий удобный и функциональный умный дом управление всей электроникой номера с &lt;misc&gt; дизайн не просто привлекательный и интересный но и очень функциональный сервис честные num &lt;misc&gt; мальчик на этаже любой вопрос решается моментально все очень быстро и ненавязчиво шоппинг до &lt;loc&gt; молла идет галерея ребята сотрудники отеля помогут понести сумки и даже за вас их в отель отнесут если не боитесь доверять ценный груз смотровая площадка билет продается без очереди прямо в отеле но чтобы попасть на нее надо num раза пройти по галерее туда и обратно так как контроль безопасности находится со стороны &lt;loc&gt; молла &lt;loc&gt; не нашли к чему придраться все вкусно сервис прекрасный общий вывод если опять окажемся в &lt;loc&gt; транзитом без вариантов снова сюда</td>\n",
       "    </tr>\n",
       "  </tbody>\n",
       "</table>\n",
       "</div>"
      ],
      "text/plain": [
       "                                                                                                                                                                                                                                                0  \\\n",
       "review_id                                                                                                                                                                                                                                       1   \n",
       "review_text                               Элегантный отель в самом центре Дубай. Красивые и стильные номера. И жуткие цены) До посещения отеля рекомендуется ограбить банк или неожиданно разбогатеть)))Это пишу чтобы набрать 200 символов))))))   \n",
       "review_text_ner                           Элегантный отель в самом центре <LOC>. Красивые и стильные номера. И жуткие цены) До посещения отеля рекомендуется ограбить банк или неожиданно разбогатеть)))Это пишу чтобы набрать 200 символов))))))   \n",
       "loc_count                                                                                                                                                                                                                                       1   \n",
       "org_count                                                                                                                                                                                                                                       0   \n",
       "misc_count                                                                                                                                                                                                                                      0   \n",
       "per_count                                                                                                                                                                                                                                       0   \n",
       "right_parenthesis_cnt                                                                                                                                                                                                                          10   \n",
       "left_parenthesis_cnt                                                                                                                                                                                                                            0   \n",
       "point_cnt                                                                                                                                                                                                                                       2   \n",
       "comma_cnt                                                                                                                                                                                                                                       2   \n",
       "exlaim_cnt                                                                                                                                                                                                                                      0   \n",
       "review_text_ner_num        Элегантный отель в самом центре < LOC > . Красивые и стильные номера . И жуткие цены ) До посещения отеля рекомендуется ограбить банк или неожиданно разбогатеть ) ) ) Это пишу чтобы набрать NUM символов ) ) ) ) ) )   \n",
       "num_cnt                                                                                                                                                                                                                                         1   \n",
       "review_text_ner_num_clean                            элегантный отель в самом центре <loc> красивые и стильные номера и жуткие цены до посещения отеля рекомендуется ограбить банк или неожиданно разбогатеть это пишу чтобы набрать num символов   \n",
       "\n",
       "                                                                                                                                                                                                                                                                                                                                                                                                                                                                                                                                                                                                                                                                                                                                                                                                                                                                                                                                                                                                                                                                                                                                                                                                                                                                                                                                                                                                                                                                                                                                                                                                                                                                                      1  \n",
       "review_id                                                                                                                                                                                                                                                                                                                                                                                                                                                                                                                                                                                                                                                                                                                                                                                                                                                                                                                                                                                                                                                                                                                                                                                                                                                                                                                                                                                                                                                                                                                                                                                                                                                                             2  \n",
       "review_text                                                                          Если стиль вашей поездки в Дубай-- это шоппинг в Дубай молле, созерцание фонтана и гастрономический ужин-- не пожалейте денег \"усилить\" все эти ощущения номером с видом на фонтан в отеле Armani. Это просто супер. Номера находятся на нижних этажах Burj Khalifa, поэтому вид на фонтан оттуда точно лучше, чем с улицы около, и даже лучше, чем с крыши этого замечательного здания. Лучше, чем из ресторана... В общем-- самый лучший. Я прямо будильник заводил и выходил смотреть фонтан на балкон (представления меняются в течение вечера). На балконах можно курить, что не может не радовать не расставшихся с этой привычкой. Но такие номера продают только на сайте самого отеля-- у перекупщиков типа booking.com их нет. В номере мы увидели реально работающий, удобный и функциональный \"умный дом\"-- управление всей электроникой номера с iPad mini. Дизайн-- не просто привлекательный и интересный, но и очень функциональный. Сервис-- честные 5* Grand Luxe, мальчик на этаже, любой вопрос решается моментально, все очень быстро и ненавязчиво. Шоппинг: до Дубай Молла идет галерея. Ребята-сотрудники отеля помогут понести сумки и даже за вас их в отель отнесут, если не боитесь доверять ценный груз)) Смотровая площадка: билет продается без очереди прямо в отеле, но чтобы попасть на нее надо 2 раза пройти по галерее: туда и обратно, так как контроль безопасности находится со стороны Дубай молла. Ресторан-- не нашли к чему придраться, все вкусно, сервис прекрасный. Общий вывод: если опять окажемся в Дубае транзитом-- без вариантов, снова сюда.  \n",
       "review_text_ner                                                                                             Если стиль вашей поездки в <LOC>-- это шоппинг в <LOC> молле, созерцание фонтана и гастрономический ужин-- не пожалейте денег \"усилить\" все эти ощущения номером с видом на фонтан в отеле <ORG>. Это просто супер. Номера находятся на нижних этажах <LOC>, поэтому вид на фонтан оттуда точно лучше, чем с улицы около, и даже лучше, чем с крыши этого замечательного здания. Лучше, чем из ресторана... В общем-- самый лучший. Я прямо будильник заводил и выходил смотреть фонтан на балкон (представления меняются в течение вечера). На балконах можно курить, что не может не радовать не расставшихся с этой привычкой. Но такие номера продают только на сайте самого отеля-- у перекупщиков типа <MISC> их нет. В номере мы увидели реально работающий, удобный и функциональный \"умный дом\"-- управление всей электроникой номера с <MISC>. Дизайн-- не просто привлекательный и интересный, но и очень функциональный. Сервис-- честные 5* <MISC>, мальчик на этаже, любой вопрос решается моментально, все очень быстро и ненавязчиво. Шоппинг: до <LOC> Молла идет галерея. Ребята-сотрудники отеля помогут понести сумки и даже за вас их в отель отнесут, если не боитесь доверять ценный груз)) Смотровая площадка: билет продается без очереди прямо в отеле, но чтобы попасть на нее надо 2 раза пройти по галерее: туда и обратно, так как контроль безопасности находится со стороны <LOC> молла. <LOC>-- не нашли к чему придраться, все вкусно, сервис прекрасный. Общий вывод: если опять окажемся в <LOC> транзитом-- без вариантов, снова сюда.  \n",
       "loc_count                                                                                                                                                                                                                                                                                                                                                                                                                                                                                                                                                                                                                                                                                                                                                                                                                                                                                                                                                                                                                                                                                                                                                                                                                                                                                                                                                                                                                                                                                                                                                                                                                                                                             7  \n",
       "org_count                                                                                                                                                                                                                                                                                                                                                                                                                                                                                                                                                                                                                                                                                                                                                                                                                                                                                                                                                                                                                                                                                                                                                                                                                                                                                                                                                                                                                                                                                                                                                                                                                                                                             1  \n",
       "misc_count                                                                                                                                                                                                                                                                                                                                                                                                                                                                                                                                                                                                                                                                                                                                                                                                                                                                                                                                                                                                                                                                                                                                                                                                                                                                                                                                                                                                                                                                                                                                                                                                                                                                            3  \n",
       "per_count                                                                                                                                                                                                                                                                                                                                                                                                                                                                                                                                                                                                                                                                                                                                                                                                                                                                                                                                                                                                                                                                                                                                                                                                                                                                                                                                                                                                                                                                                                                                                                                                                                                                             0  \n",
       "right_parenthesis_cnt                                                                                                                                                                                                                                                                                                                                                                                                                                                                                                                                                                                                                                                                                                                                                                                                                                                                                                                                                                                                                                                                                                                                                                                                                                                                                                                                                                                                                                                                                                                                                                                                                                                                 3  \n",
       "left_parenthesis_cnt                                                                                                                                                                                                                                                                                                                                                                                                                                                                                                                                                                                                                                                                                                                                                                                                                                                                                                                                                                                                                                                                                                                                                                                                                                                                                                                                                                                                                                                                                                                                                                                                                                                                  1  \n",
       "point_cnt                                                                                                                                                                                                                                                                                                                                                                                                                                                                                                                                                                                                                                                                                                                                                                                                                                                                                                                                                                                                                                                                                                                                                                                                                                                                                                                                                                                                                                                                                                                                                                                                                                                                            17  \n",
       "comma_cnt                                                                                                                                                                                                                                                                                                                                                                                                                                                                                                                                                                                                                                                                                                                                                                                                                                                                                                                                                                                                                                                                                                                                                                                                                                                                                                                                                                                                                                                                                                                                                                                                                                                                            17  \n",
       "exlaim_cnt                                                                                                                                                                                                                                                                                                                                                                                                                                                                                                                                                                                                                                                                                                                                                                                                                                                                                                                                                                                                                                                                                                                                                                                                                                                                                                                                                                                                                                                                                                                                                                                                                                                                            0  \n",
       "review_text_ner_num        Если стиль вашей поездки в < LOC > -- это шоппинг в < LOC > молле , созерцание фонтана и гастрономический ужин -- не пожалейте денег \" усилить \" все эти ощущения номером с видом на фонтан в отеле < ORG > . Это просто супер . Номера находятся на нижних этажах < LOC > , поэтому вид на фонтан оттуда точно лучше , чем с улицы около , и даже лучше , чем с крыши этого замечательного здания . Лучше , чем из ресторана ... В общем -- самый лучший . Я прямо будильник заводил и выходил смотреть фонтан на балкон ( представления меняются в течение вечера ) . На балконах можно курить , что не может не радовать не расставшихся с этой привычкой . Но такие номера продают только на сайте самого отеля -- у перекупщиков типа < MISC > их нет . В номере мы увидели реально работающий , удобный и функциональный \" умный дом \" -- управление всей электроникой номера с < MISC > . Дизайн -- не просто привлекательный и интересный , но и очень функциональный . Сервис -- честные NUM * < MISC > , мальчик на этаже , любой вопрос решается моментально , все очень быстро и ненавязчиво . Шоппинг : до < LOC > Молла идет галерея . Ребята-сотрудники отеля помогут понести сумки и даже за вас их в отель отнесут , если не боитесь доверять ценный груз ) ) Смотровая площадка : билет продается без очереди прямо в отеле , но чтобы попасть на нее надо NUM раза пройти по галерее : туда и обратно , так как контроль безопасности находится со стороны < LOC > молла . < LOC > -- не нашли к чему придраться , все вкусно , сервис прекрасный . Общий вывод : если опять окажемся в < LOC > транзитом -- без вариантов , снова сюда .  \n",
       "num_cnt                                                                                                                                                                                                                                                                                                                                                                                                                                                                                                                                                                                                                                                                                                                                                                                                                                                                                                                                                                                                                                                                                                                                                                                                                                                                                                                                                                                                                                                                                                                                                                                                                                                                               2  \n",
       "review_text_ner_num_clean                                                                                                                                                 если стиль вашей поездки в <loc> это шоппинг в <loc> молле созерцание фонтана и гастрономический ужин не пожалейте денег усилить все эти ощущения номером с видом на фонтан в отеле <org> это просто супер номера находятся на нижних этажах <loc> поэтому вид на фонтан оттуда точно лучше чем с улицы около и даже лучше чем с крыши этого замечательного здания лучше чем из ресторана в общем самый лучший я прямо будильник заводил и выходил смотреть фонтан на балкон представления меняются в течение вечера на балконах можно курить что не может не радовать не расставшихся с этой привычкой но такие номера продают только на сайте самого отеля у перекупщиков типа <misc> их нет в номере мы увидели реально работающий удобный и функциональный умный дом управление всей электроникой номера с <misc> дизайн не просто привлекательный и интересный но и очень функциональный сервис честные num <misc> мальчик на этаже любой вопрос решается моментально все очень быстро и ненавязчиво шоппинг до <loc> молла идет галерея ребята сотрудники отеля помогут понести сумки и даже за вас их в отель отнесут если не боитесь доверять ценный груз смотровая площадка билет продается без очереди прямо в отеле но чтобы попасть на нее надо num раза пройти по галерее туда и обратно так как контроль безопасности находится со стороны <loc> молла <loc> не нашли к чему придраться все вкусно сервис прекрасный общий вывод если опять окажемся в <loc> транзитом без вариантов снова сюда  "
      ]
     },
     "execution_count": 21,
     "metadata": {},
     "output_type": "execute_result"
    }
   ],
   "source": [
    "df_raw.head(2).T"
   ]
  },
  {
   "cell_type": "markdown",
   "metadata": {},
   "source": [
    "### 7.Make lemattization"
   ]
  },
  {
   "cell_type": "code",
   "execution_count": 25,
   "metadata": {},
   "outputs": [],
   "source": [
    "from natasha import Segmenter, MorphVocab, NewsEmbedding, NewsMorphTagger, Doc\n",
    "\n",
    "# Initialize Natasha components\n",
    "segmenter = Segmenter()\n",
    "morph_vocab = MorphVocab()\n",
    "embeddings = NewsEmbedding()\n",
    "morph_tagger = NewsMorphTagger(embeddings)\n",
    "\n",
    "\n",
    "# Function for lemmatization using Natasha\n",
    "def lemmatize_with_natasha(text):\n",
    "    if not isinstance(text, str):\n",
    "        return text  # Skip if not a string\n",
    "\n",
    "    doc = Doc(text)\n",
    "    doc.segment(segmenter)\n",
    "    doc.tag_morph(morph_tagger)\n",
    "\n",
    "    # Lemmatize each token\n",
    "    for token in doc.tokens:\n",
    "        token.lemmatize(morph_vocab)\n",
    "\n",
    "    return \" \".join([token.lemma for token in doc.tokens])\n",
    "\n",
    "\n",
    "df_raw[\"lemmatized\"] = df_raw[\"review_text_ner_num_clean\"].apply(lemmatize_with_natasha)"
   ]
  },
  {
   "cell_type": "code",
   "execution_count": 30,
   "metadata": {},
   "outputs": [],
   "source": [
    "def norm_tokens(text):\n",
    "    # Normalize entity formatting\n",
    "    replacements = {\n",
    "        \"< loc >\": \"<loc>\",\n",
    "        \"< org >\": \"<org>\",\n",
    "        \"< num >\": \"<num>\",\n",
    "        \"< per >\": \"<per>\",\n",
    "        \"< misc >\": \"<misc>\",\n",
    "    }\n",
    "\n",
    "    for old, new in replacements.items():\n",
    "        text = text.replace(old, new)\n",
    "\n",
    "    return text\n",
    "\n",
    "\n",
    "df_raw[\"lemmatized\"] = df_raw[\"lemmatized\"].apply(norm_tokens)"
   ]
  },
  {
   "cell_type": "markdown",
   "metadata": {},
   "source": [
    "### 8. Delete stop words"
   ]
  },
  {
   "cell_type": "code",
   "execution_count": 32,
   "metadata": {},
   "outputs": [
    {
     "name": "stderr",
     "output_type": "stream",
     "text": [
      "[nltk_data] Downloading package stopwords to\n",
      "[nltk_data]     C:\\Users\\baksa\\AppData\\Roaming\\nltk_data...\n",
      "[nltk_data]   Package stopwords is already up-to-date!\n"
     ]
    }
   ],
   "source": [
    "import nltk\n",
    "import string\n",
    "from nltk.corpus import stopwords\n",
    "\n",
    "# Download stopwords if not already present\n",
    "nltk.download(\"stopwords\")\n",
    "russian_stopwords = set(stopwords.words(\"russian\"))\n",
    "\n",
    "\n",
    "# Function to remove stop words\n",
    "def remove_stopwords(text):\n",
    "    if not isinstance(text, str):\n",
    "        return text  # Skip if not a string\n",
    "\n",
    "    words = text.split()  # Tokenize by spaces\n",
    "    filtered_words = [word for word in words if word.lower() not in russian_stopwords]  # Remove stopwords\n",
    "    return \" \".join(filtered_words)  # Reconstruct sentence\n",
    "\n",
    "\n",
    "# Apply function to DataFrame column\n",
    "df_raw[\"free_stop_words\"] = df_raw[\"lemmatized\"].apply(remove_stopwords)"
   ]
  },
  {
   "cell_type": "code",
   "execution_count": 33,
   "metadata": {},
   "outputs": [
    {
     "data": {
      "text/html": [
       "<div>\n",
       "<style scoped>\n",
       "    .dataframe tbody tr th:only-of-type {\n",
       "        vertical-align: middle;\n",
       "    }\n",
       "\n",
       "    .dataframe tbody tr th {\n",
       "        vertical-align: top;\n",
       "    }\n",
       "\n",
       "    .dataframe thead th {\n",
       "        text-align: right;\n",
       "    }\n",
       "</style>\n",
       "<table border=\"1\" class=\"dataframe\">\n",
       "  <thead>\n",
       "    <tr style=\"text-align: right;\">\n",
       "      <th></th>\n",
       "      <th>0</th>\n",
       "      <th>1</th>\n",
       "    </tr>\n",
       "  </thead>\n",
       "  <tbody>\n",
       "    <tr>\n",
       "      <th>review_id</th>\n",
       "      <td>1</td>\n",
       "      <td>2</td>\n",
       "    </tr>\n",
       "    <tr>\n",
       "      <th>review_text</th>\n",
       "      <td>Элегантный отель в самом центре Дубай. Красивые и стильные номера. И жуткие цены) До посещения отеля рекомендуется ограбить банк или неожиданно разбогатеть)))Это пишу чтобы набрать 200 символов))))))</td>\n",
       "      <td>Если стиль вашей поездки в Дубай-- это шоппинг в Дубай молле, созерцание фонтана и гастрономический ужин-- не пожалейте денег \"усилить\" все эти ощущения номером с видом на фонтан в отеле Armani. Это просто супер. Номера находятся на нижних этажах Burj Khalifa, поэтому вид на фонтан оттуда точно лучше, чем с улицы около, и даже лучше, чем с крыши этого замечательного здания. Лучше, чем из ресторана... В общем-- самый лучший. Я прямо будильник заводил и выходил смотреть фонтан на балкон (представления меняются в течение вечера). На балконах можно курить, что не может не радовать не расставшихся с этой привычкой. Но такие номера продают только на сайте самого отеля-- у перекупщиков типа booking.com их нет. В номере мы увидели реально работающий, удобный и функциональный \"умный дом\"-- управление всей электроникой номера с iPad mini. Дизайн-- не просто привлекательный и интересный, но и очень функциональный. Сервис-- честные 5* Grand Luxe, мальчик на этаже, любой вопрос решается моментально, все очень быстро и ненавязчиво. Шоппинг: до Дубай Молла идет галерея. Ребята-сотрудники отеля помогут понести сумки и даже за вас их в отель отнесут, если не боитесь доверять ценный груз)) Смотровая площадка: билет продается без очереди прямо в отеле, но чтобы попасть на нее надо 2 раза пройти по галерее: туда и обратно, так как контроль безопасности находится со стороны Дубай молла. Ресторан-- не нашли к чему придраться, все вкусно, сервис прекрасный. Общий вывод: если опять окажемся в Дубае транзитом-- без вариантов, снова сюда.</td>\n",
       "    </tr>\n",
       "    <tr>\n",
       "      <th>review_text_ner</th>\n",
       "      <td>Элегантный отель в самом центре &lt;LOC&gt;. Красивые и стильные номера. И жуткие цены) До посещения отеля рекомендуется ограбить банк или неожиданно разбогатеть)))Это пишу чтобы набрать 200 символов))))))</td>\n",
       "      <td>Если стиль вашей поездки в &lt;LOC&gt;-- это шоппинг в &lt;LOC&gt; молле, созерцание фонтана и гастрономический ужин-- не пожалейте денег \"усилить\" все эти ощущения номером с видом на фонтан в отеле &lt;ORG&gt;. Это просто супер. Номера находятся на нижних этажах &lt;LOC&gt;, поэтому вид на фонтан оттуда точно лучше, чем с улицы около, и даже лучше, чем с крыши этого замечательного здания. Лучше, чем из ресторана... В общем-- самый лучший. Я прямо будильник заводил и выходил смотреть фонтан на балкон (представления меняются в течение вечера). На балконах можно курить, что не может не радовать не расставшихся с этой привычкой. Но такие номера продают только на сайте самого отеля-- у перекупщиков типа &lt;MISC&gt; их нет. В номере мы увидели реально работающий, удобный и функциональный \"умный дом\"-- управление всей электроникой номера с &lt;MISC&gt;. Дизайн-- не просто привлекательный и интересный, но и очень функциональный. Сервис-- честные 5* &lt;MISC&gt;, мальчик на этаже, любой вопрос решается моментально, все очень быстро и ненавязчиво. Шоппинг: до &lt;LOC&gt; Молла идет галерея. Ребята-сотрудники отеля помогут понести сумки и даже за вас их в отель отнесут, если не боитесь доверять ценный груз)) Смотровая площадка: билет продается без очереди прямо в отеле, но чтобы попасть на нее надо 2 раза пройти по галерее: туда и обратно, так как контроль безопасности находится со стороны &lt;LOC&gt; молла. &lt;LOC&gt;-- не нашли к чему придраться, все вкусно, сервис прекрасный. Общий вывод: если опять окажемся в &lt;LOC&gt; транзитом-- без вариантов, снова сюда.</td>\n",
       "    </tr>\n",
       "    <tr>\n",
       "      <th>loc_count</th>\n",
       "      <td>1</td>\n",
       "      <td>7</td>\n",
       "    </tr>\n",
       "    <tr>\n",
       "      <th>org_count</th>\n",
       "      <td>0</td>\n",
       "      <td>1</td>\n",
       "    </tr>\n",
       "    <tr>\n",
       "      <th>misc_count</th>\n",
       "      <td>0</td>\n",
       "      <td>3</td>\n",
       "    </tr>\n",
       "    <tr>\n",
       "      <th>per_count</th>\n",
       "      <td>0</td>\n",
       "      <td>0</td>\n",
       "    </tr>\n",
       "    <tr>\n",
       "      <th>right_parenthesis_cnt</th>\n",
       "      <td>10</td>\n",
       "      <td>3</td>\n",
       "    </tr>\n",
       "    <tr>\n",
       "      <th>left_parenthesis_cnt</th>\n",
       "      <td>0</td>\n",
       "      <td>1</td>\n",
       "    </tr>\n",
       "    <tr>\n",
       "      <th>point_cnt</th>\n",
       "      <td>2</td>\n",
       "      <td>17</td>\n",
       "    </tr>\n",
       "    <tr>\n",
       "      <th>comma_cnt</th>\n",
       "      <td>2</td>\n",
       "      <td>17</td>\n",
       "    </tr>\n",
       "    <tr>\n",
       "      <th>exlaim_cnt</th>\n",
       "      <td>0</td>\n",
       "      <td>0</td>\n",
       "    </tr>\n",
       "    <tr>\n",
       "      <th>review_text_ner_num</th>\n",
       "      <td>Элегантный отель в самом центре &lt; LOC &gt; . Красивые и стильные номера . И жуткие цены ) До посещения отеля рекомендуется ограбить банк или неожиданно разбогатеть ) ) ) Это пишу чтобы набрать &lt;NUM&gt; символов ) ) ) ) ) )</td>\n",
       "      <td>Если стиль вашей поездки в &lt; LOC &gt; -- это шоппинг в &lt; LOC &gt; молле , созерцание фонтана и гастрономический ужин -- не пожалейте денег \" усилить \" все эти ощущения номером с видом на фонтан в отеле &lt; ORG &gt; . Это просто супер . Номера находятся на нижних этажах &lt; LOC &gt; , поэтому вид на фонтан оттуда точно лучше , чем с улицы около , и даже лучше , чем с крыши этого замечательного здания . Лучше , чем из ресторана ... В общем -- самый лучший . Я прямо будильник заводил и выходил смотреть фонтан на балкон ( представления меняются в течение вечера ) . На балконах можно курить , что не может не радовать не расставшихся с этой привычкой . Но такие номера продают только на сайте самого отеля -- у перекупщиков типа &lt; MISC &gt; их нет . В номере мы увидели реально работающий , удобный и функциональный \" умный дом \" -- управление всей электроникой номера с &lt; MISC &gt; . Дизайн -- не просто привлекательный и интересный , но и очень функциональный . Сервис -- честные &lt;NUM&gt; * &lt; MISC &gt; , мальчик на этаже , любой вопрос решается моментально , все очень быстро и ненавязчиво . Шоппинг : до &lt; LOC &gt; Молла идет галерея . Ребята-сотрудники отеля помогут понести сумки и даже за вас их в отель отнесут , если не боитесь доверять ценный груз ) ) Смотровая площадка : билет продается без очереди прямо в отеле , но чтобы попасть на нее надо &lt;NUM&gt; раза пройти по галерее : туда и обратно , так как контроль безопасности находится со стороны &lt; LOC &gt; молла . &lt; LOC &gt; -- не нашли к чему придраться , все вкусно , сервис прекрасный . Общий вывод : если опять окажемся в &lt; LOC &gt; транзитом -- без вариантов , снова сюда .</td>\n",
       "    </tr>\n",
       "    <tr>\n",
       "      <th>num_cnt</th>\n",
       "      <td>1</td>\n",
       "      <td>2</td>\n",
       "    </tr>\n",
       "    <tr>\n",
       "      <th>review_text_ner_num_clean</th>\n",
       "      <td>элегантный отель в самом центре &lt;loc&gt; красивые и стильные номера и жуткие цены до посещения отеля рекомендуется ограбить банк или неожиданно разбогатеть это пишу чтобы набрать &lt;num&gt; символов</td>\n",
       "      <td>если стиль вашей поездки в &lt;loc&gt; это шоппинг в &lt;loc&gt; молле созерцание фонтана и гастрономический ужин не пожалейте денег усилить все эти ощущения номером с видом на фонтан в отеле &lt;org&gt; это просто супер номера находятся на нижних этажах &lt;loc&gt; поэтому вид на фонтан оттуда точно лучше чем с улицы около и даже лучше чем с крыши этого замечательного здания лучше чем из ресторана в общем самый лучший я прямо будильник заводил и выходил смотреть фонтан на балкон представления меняются в течение вечера на балконах можно курить что не может не радовать не расставшихся с этой привычкой но такие номера продают только на сайте самого отеля у перекупщиков типа &lt;misc&gt; их нет в номере мы увидели реально работающий удобный и функциональный умный дом управление всей электроникой номера с &lt;misc&gt; дизайн не просто привлекательный и интересный но и очень функциональный сервис честные &lt;num&gt; &lt;misc&gt; мальчик на этаже любой вопрос решается моментально все очень быстро и ненавязчиво шоппинг до &lt;loc&gt; молла идет галерея ребята сотрудники отеля помогут понести сумки и даже за вас их в отель отнесут если не боитесь доверять ценный груз смотровая площадка билет продается без очереди прямо в отеле но чтобы попасть на нее надо &lt;num&gt; раза пройти по галерее туда и обратно так как контроль безопасности находится со стороны &lt;loc&gt; молла &lt;loc&gt; не нашли к чему придраться все вкусно сервис прекрасный общий вывод если опять окажемся в &lt;loc&gt; транзитом без вариантов снова сюда</td>\n",
       "    </tr>\n",
       "    <tr>\n",
       "      <th>lemmatized</th>\n",
       "      <td>элегантный отель в сам центр &lt;loc&gt; красивый и стильный номер и жуткий цена до посещение отель рекомендоваться ограбить банк или неожиданно разбогатеть это писать чтобы набрать &lt;num&gt; символ</td>\n",
       "      <td>если стиль ваш поездка в &lt;loc&gt; это шопинг в &lt;loc&gt; молл созерцание фонтан и гастрономический ужин не пожалеть деньга усилить весь этот ощущение номер с вид на фонтан в отель &lt;org&gt; это просто супер номер находиться на нижний этаж &lt;loc&gt; поэтому вид на фонтан оттуда точно хороший чем с улица около и даже хороший чем с крыша это замечательный здание лучше чем из ресторан в общий самый хороший я прямо будильник заводить и выходить смотреть фонтан на балкон представление меняться в течение вечер на балкон можно курить что не мочь не радовать не расстаться с этот привычка но такой номер продавать только на сайт сам отель у перекупщик тип &lt;misc&gt; они нет в номер мы увидеть реально работать удобный и функциональный умный дом управление весь электроника номер с &lt;misc&gt; дизайн не просто привлекательный и интересный но и очень функциональный сервис честные &lt;num&gt; &lt;misc&gt; мальчик на этаж любой вопрос решаться моментально весь очень быстро и ненавязчиво шопинг до &lt;loc&gt; молл идти галерея ребята сотрудник отель помочь понести сумка и даже за вы они в отель отнести если не бояться доверять ценный груз смотровой площадка билет продаваться без очередь прямо в отель но чтобы попасть на она надо &lt;num&gt; раз пройти по галерея туда и обратно так как контроль безопасность находиться с сторона &lt;loc&gt; молл &lt;loc&gt; не найти к что придраться весь вкусно сервис прекрасный общий вывод если опять оказаться в &lt;loc&gt; транзит без вариант снова сюда</td>\n",
       "    </tr>\n",
       "    <tr>\n",
       "      <th>free_stop_words</th>\n",
       "      <td>элегантный отель центр &lt;loc&gt; красивый стильный номер жуткий цена посещение отель рекомендоваться ограбить банк неожиданно разбогатеть это писать набрать &lt;num&gt; символ</td>\n",
       "      <td>стиль ваш поездка &lt;loc&gt; это шопинг &lt;loc&gt; молл созерцание фонтан гастрономический ужин пожалеть деньга усилить весь ощущение номер вид фонтан отель &lt;org&gt; это просто супер номер находиться нижний этаж &lt;loc&gt; поэтому вид фонтан оттуда точно хороший улица около хороший крыша это замечательный здание ресторан общий самый хороший прямо будильник заводить выходить смотреть фонтан балкон представление меняться течение вечер балкон курить мочь радовать расстаться привычка номер продавать сайт отель перекупщик тип &lt;misc&gt; номер увидеть реально работать удобный функциональный умный дом управление весь электроника номер &lt;misc&gt; дизайн просто привлекательный интересный очень функциональный сервис честные &lt;num&gt; &lt;misc&gt; мальчик этаж любой вопрос решаться моментально весь очень быстро ненавязчиво шопинг &lt;loc&gt; молл идти галерея ребята сотрудник отель помочь понести сумка отель отнести бояться доверять ценный груз смотровой площадка билет продаваться очередь прямо отель попасть &lt;num&gt; пройти галерея туда обратно контроль безопасность находиться сторона &lt;loc&gt; молл &lt;loc&gt; найти придраться весь вкусно сервис прекрасный общий вывод оказаться &lt;loc&gt; транзит вариант снова сюда</td>\n",
       "    </tr>\n",
       "  </tbody>\n",
       "</table>\n",
       "</div>"
      ],
      "text/plain": [
       "                                                                                                                                                                                                                                                  0  \\\n",
       "review_id                                                                                                                                                                                                                                         1   \n",
       "review_text                                 Элегантный отель в самом центре Дубай. Красивые и стильные номера. И жуткие цены) До посещения отеля рекомендуется ограбить банк или неожиданно разбогатеть)))Это пишу чтобы набрать 200 символов))))))   \n",
       "review_text_ner                             Элегантный отель в самом центре <LOC>. Красивые и стильные номера. И жуткие цены) До посещения отеля рекомендуется ограбить банк или неожиданно разбогатеть)))Это пишу чтобы набрать 200 символов))))))   \n",
       "loc_count                                                                                                                                                                                                                                         1   \n",
       "org_count                                                                                                                                                                                                                                         0   \n",
       "misc_count                                                                                                                                                                                                                                        0   \n",
       "per_count                                                                                                                                                                                                                                         0   \n",
       "right_parenthesis_cnt                                                                                                                                                                                                                            10   \n",
       "left_parenthesis_cnt                                                                                                                                                                                                                              0   \n",
       "point_cnt                                                                                                                                                                                                                                         2   \n",
       "comma_cnt                                                                                                                                                                                                                                         2   \n",
       "exlaim_cnt                                                                                                                                                                                                                                        0   \n",
       "review_text_ner_num        Элегантный отель в самом центре < LOC > . Красивые и стильные номера . И жуткие цены ) До посещения отеля рекомендуется ограбить банк или неожиданно разбогатеть ) ) ) Это пишу чтобы набрать <NUM> символов ) ) ) ) ) )   \n",
       "num_cnt                                                                                                                                                                                                                                           1   \n",
       "review_text_ner_num_clean                            элегантный отель в самом центре <loc> красивые и стильные номера и жуткие цены до посещения отеля рекомендуется ограбить банк или неожиданно разбогатеть это пишу чтобы набрать <num> символов   \n",
       "lemmatized                                             элегантный отель в сам центр <loc> красивый и стильный номер и жуткий цена до посещение отель рекомендоваться ограбить банк или неожиданно разбогатеть это писать чтобы набрать <num> символ   \n",
       "free_stop_words                                                               элегантный отель центр <loc> красивый стильный номер жуткий цена посещение отель рекомендоваться ограбить банк неожиданно разбогатеть это писать набрать <num> символ   \n",
       "\n",
       "                                                                                                                                                                                                                                                                                                                                                                                                                                                                                                                                                                                                                                                                                                                                                                                                                                                                                                                                                                                                                                                                                                                                                                                                                                                                                                                                                                                                                                                                                                                                                                                                                                                                                          1  \n",
       "review_id                                                                                                                                                                                                                                                                                                                                                                                                                                                                                                                                                                                                                                                                                                                                                                                                                                                                                                                                                                                                                                                                                                                                                                                                                                                                                                                                                                                                                                                                                                                                                                                                                                                                                 2  \n",
       "review_text                                                                              Если стиль вашей поездки в Дубай-- это шоппинг в Дубай молле, созерцание фонтана и гастрономический ужин-- не пожалейте денег \"усилить\" все эти ощущения номером с видом на фонтан в отеле Armani. Это просто супер. Номера находятся на нижних этажах Burj Khalifa, поэтому вид на фонтан оттуда точно лучше, чем с улицы около, и даже лучше, чем с крыши этого замечательного здания. Лучше, чем из ресторана... В общем-- самый лучший. Я прямо будильник заводил и выходил смотреть фонтан на балкон (представления меняются в течение вечера). На балконах можно курить, что не может не радовать не расставшихся с этой привычкой. Но такие номера продают только на сайте самого отеля-- у перекупщиков типа booking.com их нет. В номере мы увидели реально работающий, удобный и функциональный \"умный дом\"-- управление всей электроникой номера с iPad mini. Дизайн-- не просто привлекательный и интересный, но и очень функциональный. Сервис-- честные 5* Grand Luxe, мальчик на этаже, любой вопрос решается моментально, все очень быстро и ненавязчиво. Шоппинг: до Дубай Молла идет галерея. Ребята-сотрудники отеля помогут понести сумки и даже за вас их в отель отнесут, если не боитесь доверять ценный груз)) Смотровая площадка: билет продается без очереди прямо в отеле, но чтобы попасть на нее надо 2 раза пройти по галерее: туда и обратно, так как контроль безопасности находится со стороны Дубай молла. Ресторан-- не нашли к чему придраться, все вкусно, сервис прекрасный. Общий вывод: если опять окажемся в Дубае транзитом-- без вариантов, снова сюда.  \n",
       "review_text_ner                                                                                                 Если стиль вашей поездки в <LOC>-- это шоппинг в <LOC> молле, созерцание фонтана и гастрономический ужин-- не пожалейте денег \"усилить\" все эти ощущения номером с видом на фонтан в отеле <ORG>. Это просто супер. Номера находятся на нижних этажах <LOC>, поэтому вид на фонтан оттуда точно лучше, чем с улицы около, и даже лучше, чем с крыши этого замечательного здания. Лучше, чем из ресторана... В общем-- самый лучший. Я прямо будильник заводил и выходил смотреть фонтан на балкон (представления меняются в течение вечера). На балконах можно курить, что не может не радовать не расставшихся с этой привычкой. Но такие номера продают только на сайте самого отеля-- у перекупщиков типа <MISC> их нет. В номере мы увидели реально работающий, удобный и функциональный \"умный дом\"-- управление всей электроникой номера с <MISC>. Дизайн-- не просто привлекательный и интересный, но и очень функциональный. Сервис-- честные 5* <MISC>, мальчик на этаже, любой вопрос решается моментально, все очень быстро и ненавязчиво. Шоппинг: до <LOC> Молла идет галерея. Ребята-сотрудники отеля помогут понести сумки и даже за вас их в отель отнесут, если не боитесь доверять ценный груз)) Смотровая площадка: билет продается без очереди прямо в отеле, но чтобы попасть на нее надо 2 раза пройти по галерее: туда и обратно, так как контроль безопасности находится со стороны <LOC> молла. <LOC>-- не нашли к чему придраться, все вкусно, сервис прекрасный. Общий вывод: если опять окажемся в <LOC> транзитом-- без вариантов, снова сюда.  \n",
       "loc_count                                                                                                                                                                                                                                                                                                                                                                                                                                                                                                                                                                                                                                                                                                                                                                                                                                                                                                                                                                                                                                                                                                                                                                                                                                                                                                                                                                                                                                                                                                                                                                                                                                                                                 7  \n",
       "org_count                                                                                                                                                                                                                                                                                                                                                                                                                                                                                                                                                                                                                                                                                                                                                                                                                                                                                                                                                                                                                                                                                                                                                                                                                                                                                                                                                                                                                                                                                                                                                                                                                                                                                 1  \n",
       "misc_count                                                                                                                                                                                                                                                                                                                                                                                                                                                                                                                                                                                                                                                                                                                                                                                                                                                                                                                                                                                                                                                                                                                                                                                                                                                                                                                                                                                                                                                                                                                                                                                                                                                                                3  \n",
       "per_count                                                                                                                                                                                                                                                                                                                                                                                                                                                                                                                                                                                                                                                                                                                                                                                                                                                                                                                                                                                                                                                                                                                                                                                                                                                                                                                                                                                                                                                                                                                                                                                                                                                                                 0  \n",
       "right_parenthesis_cnt                                                                                                                                                                                                                                                                                                                                                                                                                                                                                                                                                                                                                                                                                                                                                                                                                                                                                                                                                                                                                                                                                                                                                                                                                                                                                                                                                                                                                                                                                                                                                                                                                                                                     3  \n",
       "left_parenthesis_cnt                                                                                                                                                                                                                                                                                                                                                                                                                                                                                                                                                                                                                                                                                                                                                                                                                                                                                                                                                                                                                                                                                                                                                                                                                                                                                                                                                                                                                                                                                                                                                                                                                                                                      1  \n",
       "point_cnt                                                                                                                                                                                                                                                                                                                                                                                                                                                                                                                                                                                                                                                                                                                                                                                                                                                                                                                                                                                                                                                                                                                                                                                                                                                                                                                                                                                                                                                                                                                                                                                                                                                                                17  \n",
       "comma_cnt                                                                                                                                                                                                                                                                                                                                                                                                                                                                                                                                                                                                                                                                                                                                                                                                                                                                                                                                                                                                                                                                                                                                                                                                                                                                                                                                                                                                                                                                                                                                                                                                                                                                                17  \n",
       "exlaim_cnt                                                                                                                                                                                                                                                                                                                                                                                                                                                                                                                                                                                                                                                                                                                                                                                                                                                                                                                                                                                                                                                                                                                                                                                                                                                                                                                                                                                                                                                                                                                                                                                                                                                                                0  \n",
       "review_text_ner_num        Если стиль вашей поездки в < LOC > -- это шоппинг в < LOC > молле , созерцание фонтана и гастрономический ужин -- не пожалейте денег \" усилить \" все эти ощущения номером с видом на фонтан в отеле < ORG > . Это просто супер . Номера находятся на нижних этажах < LOC > , поэтому вид на фонтан оттуда точно лучше , чем с улицы около , и даже лучше , чем с крыши этого замечательного здания . Лучше , чем из ресторана ... В общем -- самый лучший . Я прямо будильник заводил и выходил смотреть фонтан на балкон ( представления меняются в течение вечера ) . На балконах можно курить , что не может не радовать не расставшихся с этой привычкой . Но такие номера продают только на сайте самого отеля -- у перекупщиков типа < MISC > их нет . В номере мы увидели реально работающий , удобный и функциональный \" умный дом \" -- управление всей электроникой номера с < MISC > . Дизайн -- не просто привлекательный и интересный , но и очень функциональный . Сервис -- честные <NUM> * < MISC > , мальчик на этаже , любой вопрос решается моментально , все очень быстро и ненавязчиво . Шоппинг : до < LOC > Молла идет галерея . Ребята-сотрудники отеля помогут понести сумки и даже за вас их в отель отнесут , если не боитесь доверять ценный груз ) ) Смотровая площадка : билет продается без очереди прямо в отеле , но чтобы попасть на нее надо <NUM> раза пройти по галерее : туда и обратно , так как контроль безопасности находится со стороны < LOC > молла . < LOC > -- не нашли к чему придраться , все вкусно , сервис прекрасный . Общий вывод : если опять окажемся в < LOC > транзитом -- без вариантов , снова сюда .  \n",
       "num_cnt                                                                                                                                                                                                                                                                                                                                                                                                                                                                                                                                                                                                                                                                                                                                                                                                                                                                                                                                                                                                                                                                                                                                                                                                                                                                                                                                                                                                                                                                                                                                                                                                                                                                                   2  \n",
       "review_text_ner_num_clean                                                                                                                                                 если стиль вашей поездки в <loc> это шоппинг в <loc> молле созерцание фонтана и гастрономический ужин не пожалейте денег усилить все эти ощущения номером с видом на фонтан в отеле <org> это просто супер номера находятся на нижних этажах <loc> поэтому вид на фонтан оттуда точно лучше чем с улицы около и даже лучше чем с крыши этого замечательного здания лучше чем из ресторана в общем самый лучший я прямо будильник заводил и выходил смотреть фонтан на балкон представления меняются в течение вечера на балконах можно курить что не может не радовать не расставшихся с этой привычкой но такие номера продают только на сайте самого отеля у перекупщиков типа <misc> их нет в номере мы увидели реально работающий удобный и функциональный умный дом управление всей электроникой номера с <misc> дизайн не просто привлекательный и интересный но и очень функциональный сервис честные <num> <misc> мальчик на этаже любой вопрос решается моментально все очень быстро и ненавязчиво шоппинг до <loc> молла идет галерея ребята сотрудники отеля помогут понести сумки и даже за вас их в отель отнесут если не боитесь доверять ценный груз смотровая площадка билет продается без очереди прямо в отеле но чтобы попасть на нее надо <num> раза пройти по галерее туда и обратно так как контроль безопасности находится со стороны <loc> молла <loc> не нашли к чему придраться все вкусно сервис прекрасный общий вывод если опять окажемся в <loc> транзитом без вариантов снова сюда  \n",
       "lemmatized                                                                                                                                                                                              если стиль ваш поездка в <loc> это шопинг в <loc> молл созерцание фонтан и гастрономический ужин не пожалеть деньга усилить весь этот ощущение номер с вид на фонтан в отель <org> это просто супер номер находиться на нижний этаж <loc> поэтому вид на фонтан оттуда точно хороший чем с улица около и даже хороший чем с крыша это замечательный здание лучше чем из ресторан в общий самый хороший я прямо будильник заводить и выходить смотреть фонтан на балкон представление меняться в течение вечер на балкон можно курить что не мочь не радовать не расстаться с этот привычка но такой номер продавать только на сайт сам отель у перекупщик тип <misc> они нет в номер мы увидеть реально работать удобный и функциональный умный дом управление весь электроника номер с <misc> дизайн не просто привлекательный и интересный но и очень функциональный сервис честные <num> <misc> мальчик на этаж любой вопрос решаться моментально весь очень быстро и ненавязчиво шопинг до <loc> молл идти галерея ребята сотрудник отель помочь понести сумка и даже за вы они в отель отнести если не бояться доверять ценный груз смотровой площадка билет продаваться без очередь прямо в отель но чтобы попасть на она надо <num> раз пройти по галерея туда и обратно так как контроль безопасность находиться с сторона <loc> молл <loc> не найти к что придраться весь вкусно сервис прекрасный общий вывод если опять оказаться в <loc> транзит без вариант снова сюда  \n",
       "free_stop_words                                                                                                                                                                                                                                                                                                                                                                                                                                                                стиль ваш поездка <loc> это шопинг <loc> молл созерцание фонтан гастрономический ужин пожалеть деньга усилить весь ощущение номер вид фонтан отель <org> это просто супер номер находиться нижний этаж <loc> поэтому вид фонтан оттуда точно хороший улица около хороший крыша это замечательный здание ресторан общий самый хороший прямо будильник заводить выходить смотреть фонтан балкон представление меняться течение вечер балкон курить мочь радовать расстаться привычка номер продавать сайт отель перекупщик тип <misc> номер увидеть реально работать удобный функциональный умный дом управление весь электроника номер <misc> дизайн просто привлекательный интересный очень функциональный сервис честные <num> <misc> мальчик этаж любой вопрос решаться моментально весь очень быстро ненавязчиво шопинг <loc> молл идти галерея ребята сотрудник отель помочь понести сумка отель отнести бояться доверять ценный груз смотровой площадка билет продаваться очередь прямо отель попасть <num> пройти галерея туда обратно контроль безопасность находиться сторона <loc> молл <loc> найти придраться весь вкусно сервис прекрасный общий вывод оказаться <loc> транзит вариант снова сюда  "
      ]
     },
     "execution_count": 33,
     "metadata": {},
     "output_type": "execute_result"
    }
   ],
   "source": [
    "df_raw.head(2).T"
   ]
  },
  {
   "cell_type": "markdown",
   "metadata": {},
   "source": [
    "### 9. Add more numerical features"
   ]
  },
  {
   "cell_type": "code",
   "execution_count": 40,
   "metadata": {},
   "outputs": [],
   "source": [
    "df_raw[\"len_in_symbols\"] = df_raw[\"review_text\"].apply(len)\n",
    "df_raw[\"len_in_words\"] = df_raw[\"review_text\"].apply(lambda x: len(x.split()))\n",
    "df_raw[\"avr_len_words\"] = df_raw[\"len_in_symbols\"] / df_raw[\"len_in_words\"]"
   ]
  },
  {
   "cell_type": "markdown",
   "metadata": {},
   "source": [
    "### 10. Save all and final result"
   ]
  },
  {
   "cell_type": "code",
   "execution_count": 36,
   "metadata": {},
   "outputs": [],
   "source": [
    "df_raw.rename(columns={\"free_stop_words\": \"normalized_review_text\"}, inplace=True)"
   ]
  },
  {
   "cell_type": "code",
   "execution_count": 42,
   "metadata": {},
   "outputs": [],
   "source": [
    "# Save data in interim\n",
    "save_path = project_root / \"data\" / \"interim\"\n",
    "save_path.mkdir(parents=True, exist_ok=True)  # Создаст директории, если их нет\n",
    "\n",
    "df_raw.to_parquet(save_path / \"normalized_full_data.parquet\", index=False)\n",
    "# df_raw = pd.read_parquet(save_path / \"normalized_data.parquet\")"
   ]
  },
  {
   "cell_type": "code",
   "execution_count": 43,
   "metadata": {},
   "outputs": [],
   "source": [
    "columns = [\n",
    "    \"review_id\",\n",
    "    \"review_text\",\n",
    "    \"normalized_review_text\",\n",
    "    \"loc_count\",\n",
    "    \"org_count\",\n",
    "    \"misc_count\",\n",
    "    \"per_count\",\n",
    "    \"right_parenthesis_cnt\",\n",
    "    \"left_parenthesis_cnt\",\n",
    "    \"point_cnt\",\n",
    "    \"comma_cnt\",\n",
    "    \"exlaim_cnt\",\n",
    "    \"num_cnt\",\n",
    "    \"len_in_symbols\",\n",
    "    \"len_in_words\",\n",
    "    \"avr_len_words\",\n",
    "]\n",
    "# Save data in interim\n",
    "save_path = project_root / \"data\" / \"interim\"\n",
    "save_path.mkdir(parents=True, exist_ok=True)  # Создаст директории, если их нет\n",
    "\n",
    "df_raw[columns].to_parquet(save_path / \"normalized_final_review_text.parquet\", index=False)\n",
    "# df_raw = pd.read_parquet(save_path / \"normalized_data.parquet\")"
   ]
  },
  {
   "cell_type": "code",
   "execution_count": 44,
   "metadata": {},
   "outputs": [
    {
     "data": {
      "text/html": [
       "<div>\n",
       "<style scoped>\n",
       "    .dataframe tbody tr th:only-of-type {\n",
       "        vertical-align: middle;\n",
       "    }\n",
       "\n",
       "    .dataframe tbody tr th {\n",
       "        vertical-align: top;\n",
       "    }\n",
       "\n",
       "    .dataframe thead th {\n",
       "        text-align: right;\n",
       "    }\n",
       "</style>\n",
       "<table border=\"1\" class=\"dataframe\">\n",
       "  <thead>\n",
       "    <tr style=\"text-align: right;\">\n",
       "      <th></th>\n",
       "      <th>0</th>\n",
       "    </tr>\n",
       "  </thead>\n",
       "  <tbody>\n",
       "    <tr>\n",
       "      <th>review_id</th>\n",
       "      <td>1</td>\n",
       "    </tr>\n",
       "    <tr>\n",
       "      <th>review_text</th>\n",
       "      <td>Элегантный отель в самом центре Дубай. Красивые и стильные номера. И жуткие цены) До посещения отеля рекомендуется ограбить банк или неожиданно разбогатеть)))Это пишу чтобы набрать 200 символов))))))</td>\n",
       "    </tr>\n",
       "    <tr>\n",
       "      <th>review_text_ner</th>\n",
       "      <td>Элегантный отель в самом центре &lt;LOC&gt;. Красивые и стильные номера. И жуткие цены) До посещения отеля рекомендуется ограбить банк или неожиданно разбогатеть)))Это пишу чтобы набрать 200 символов))))))</td>\n",
       "    </tr>\n",
       "    <tr>\n",
       "      <th>loc_count</th>\n",
       "      <td>1</td>\n",
       "    </tr>\n",
       "    <tr>\n",
       "      <th>org_count</th>\n",
       "      <td>0</td>\n",
       "    </tr>\n",
       "    <tr>\n",
       "      <th>misc_count</th>\n",
       "      <td>0</td>\n",
       "    </tr>\n",
       "    <tr>\n",
       "      <th>per_count</th>\n",
       "      <td>0</td>\n",
       "    </tr>\n",
       "    <tr>\n",
       "      <th>right_parenthesis_cnt</th>\n",
       "      <td>10</td>\n",
       "    </tr>\n",
       "    <tr>\n",
       "      <th>left_parenthesis_cnt</th>\n",
       "      <td>0</td>\n",
       "    </tr>\n",
       "    <tr>\n",
       "      <th>point_cnt</th>\n",
       "      <td>2</td>\n",
       "    </tr>\n",
       "    <tr>\n",
       "      <th>comma_cnt</th>\n",
       "      <td>2</td>\n",
       "    </tr>\n",
       "    <tr>\n",
       "      <th>exlaim_cnt</th>\n",
       "      <td>0</td>\n",
       "    </tr>\n",
       "    <tr>\n",
       "      <th>review_text_ner_num</th>\n",
       "      <td>Элегантный отель в самом центре &lt; LOC &gt; . Красивые и стильные номера . И жуткие цены ) До посещения отеля рекомендуется ограбить банк или неожиданно разбогатеть ) ) ) Это пишу чтобы набрать &lt;NUM&gt; символов ) ) ) ) ) )</td>\n",
       "    </tr>\n",
       "    <tr>\n",
       "      <th>num_cnt</th>\n",
       "      <td>1</td>\n",
       "    </tr>\n",
       "    <tr>\n",
       "      <th>review_text_ner_num_clean</th>\n",
       "      <td>элегантный отель в самом центре &lt;loc&gt; красивые и стильные номера и жуткие цены до посещения отеля рекомендуется ограбить банк или неожиданно разбогатеть это пишу чтобы набрать &lt;num&gt; символов</td>\n",
       "    </tr>\n",
       "    <tr>\n",
       "      <th>lemmatized</th>\n",
       "      <td>элегантный отель в сам центр &lt;loc&gt; красивый и стильный номер и жуткий цена до посещение отель рекомендоваться ограбить банк или неожиданно разбогатеть это писать чтобы набрать &lt;num&gt; символ</td>\n",
       "    </tr>\n",
       "    <tr>\n",
       "      <th>normalized_review_text</th>\n",
       "      <td>элегантный отель центр &lt;loc&gt; красивый стильный номер жуткий цена посещение отель рекомендоваться ограбить банк неожиданно разбогатеть это писать набрать &lt;num&gt; символ</td>\n",
       "    </tr>\n",
       "    <tr>\n",
       "      <th>len_in_symbols</th>\n",
       "      <td>199</td>\n",
       "    </tr>\n",
       "    <tr>\n",
       "      <th>len_in_words</th>\n",
       "      <td>27</td>\n",
       "    </tr>\n",
       "    <tr>\n",
       "      <th>avr_len_words</th>\n",
       "      <td>7.37037</td>\n",
       "    </tr>\n",
       "  </tbody>\n",
       "</table>\n",
       "</div>"
      ],
      "text/plain": [
       "                                                                                                                                                                                                                                                  0\n",
       "review_id                                                                                                                                                                                                                                         1\n",
       "review_text                                 Элегантный отель в самом центре Дубай. Красивые и стильные номера. И жуткие цены) До посещения отеля рекомендуется ограбить банк или неожиданно разбогатеть)))Это пишу чтобы набрать 200 символов))))))\n",
       "review_text_ner                             Элегантный отель в самом центре <LOC>. Красивые и стильные номера. И жуткие цены) До посещения отеля рекомендуется ограбить банк или неожиданно разбогатеть)))Это пишу чтобы набрать 200 символов))))))\n",
       "loc_count                                                                                                                                                                                                                                         1\n",
       "org_count                                                                                                                                                                                                                                         0\n",
       "misc_count                                                                                                                                                                                                                                        0\n",
       "per_count                                                                                                                                                                                                                                         0\n",
       "right_parenthesis_cnt                                                                                                                                                                                                                            10\n",
       "left_parenthesis_cnt                                                                                                                                                                                                                              0\n",
       "point_cnt                                                                                                                                                                                                                                         2\n",
       "comma_cnt                                                                                                                                                                                                                                         2\n",
       "exlaim_cnt                                                                                                                                                                                                                                        0\n",
       "review_text_ner_num        Элегантный отель в самом центре < LOC > . Красивые и стильные номера . И жуткие цены ) До посещения отеля рекомендуется ограбить банк или неожиданно разбогатеть ) ) ) Это пишу чтобы набрать <NUM> символов ) ) ) ) ) )\n",
       "num_cnt                                                                                                                                                                                                                                           1\n",
       "review_text_ner_num_clean                            элегантный отель в самом центре <loc> красивые и стильные номера и жуткие цены до посещения отеля рекомендуется ограбить банк или неожиданно разбогатеть это пишу чтобы набрать <num> символов\n",
       "lemmatized                                             элегантный отель в сам центр <loc> красивый и стильный номер и жуткий цена до посещение отель рекомендоваться ограбить банк или неожиданно разбогатеть это писать чтобы набрать <num> символ\n",
       "normalized_review_text                                                        элегантный отель центр <loc> красивый стильный номер жуткий цена посещение отель рекомендоваться ограбить банк неожиданно разбогатеть это писать набрать <num> символ\n",
       "len_in_symbols                                                                                                                                                                                                                                  199\n",
       "len_in_words                                                                                                                                                                                                                                     27\n",
       "avr_len_words                                                                                                                                                                                                                               7.37037"
      ]
     },
     "execution_count": 44,
     "metadata": {},
     "output_type": "execute_result"
    }
   ],
   "source": [
    "df_raw.head(1).T"
   ]
  }
 ],
 "metadata": {
  "kernelspec": {
   "display_name": ".venv",
   "language": "python",
   "name": "python3"
  },
  "language_info": {
   "codemirror_mode": {
    "name": "ipython",
    "version": 3
   },
   "file_extension": ".py",
   "mimetype": "text/x-python",
   "name": "python",
   "nbconvert_exporter": "python",
   "pygments_lexer": "ipython3",
   "version": "3.11.5"
  }
 },
 "nbformat": 4,
 "nbformat_minor": 2
}
